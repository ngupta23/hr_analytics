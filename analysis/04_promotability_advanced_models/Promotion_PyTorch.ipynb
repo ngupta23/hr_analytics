{
 "cells": [
  {
   "cell_type": "markdown",
   "metadata": {},
   "source": [
    "# <font color = red> Check the following for a more modular way to run on GPU </font>\n",
    "\n",
    "**Education/MOOC/DL_PyTorch/MyNotes/03_MNIST_usingANN.ipynb**"
   ]
  },
  {
   "cell_type": "code",
   "execution_count": 1,
   "metadata": {},
   "outputs": [],
   "source": [
    "import torch\n",
    "import torch.nn as nn\n",
    "from torch.utils.data import Dataset\n",
    "from torch.utils.data import DataLoader  # lets us load data in batches\n",
    "\n",
    "import numpy as np\n",
    "import pandas as pd\n",
    "import matplotlib.pyplot as plt\n",
    "from sklearn.utils import shuffle\n",
    "%matplotlib inline"
   ]
  },
  {
   "cell_type": "code",
   "execution_count": 2,
   "metadata": {},
   "outputs": [],
   "source": [
    "# Reading data \n",
    "df = pd.read_csv(\"../../SMU_DS7331_Promotions_final/data/data_for_classification.csv\")"
   ]
  },
  {
   "cell_type": "markdown",
   "metadata": {},
   "source": [
    "## 1. Data Cleanup\n",
    "\n",
    "**This is the same preprocesing that was done in Lab2 for SMU - DS7331 (Machine Learning 1 class). Please refer to that notebook for detailed explanation of what is being done.**"
   ]
  },
  {
   "cell_type": "markdown",
   "metadata": {},
   "source": [
    "### 1.1 Remove Null Values"
   ]
  },
  {
   "cell_type": "code",
   "execution_count": 3,
   "metadata": {},
   "outputs": [
    {
     "name": "stdout",
     "output_type": "stream",
     "text": [
      "reporting_level_last                 14\n",
      "accountability_matrix_label_last      3\n",
      "functional_area_last                  3\n",
      "job_family_label_last                 5\n",
      "job_long_text_last                    6\n",
      "operational_rollup_label_last       191\n",
      "org_unit_desc_last                   44\n",
      "dtype: int64\n"
     ]
    }
   ],
   "source": [
    "null_vals = df.isnull().sum(axis = 0)\n",
    "print(null_vals[null_vals != 0])\n",
    "df.dropna(inplace=True)"
   ]
  },
  {
   "cell_type": "markdown",
   "metadata": {},
   "source": [
    "### 1.2 Remvove categorical variables with large number of levels \n",
    "**May reconsider later if using enbeddings in the NN**"
   ]
  },
  {
   "cell_type": "code",
   "execution_count": 4,
   "metadata": {},
   "outputs": [
    {
     "data": {
      "text/plain": [
       "Index(['worker', 'accountability_matrix_label_last', 'company_code_last',\n",
       "       'cost_center_code_last', 'functional_area_last', 'supervisor_last',\n",
       "       'gjs_code_label_last', 'gjs_framework_last', 'job_family_label_last',\n",
       "       'job_long_text_last', 'operational_rollup_label_last',\n",
       "       'org_unit_desc_last', 'site_city_code_last', 'site_country_code_last',\n",
       "       'site_country_region_last', 'site_country_segment_last',\n",
       "       'site_desc_last', 'certificate_order_grp_last'],\n",
       "      dtype='object')"
      ]
     },
     "execution_count": 4,
     "metadata": {},
     "output_type": "execute_result"
    }
   ],
   "source": [
    "categorical_features = df.select_dtypes(include='object').columns\n",
    "categorical_features"
   ]
  },
  {
   "cell_type": "code",
   "execution_count": 5,
   "metadata": {},
   "outputs": [
    {
     "name": "stdout",
     "output_type": "stream",
     "text": [
      "The number of levels in column 'worker': 66927\n",
      "The number of levels in column 'accountability_matrix_label_last': 29\n",
      "The number of levels in column 'company_code_last': 50\n",
      "The number of levels in column 'cost_center_code_last': 1943\n",
      "The number of levels in column 'functional_area_last': 3\n",
      "The number of levels in column 'supervisor_last': 9755\n",
      "The number of levels in column 'gjs_code_label_last': 43\n",
      "The number of levels in column 'gjs_framework_last': 9\n",
      "The number of levels in column 'job_family_label_last': 199\n",
      "The number of levels in column 'job_long_text_last': 1506\n",
      "The number of levels in column 'operational_rollup_label_last': 162\n",
      "The number of levels in column 'org_unit_desc_last': 8342\n",
      "The number of levels in column 'site_city_code_last': 224\n",
      "The number of levels in column 'site_country_code_last': 28\n",
      "The number of levels in column 'site_country_region_last': 3\n",
      "The number of levels in column 'site_country_segment_last': 11\n",
      "The number of levels in column 'site_desc_last': 318\n",
      "The number of levels in column 'certificate_order_grp_last': 14\n"
     ]
    }
   ],
   "source": [
    "for column in categorical_features:\n",
    "    if column in df.columns:\n",
    "        print (\"The number of levels in column '{}': {}\".format(column,df[column].nunique()))"
   ]
  },
  {
   "cell_type": "code",
   "execution_count": 6,
   "metadata": {},
   "outputs": [],
   "source": [
    "cols_to_del = [\"supervisor_last\"\n",
    "               ,\"org_unit_desc_last\"\n",
    "               ,\"cost_center_code_last\"\n",
    "               ,\"job_long_text_last\"\n",
    "               ,\"site_city_code_last\"\n",
    "               ,\"site_desc_last\"  \n",
    "               ,\"year_last\"\n",
    "               ,\"month_num_last\"\n",
    "               ,'months_since_promotion_max'\n",
    "               ,\"worker\"\n",
    "               ,\"Unnamed: 0\"\n",
    "                ]\n",
    "for column in df.columns:\n",
    "    if column in cols_to_del:\n",
    "        del df[column]"
   ]
  },
  {
   "cell_type": "code",
   "execution_count": 7,
   "metadata": {},
   "outputs": [
    {
     "name": "stdout",
     "output_type": "stream",
     "text": [
      "The number of levels in column 'accountability_matrix_label_last': 29\n",
      "The number of levels in column 'company_code_last': 50\n",
      "The number of levels in column 'functional_area_last': 3\n",
      "The number of levels in column 'gjs_code_label_last': 43\n",
      "The number of levels in column 'gjs_framework_last': 9\n",
      "The number of levels in column 'job_family_label_last': 199\n",
      "The number of levels in column 'operational_rollup_label_last': 162\n",
      "The number of levels in column 'site_country_code_last': 28\n",
      "The number of levels in column 'site_country_region_last': 3\n",
      "The number of levels in column 'site_country_segment_last': 11\n",
      "The number of levels in column 'certificate_order_grp_last': 14\n"
     ]
    }
   ],
   "source": [
    "categorical_features = df.select_dtypes(include='object').columns\n",
    "for column in categorical_features:\n",
    "    if column in df.columns:\n",
    "        print (\"The number of levels in column '{}': {}\".format(column,df[column].nunique()))"
   ]
  },
  {
   "cell_type": "code",
   "execution_count": 8,
   "metadata": {},
   "outputs": [],
   "source": [
    "#df.info()"
   ]
  },
  {
   "cell_type": "markdown",
   "metadata": {},
   "source": [
    "## 2. Modeling"
   ]
  },
  {
   "cell_type": "markdown",
   "metadata": {},
   "source": [
    "### 2.1 Separate continuous, categorical and label column names"
   ]
  },
  {
   "cell_type": "code",
   "execution_count": 9,
   "metadata": {},
   "outputs": [
    {
     "data": {
      "text/plain": [
       "array(['accountability_matrix_label_last', 'company_code_last',\n",
       "       'functional_area_last', 'gjs_code_label_last',\n",
       "       'gjs_framework_last', 'job_family_label_last',\n",
       "       'operational_rollup_label_last', 'site_country_code_last',\n",
       "       'site_country_region_last', 'site_country_segment_last',\n",
       "       'certificate_order_grp_last'], dtype=object)"
      ]
     },
     "execution_count": 9,
     "metadata": {},
     "output_type": "execute_result"
    }
   ],
   "source": [
    "categorical_features.values"
   ]
  },
  {
   "cell_type": "code",
   "execution_count": 10,
   "metadata": {},
   "outputs": [
    {
     "name": "stdout",
     "output_type": "stream",
     "text": [
      "cat_cols  has 11 columns\n",
      "cont_cols has 51 columns\n",
      "y_col     has 1 column\n"
     ]
    }
   ],
   "source": [
    "cat_cols = list(categorical_features.values)\n",
    "y_col = ['promotion_max']  # this column contains the labels\n",
    "cont_cols = [col for col in df.columns if col not in cat_cols + y_col]\n",
    "\n",
    "# RUN THIS CODE TO COMPARE RESULTS:\n",
    "print(f'cat_cols  has {len(cat_cols)} columns')\n",
    "print(f'cont_cols has {len(cont_cols)} columns')\n",
    "print(f'y_col     has {len(y_col)} column')"
   ]
  },
  {
   "cell_type": "markdown",
   "metadata": {},
   "source": [
    "### 2.2 Random Shuffle (Good Practice)"
   ]
  },
  {
   "cell_type": "code",
   "execution_count": 11,
   "metadata": {},
   "outputs": [],
   "source": [
    "df = shuffle(df, random_state=101)\n",
    "df.reset_index(drop=True, inplace=True)"
   ]
  },
  {
   "cell_type": "markdown",
   "metadata": {},
   "source": [
    "### 2.3 Set the embedding sizes"
   ]
  },
  {
   "cell_type": "code",
   "execution_count": 12,
   "metadata": {},
   "outputs": [],
   "source": [
    "# Converting categorical columns to category dtypes\n",
    "for cat in cat_cols:\n",
    "    df[cat] = df[cat].astype('category')"
   ]
  },
  {
   "cell_type": "code",
   "execution_count": 13,
   "metadata": {},
   "outputs": [
    {
     "name": "stdout",
     "output_type": "stream",
     "text": [
      "[(29, 15), (50, 25), (3, 2), (43, 22), (9, 5), (199, 50), (162, 50), (28, 14), (3, 2), (11, 6), (14, 7)]\n"
     ]
    }
   ],
   "source": [
    "cat_szs = [len(df[col].cat.categories) for col in cat_cols]\n",
    "emb_szs = [(size, min(50, (size+1)//2)) for size in cat_szs]\n",
    "print(emb_szs)"
   ]
  },
  {
   "cell_type": "markdown",
   "metadata": {},
   "source": [
    "### 2.4 Create Categorical and Continuous Tensors"
   ]
  },
  {
   "cell_type": "code",
   "execution_count": 14,
   "metadata": {},
   "outputs": [],
   "source": [
    "#### Create an array of categorical values and convert to tensors\n",
    "cats = np.stack([df[col].cat.codes.values for col in cat_cols], 1)\n",
    "cats = torch.tensor(cats, dtype=torch.int64) "
   ]
  },
  {
   "cell_type": "code",
   "execution_count": 15,
   "metadata": {},
   "outputs": [],
   "source": [
    "#### Create an array of continuous values and convert to tensors\n",
    "conts = np.stack([df[col].values for col in cont_cols], 1)\n",
    "conts = torch.tensor(conts, dtype=torch.float)"
   ]
  },
  {
   "cell_type": "code",
   "execution_count": 16,
   "metadata": {},
   "outputs": [
    {
     "data": {
      "text/plain": [
       "tensor([0, 0, 0,  ..., 0, 0, 0])"
      ]
     },
     "execution_count": 16,
     "metadata": {},
     "output_type": "execute_result"
    }
   ],
   "source": [
    "### Create a label tensor\n",
    "y = torch.tensor(df[y_col].values).flatten()\n",
    "y"
   ]
  },
  {
   "cell_type": "markdown",
   "metadata": {},
   "source": [
    "### 2.5 Create Train Test Datasets"
   ]
  },
  {
   "cell_type": "code",
   "execution_count": 17,
   "metadata": {},
   "outputs": [
    {
     "name": "stdout",
     "output_type": "stream",
     "text": [
      "Total Size: 94108\n",
      "Train Size: 75287\n",
      "Test Size: 18821\n"
     ]
    }
   ],
   "source": [
    "#### 9.0 Create train and test sets from cats, conts, and y\n",
    "total_size = cats.shape[0]\n",
    "test_size = int(cats.shape[0] * 0.2)  # 20% for test\n",
    "\n",
    "print(\"Total Size: {}\".format(total_size))\n",
    "print(\"Train Size: {}\".format(total_size-test_size))\n",
    "print(\"Test Size: {}\".format(test_size))\n",
    "\n"
   ]
  },
  {
   "cell_type": "code",
   "execution_count": 18,
   "metadata": {},
   "outputs": [],
   "source": [
    "cat_train = cats[:total_size-test_size].cuda()\n",
    "cat_test = cats[total_size-test_size:total_size].cuda()\n",
    "con_train = conts[:total_size-test_size].cuda()\n",
    "con_test = conts[total_size-test_size:total_size].cuda()\n",
    "y_train = y[:total_size-test_size].cuda()\n",
    "y_test = y[total_size-test_size:total_size].cuda()"
   ]
  },
  {
   "cell_type": "markdown",
   "metadata": {},
   "source": [
    "#### 2.5.1 Custom Dataset"
   ]
  },
  {
   "cell_type": "code",
   "execution_count": 19,
   "metadata": {},
   "outputs": [],
   "source": [
    "class DatasetTabular(Dataset):\n",
    "    \n",
    "    def __init__(self, cats=None, conts=None, y=None, transform=None):\n",
    "        \"\"\"\n",
    "        cats = Tensor for all categorical features\n",
    "        consts = Tensor of all continuous features\n",
    "        y = tensor of all labels\n",
    "        \"\"\"\n",
    "        self.cats = cats\n",
    "        self.conts = conts\n",
    "        self.y = y\n",
    "        self.transform = transform\n",
    "        \n",
    "    def __len__(self):\n",
    "        if self.cats is not None:\n",
    "            return len(self.cats)\n",
    "        elif self.conts is not None:\n",
    "            return len(self.conts)\n",
    "                \n",
    "    def __getitem__(self, index):\n",
    "        cat = self.cats[index]\n",
    "        cont = self.conts[index]\n",
    "        label = self.y[index]\n",
    "        \n",
    "        if self.transform is not None:\n",
    "            image = self.transform(image)\n",
    "            \n",
    "        return cat, cont, label"
   ]
  },
  {
   "cell_type": "code",
   "execution_count": 20,
   "metadata": {},
   "outputs": [],
   "source": [
    "train_data = DatasetTabular(cat_train, con_train, y_train)\n",
    "test_data = DatasetTabular(cat_test, con_test, y_test)"
   ]
  },
  {
   "cell_type": "markdown",
   "metadata": {},
   "source": [
    "#### 2.5.2 Data Loader"
   ]
  },
  {
   "cell_type": "code",
   "execution_count": 21,
   "metadata": {},
   "outputs": [],
   "source": [
    "torch.manual_seed(101)  # for consistent results\n",
    "train_loader = DataLoader(train_data, batch_size=128, shuffle=True)\n",
    "test_loader = DataLoader(test_data, batch_size=512, shuffle=False)"
   ]
  },
  {
   "cell_type": "markdown",
   "metadata": {},
   "source": [
    "### 2.6 Define the Tabular Model Class"
   ]
  },
  {
   "cell_type": "code",
   "execution_count": 22,
   "metadata": {},
   "outputs": [],
   "source": [
    "class TabularModel(nn.Module):\n",
    "\n",
    "    def __init__(self, emb_szs, n_cont, out_sz, layers, p=0.5):\n",
    "        # Call the parent __init__\n",
    "        super().__init__()\n",
    "        \n",
    "        # Set up the embedding, dropout, and batch normalization layer attributes\n",
    "        self.embeds = nn.ModuleList([nn.Embedding(ni, nf) for ni,nf in emb_szs])\n",
    "        self.emb_drop = nn.Dropout(p)\n",
    "        self.bn_cont = nn.BatchNorm1d(n_cont)\n",
    "        \n",
    "        # Assign a variable to hold a list of layers\n",
    "        layerlist = []\n",
    "        \n",
    "        # Assign a variable to store the number of embedding and continuous layers\n",
    "        n_emb = sum((nf for ni,nf in emb_szs))\n",
    "        n_in = n_emb + n_cont\n",
    "        \n",
    "        # Iterate through the passed-in \"layers\" parameter (ie, [200,100]) to build a list of layers\n",
    "        for i in layers:\n",
    "            layerlist.append(nn.Linear(n_in,i)) \n",
    "            layerlist.append(nn.ReLU(inplace=True))\n",
    "            layerlist.append(nn.BatchNorm1d(i))\n",
    "            layerlist.append(nn.Dropout(p))\n",
    "            n_in = i\n",
    "        layerlist.append(nn.Linear(layers[-1],out_sz))\n",
    "        \n",
    "        # Convert the list of layers into an attribute\n",
    "        self.layers = nn.Sequential(*layerlist)\n",
    "    \n",
    "    def forward(self, x_cat, x_cont):\n",
    "        # Extract embedding values from the incoming categorical data\n",
    "        embeddings = []\n",
    "        for i,e in enumerate(self.embeds):\n",
    "            embeddings.append(e(x_cat[:,i]))\n",
    "        x = torch.cat(embeddings, 1)\n",
    "        # Perform an initial dropout on the embeddings\n",
    "        x = self.emb_drop(x)\n",
    "        \n",
    "        # Normalize the incoming continuous data\n",
    "        x_cont = self.bn_cont(x_cont)\n",
    "        x = torch.cat([x, x_cont], 1)\n",
    "        \n",
    "        # Set up model layers\n",
    "        x = self.layers(x)\n",
    "        return x"
   ]
  },
  {
   "cell_type": "code",
   "execution_count": 23,
   "metadata": {},
   "outputs": [
    {
     "data": {
      "text/plain": [
       "TabularModel(\n",
       "  (embeds): ModuleList(\n",
       "    (0): Embedding(29, 15)\n",
       "    (1): Embedding(50, 25)\n",
       "    (2): Embedding(3, 2)\n",
       "    (3): Embedding(43, 22)\n",
       "    (4): Embedding(9, 5)\n",
       "    (5): Embedding(199, 50)\n",
       "    (6): Embedding(162, 50)\n",
       "    (7): Embedding(28, 14)\n",
       "    (8): Embedding(3, 2)\n",
       "    (9): Embedding(11, 6)\n",
       "    (10): Embedding(14, 7)\n",
       "  )\n",
       "  (emb_drop): Dropout(p=0.1)\n",
       "  (bn_cont): BatchNorm1d(51, eps=1e-05, momentum=0.1, affine=True, track_running_stats=True)\n",
       "  (layers): Sequential(\n",
       "    (0): Linear(in_features=249, out_features=200, bias=True)\n",
       "    (1): ReLU(inplace)\n",
       "    (2): BatchNorm1d(200, eps=1e-05, momentum=0.1, affine=True, track_running_stats=True)\n",
       "    (3): Dropout(p=0.1)\n",
       "    (4): Linear(in_features=200, out_features=100, bias=True)\n",
       "    (5): ReLU(inplace)\n",
       "    (6): BatchNorm1d(100, eps=1e-05, momentum=0.1, affine=True, track_running_stats=True)\n",
       "    (7): Dropout(p=0.1)\n",
       "    (8): Linear(in_features=100, out_features=50, bias=True)\n",
       "    (9): ReLU(inplace)\n",
       "    (10): BatchNorm1d(50, eps=1e-05, momentum=0.1, affine=True, track_running_stats=True)\n",
       "    (11): Dropout(p=0.1)\n",
       "    (12): Linear(in_features=50, out_features=10, bias=True)\n",
       "    (13): ReLU(inplace)\n",
       "    (14): BatchNorm1d(10, eps=1e-05, momentum=0.1, affine=True, track_running_stats=True)\n",
       "    (15): Dropout(p=0.1)\n",
       "    (16): Linear(in_features=10, out_features=2, bias=True)\n",
       "  )\n",
       ")"
      ]
     },
     "execution_count": 23,
     "metadata": {},
     "output_type": "execute_result"
    }
   ],
   "source": [
    "torch.manual_seed(33)\n",
    "model = TabularModel(emb_szs=emb_szs,\n",
    "                     n_cont=conts.shape[1],\n",
    "                     out_sz=2, # There are 2 class levels\n",
    "                     layers=[200,100,50,10],\n",
    "                     p=0.1) \n",
    "\n",
    "# NOTE: For this dataset, reducing probability of dropout might improve train and test accuracy further\n",
    "\n",
    "model"
   ]
  },
  {
   "cell_type": "code",
   "execution_count": 24,
   "metadata": {},
   "outputs": [
    {
     "data": {
      "text/plain": [
       "True"
      ]
     },
     "execution_count": 24,
     "metadata": {},
     "output_type": "execute_result"
    }
   ],
   "source": [
    "# Check availability\n",
    "if torch.cuda.is_available():\n",
    "    model = model.cuda()\n",
    "\n",
    "next(model.parameters()).is_cuda # Need to send model to GPU as well."
   ]
  },
  {
   "cell_type": "markdown",
   "metadata": {},
   "source": [
    "### 2.7 Define the loss and optimization functions"
   ]
  },
  {
   "cell_type": "code",
   "execution_count": 25,
   "metadata": {},
   "outputs": [],
   "source": [
    "criterion = nn.CrossEntropyLoss()  \n",
    "optimizer = torch.optim.Adam(model.parameters(), lr=0.001)"
   ]
  },
  {
   "cell_type": "markdown",
   "metadata": {},
   "source": [
    "### 2.8 Train the Model"
   ]
  },
  {
   "cell_type": "code",
   "execution_count": 26,
   "metadata": {},
   "outputs": [],
   "source": [
    "# # Example 1 of how to use train loader\n",
    "# for i_batch, sample_batched in enumerate(train_loader):\n",
    "#     break\n",
    "    \n",
    "# print(\"Batch: {}\".format(i_batch))\n",
    "# print(\"Categorical Variables in batch:  {}\".format(sample_batched[0].size())) # Categorical Variables\n",
    "# print(\"Continuous in batch:             {}\".format(sample_batched[1].size())) # Continuous Variables\n",
    "# print(\"Dependent Variables in batch:    {}\".format(sample_batched[2].size())) # Labels"
   ]
  },
  {
   "cell_type": "code",
   "execution_count": 27,
   "metadata": {},
   "outputs": [],
   "source": [
    "# # Example 2 of how to use train loader\n",
    "# for i_batch, (cat_train, con_train, y_train) in enumerate(train_loader):\n",
    "#     break\n",
    "    \n",
    "# print(\"Batch: {}\".format(i_batch))\n",
    "# print(\"Categorical Variables in batch:  {}\".format(cat_train.size())) # Categorical Variables\n",
    "# print(\"Continuous in batch:             {}\".format(con_train.size())) # Continuous Variables\n",
    "# print(\"Dependent Variables in batch:    {}\".format(y_train.size())) # Labels"
   ]
  },
  {
   "cell_type": "code",
   "execution_count": 28,
   "metadata": {},
   "outputs": [
    {
     "name": "stdout",
     "output_type": "stream",
     "text": [
      "epoch:  1 train_loss: 0.41585 test_loss: 0.44457  train_acc:  73.1% test_acc:  79.7% epoch_duration: 20s\n",
      "epoch:  2 train_loss: 0.49578 test_loss: 0.42185  train_acc:  80.5% test_acc:  81.7% epoch_duration: 18s\n",
      "epoch:  3 train_loss: 0.41309 test_loss: 0.39148  train_acc:  82.4% test_acc:  82.8% epoch_duration: 18s\n",
      "epoch:  4 train_loss: 0.47382 test_loss: 0.33978  train_acc:  83.6% test_acc:  83.8% epoch_duration: 18s\n",
      "epoch:  5 train_loss: 0.31501 test_loss: 0.38104  train_acc:  84.4% test_acc:  84.1% epoch_duration: 17s\n",
      "epoch:  6 train_loss: 0.57996 test_loss: 0.35889  train_acc:  85.2% test_acc:  84.7% epoch_duration: 18s\n",
      "epoch:  7 train_loss: 0.50833 test_loss: 0.31525  train_acc:  85.7% test_acc:  85.1% epoch_duration: 18s\n",
      "epoch:  8 train_loss: 1.19142 test_loss: 0.36237  train_acc:  86.2% test_acc:  85.3% epoch_duration: 18s\n",
      "epoch:  9 train_loss: 0.26956 test_loss: 0.36652  train_acc:  86.5% test_acc:  85.4% epoch_duration: 17s\n",
      "epoch: 10 train_loss: 0.22365 test_loss: 0.35115  train_acc:  87.0% test_acc:  85.4% epoch_duration: 16s\n",
      "epoch: 11 train_loss: 0.35662 test_loss: 0.35145  train_acc:  87.3% test_acc:  85.4% epoch_duration: 16s\n",
      "epoch: 12 train_loss: 0.16974 test_loss: 0.34804  train_acc:  87.4% test_acc:  85.9% epoch_duration: 17s\n",
      "epoch: 13 train_loss: 0.21152 test_loss: 0.32502  train_acc:  88.0% test_acc:  85.7% epoch_duration: 18s\n",
      "epoch: 14 train_loss: 0.18273 test_loss: 0.33145  train_acc:  88.2% test_acc:  86.2% epoch_duration: 18s\n",
      "epoch: 15 train_loss: 0.35431 test_loss: 0.35174  train_acc:  88.4% test_acc:  86.2% epoch_duration: 18s\n",
      "epoch: 16 train_loss: 0.43309 test_loss: 0.33641  train_acc:  88.8% test_acc:  85.6% epoch_duration: 18s\n",
      "epoch: 17 train_loss: 0.26916 test_loss: 0.35906  train_acc:  89.0% test_acc:  86.2% epoch_duration: 16s\n",
      "epoch: 18 train_loss: 0.49952 test_loss: 0.33587  train_acc:  89.1% test_acc:  86.6% epoch_duration: 17s\n",
      "epoch: 19 train_loss: 0.36227 test_loss: 0.34169  train_acc:  89.3% test_acc:  86.1% epoch_duration: 17s\n",
      "epoch: 20 train_loss: 0.26394 test_loss: 0.32511  train_acc:  89.4% test_acc:  86.6% epoch_duration: 18s\n",
      "\n",
      "Duration: 351 seconds\n"
     ]
    }
   ],
   "source": [
    "import time\n",
    "start_time = time.time()\n",
    "\n",
    "epochs = 20\n",
    "train_losses = []\n",
    "test_losses = []\n",
    "train_correct = []\n",
    "test_correct = []\n",
    "\n",
    "for i in range(epochs):\n",
    "    epoch_start_time = time.time()\n",
    "    \n",
    "    trn_corr = 0\n",
    "    tst_corr = 0\n",
    "    \n",
    "    # Run the training batches\n",
    "    for b, (cat_train, con_train, y_train) in enumerate(train_loader):\n",
    "        b+=1\n",
    "        \n",
    "        # Apply the model\n",
    "        y_pred = model(cat_train, con_train)  \n",
    "        loss = criterion(y_pred, y_train)\n",
    " \n",
    "        # Tally the number of correct predictions\n",
    "        predicted = torch.max(y_pred.data, 1)[1]\n",
    "        batch_corr = (predicted == y_train).sum()\n",
    "        trn_corr += batch_corr\n",
    "        \n",
    "        # Update parameters\n",
    "        optimizer.zero_grad()\n",
    "        loss.backward()\n",
    "        optimizer.step()\n",
    "        \n",
    "#         # Print interim results\n",
    "#         if b%200 == 0:\n",
    "#             print(f'epoch: {i:2}  batch: {b:4} loss: {loss.item():10.8f}  \\\n",
    "# train accuracy: {trn_corr.item()*100/(train_loader.batch_size*b):7.3f}%')\n",
    "    \n",
    "    # Update train loss & accuracy for the epoch\n",
    "    train_losses.append(loss)\n",
    "    train_correct.append(trn_corr)\n",
    "        \n",
    "    # Run the testing batches\n",
    "    with torch.no_grad():\n",
    "        for b, (cat_test, con_test, y_test) in enumerate(test_loader):\n",
    "\n",
    "            # Apply the model\n",
    "            y_val = model(cat_test, con_test)  # Here we flatten X_test\n",
    "\n",
    "            # Tally the number of correct predictions\n",
    "            predicted = torch.max(y_val.data, 1)[1] \n",
    "            tst_corr += (predicted == y_test).sum()\n",
    "    \n",
    "    # Update test loss & accuracy for the epoch\n",
    "    tst_loss = criterion(y_val, y_test)\n",
    "    test_losses.append(tst_loss)\n",
    "    test_correct.append(tst_corr)\n",
    "\n",
    "    epoch_duration = time.time() - epoch_start_time \n",
    "    print(f'epoch: {(i+1):2} train_loss: {loss.item():7.5f} test_loss: {tst_loss.item():7.5f}  \\\n",
    "train_acc: {trn_corr.item()*100/(len(train_data)):5.1f}% \\\n",
    "test_acc: {tst_corr.item()*100/(len(test_data)):5.1f}% epoch_duration: {round(epoch_duration)}s')\n",
    "        \n",
    "print(f'\\nDuration: {time.time() - start_time:.0f} seconds') # print the time elapsed     "
   ]
  },
  {
   "cell_type": "markdown",
   "metadata": {},
   "source": [
    "### 2.9 Visualize Training Progress"
   ]
  },
  {
   "cell_type": "code",
   "execution_count": 29,
   "metadata": {},
   "outputs": [
    {
     "data": {
      "image/png": "[encoded data removed]",
      "text/plain": [
       "<Figure size 432x288 with 1 Axes>"
      ]
     },
     "metadata": {
      "needs_background": "light"
     },
     "output_type": "display_data"
    }
   ],
   "source": [
    "plt.plot(train_losses, label='training loss')\n",
    "plt.plot(test_losses, label='validation loss')\n",
    "plt.title('Loss at the end of each epoch')\n",
    "plt.legend();"
   ]
  },
  {
   "cell_type": "code",
   "execution_count": 30,
   "metadata": {},
   "outputs": [
    {
     "data": {
      "image/png": "[encoded data removed]",
      "text/plain": [
       "<Figure size 432x288 with 1 Axes>"
      ]
     },
     "metadata": {
      "needs_background": "light"
     },
     "output_type": "display_data"
    }
   ],
   "source": [
    "plt.plot([t.item()/train_loader.dataset.y.size()[0] * 100 for t in train_correct], label='training accuracy')\n",
    "plt.plot([t.item()/test_loader.dataset.y.size()[0] * 100 for t in test_correct], label='validation accuracy')\n",
    "plt.title('Accuracy at the end of each epoch')\n",
    "plt.legend();"
   ]
  },
  {
   "cell_type": "markdown",
   "metadata": {},
   "source": [
    "### 2.10 Test Data Performance"
   ]
  },
  {
   "cell_type": "code",
   "execution_count": 31,
   "metadata": {},
   "outputs": [],
   "source": [
    "# Extract the data all at once, not in batches\n",
    "test_load_all = DataLoader(test_data, batch_size=len(test_data), shuffle=False)"
   ]
  },
  {
   "cell_type": "code",
   "execution_count": 32,
   "metadata": {},
   "outputs": [
    {
     "name": "stdout",
     "output_type": "stream",
     "text": [
      "Test accuracy: 16325/18821 =  86.738%\n"
     ]
    }
   ],
   "source": [
    "with torch.no_grad():\n",
    "    correct = 0\n",
    "    for cat_test, con_test, y_test in test_load_all:\n",
    "        y_val = model(cat_test, con_test)  # pass in a flattened view of X_test\n",
    "        predicted = torch.max(y_val,1)[1]\n",
    "        correct += (predicted == y_test).sum()\n",
    "        \n",
    "print(f'Test accuracy: {correct.item()}/{len(test_data)} = {correct.item()*100/(len(test_data)):7.3f}%')"
   ]
  },
  {
   "cell_type": "code",
   "execution_count": 33,
   "metadata": {},
   "outputs": [
    {
     "data": {
      "text/plain": [
       "array([[12293,  1143],\n",
       "       [ 1353,  4032]], dtype=int64)"
      ]
     },
     "execution_count": 33,
     "metadata": {},
     "output_type": "execute_result"
    }
   ],
   "source": [
    "from sklearn.metrics import confusion_matrix\n",
    "y_true = y_test.cpu().numpy()\n",
    "y_pred = predicted.cpu().numpy()\n",
    "confusion_matrix(y_true, y_pred)"
   ]
  },
  {
   "cell_type": "code",
   "execution_count": 34,
   "metadata": {},
   "outputs": [
    {
     "name": "stdout",
     "output_type": "stream",
     "text": [
      "[[   0    1]]\n",
      "\n",
      "[[12293 1143]\n",
      " [1353 4032]]\n"
     ]
    }
   ],
   "source": [
    "# Another way to print Confusion Matrix\n",
    "# print a row of values for reference\n",
    "np.set_printoptions(formatter=dict(int=lambda x: f'{x:4}'))\n",
    "print(np.arange(2).reshape(1,-1))\n",
    "print()\n",
    "\n",
    "# print the confusion matrix\n",
    "print(confusion_matrix(y_test.cpu().view(-1), predicted.cpu().view(-1)))"
   ]
  },
  {
   "cell_type": "code",
   "execution_count": 35,
   "metadata": {},
   "outputs": [
    {
     "name": "stdout",
     "output_type": "stream",
     "text": [
      "              precision    recall  f1-score   support\n",
      "\n",
      "           0       0.90      0.91      0.91     13436\n",
      "           1       0.78      0.75      0.76      5385\n",
      "\n",
      "   micro avg       0.87      0.87      0.87     18821\n",
      "   macro avg       0.84      0.83      0.84     18821\n",
      "weighted avg       0.87      0.87      0.87     18821\n",
      "\n"
     ]
    }
   ],
   "source": [
    "from sklearn.metrics import classification_report\n",
    "print(classification_report(y_true, y_pred))"
   ]
  }
 ],
 "metadata": {
  "kernelspec": {
   "display_name": "Python 3",
   "language": "python",
   "name": "python3"
  },
  "language_info": {
   "codemirror_mode": {
    "name": "ipython",
    "version": 3
   },
   "file_extension": ".py",
   "mimetype": "text/x-python",
   "name": "python",
   "nbconvert_exporter": "python",
   "pygments_lexer": "ipython3",
   "version": "3.6.9"
  }
 },
 "nbformat": 4,
 "nbformat_minor": 4
}
