{
 "cells": [
  {
   "cell_type": "code",
   "execution_count": 1,
   "metadata": {},
   "outputs": [],
   "source": [
    "import sys\n",
    "sys.path.append(\"C:/Users/Nikhil/OneDrive - Southern Methodist University/Education/MOOC/fastai\") # go to parent dir"
   ]
  },
  {
   "cell_type": "code",
   "execution_count": 2,
   "metadata": {},
   "outputs": [],
   "source": [
    "import fastai; \n",
    "from fastai import *"
   ]
  },
  {
   "cell_type": "code",
   "execution_count": 3,
   "metadata": {},
   "outputs": [
    {
     "data": {
      "text/plain": [
       "'1.0.58'"
      ]
     },
     "execution_count": 3,
     "metadata": {},
     "output_type": "execute_result"
    }
   ],
   "source": [
    "fastai.__version__"
   ]
  },
  {
   "cell_type": "code",
   "execution_count": 4,
   "metadata": {},
   "outputs": [],
   "source": [
    "import torch\n",
    "import torch.nn as nn\n",
    "from torch.utils.data import Dataset\n",
    "from torch.utils.data import DataLoader  # lets us load data in batches\n",
    "\n",
    "import numpy as np\n",
    "import pandas as pd\n",
    "import matplotlib.pyplot as plt\n",
    "from sklearn.utils import shuffle\n",
    "%matplotlib inline"
   ]
  },
  {
   "cell_type": "code",
   "execution_count": 5,
   "metadata": {},
   "outputs": [],
   "source": [
    "# Reading data \n",
    "df = pd.read_csv(\"../../SMU_DS7331_Promotions_final/data/data_for_classification.csv\")"
   ]
  },
  {
   "cell_type": "markdown",
   "metadata": {},
   "source": [
    "## 1. Data Cleanup"
   ]
  },
  {
   "cell_type": "markdown",
   "metadata": {},
   "source": [
    "**This is the same preprocesing that was done in Lab2 for SMU - DS7331 (Machine Learning 1 class). Please refer to that notebook for detailed explanation of what is being done.**"
   ]
  },
  {
   "cell_type": "markdown",
   "metadata": {},
   "source": [
    "### 1.1 Remove Null Values"
   ]
  },
  {
   "cell_type": "code",
   "execution_count": 6,
   "metadata": {},
   "outputs": [
    {
     "name": "stdout",
     "output_type": "stream",
     "text": [
      "reporting_level_last                 14\n",
      "accountability_matrix_label_last      3\n",
      "functional_area_last                  3\n",
      "job_family_label_last                 5\n",
      "job_long_text_last                    6\n",
      "operational_rollup_label_last       191\n",
      "org_unit_desc_last                   44\n",
      "dtype: int64\n"
     ]
    }
   ],
   "source": [
    "null_vals = df.isnull().sum(axis = 0)\n",
    "print(null_vals[null_vals != 0])\n",
    "df.dropna(inplace=True)"
   ]
  },
  {
   "cell_type": "markdown",
   "metadata": {},
   "source": [
    "### 1.2 Remvove categorical variables with large number of levels \n",
    "**May reconsider later if using enbeddings in the NN**"
   ]
  },
  {
   "cell_type": "code",
   "execution_count": 7,
   "metadata": {},
   "outputs": [
    {
     "data": {
      "text/plain": [
       "Index(['worker', 'accountability_matrix_label_last', 'company_code_last',\n",
       "       'cost_center_code_last', 'functional_area_last', 'supervisor_last',\n",
       "       'gjs_code_label_last', 'gjs_framework_last', 'job_family_label_last',\n",
       "       'job_long_text_last', 'operational_rollup_label_last',\n",
       "       'org_unit_desc_last', 'site_city_code_last', 'site_country_code_last',\n",
       "       'site_country_region_last', 'site_country_segment_last',\n",
       "       'site_desc_last', 'certificate_order_grp_last'],\n",
       "      dtype='object')"
      ]
     },
     "execution_count": 7,
     "metadata": {},
     "output_type": "execute_result"
    }
   ],
   "source": [
    "categorical_features = df.select_dtypes(include='object').columns\n",
    "categorical_features"
   ]
  },
  {
   "cell_type": "code",
   "execution_count": 8,
   "metadata": {},
   "outputs": [
    {
     "name": "stdout",
     "output_type": "stream",
     "text": [
      "The number of levels in column 'worker': 66927\n",
      "The number of levels in column 'accountability_matrix_label_last': 29\n",
      "The number of levels in column 'company_code_last': 50\n",
      "The number of levels in column 'cost_center_code_last': 1943\n",
      "The number of levels in column 'functional_area_last': 3\n",
      "The number of levels in column 'supervisor_last': 9755\n",
      "The number of levels in column 'gjs_code_label_last': 43\n",
      "The number of levels in column 'gjs_framework_last': 9\n",
      "The number of levels in column 'job_family_label_last': 199\n",
      "The number of levels in column 'job_long_text_last': 1506\n",
      "The number of levels in column 'operational_rollup_label_last': 162\n",
      "The number of levels in column 'org_unit_desc_last': 8342\n",
      "The number of levels in column 'site_city_code_last': 224\n",
      "The number of levels in column 'site_country_code_last': 28\n",
      "The number of levels in column 'site_country_region_last': 3\n",
      "The number of levels in column 'site_country_segment_last': 11\n",
      "The number of levels in column 'site_desc_last': 318\n",
      "The number of levels in column 'certificate_order_grp_last': 14\n"
     ]
    }
   ],
   "source": [
    "for column in categorical_features:\n",
    "    if column in df.columns:\n",
    "        print (\"The number of levels in column '{}': {}\".format(column,df[column].nunique()))"
   ]
  },
  {
   "cell_type": "code",
   "execution_count": 9,
   "metadata": {},
   "outputs": [],
   "source": [
    "cols_to_del = [\"supervisor_last\"\n",
    "               ,\"org_unit_desc_last\"\n",
    "               ,\"cost_center_code_last\"\n",
    "               ,\"job_long_text_last\"\n",
    "               ,\"site_city_code_last\"\n",
    "               ,\"site_desc_last\"  \n",
    "               ,\"year_last\"\n",
    "               ,\"month_num_last\"\n",
    "               ,'months_since_promotion_max'\n",
    "               ,\"worker\"\n",
    "               ,\"Unnamed: 0\"\n",
    "                ]\n",
    "for column in df.columns:\n",
    "    if column in cols_to_del:\n",
    "        del df[column]"
   ]
  },
  {
   "cell_type": "code",
   "execution_count": 10,
   "metadata": {},
   "outputs": [
    {
     "name": "stdout",
     "output_type": "stream",
     "text": [
      "The number of levels in column 'accountability_matrix_label_last': 29\n",
      "The number of levels in column 'company_code_last': 50\n",
      "The number of levels in column 'functional_area_last': 3\n",
      "The number of levels in column 'gjs_code_label_last': 43\n",
      "The number of levels in column 'gjs_framework_last': 9\n",
      "The number of levels in column 'job_family_label_last': 199\n",
      "The number of levels in column 'operational_rollup_label_last': 162\n",
      "The number of levels in column 'site_country_code_last': 28\n",
      "The number of levels in column 'site_country_region_last': 3\n",
      "The number of levels in column 'site_country_segment_last': 11\n",
      "The number of levels in column 'certificate_order_grp_last': 14\n"
     ]
    }
   ],
   "source": [
    "categorical_features = df.select_dtypes(include='object').columns\n",
    "for column in categorical_features:\n",
    "    if column in df.columns:\n",
    "        print (\"The number of levels in column '{}': {}\".format(column,df[column].nunique()))"
   ]
  },
  {
   "cell_type": "code",
   "execution_count": 11,
   "metadata": {},
   "outputs": [],
   "source": [
    "# df.info()"
   ]
  },
  {
   "cell_type": "markdown",
   "metadata": {},
   "source": [
    "### 1.3 Create dataset for sencond classification task (predicting months since promotion bucket)"
   ]
  },
  {
   "cell_type": "code",
   "execution_count": 12,
   "metadata": {},
   "outputs": [],
   "source": [
    "# df_cat2 = df[df['promotion_max']==1].drop('promotion_max',axis=1)\n",
    "# df_cat2.info()"
   ]
  },
  {
   "cell_type": "code",
   "execution_count": 13,
   "metadata": {},
   "outputs": [],
   "source": [
    "# #splitting the target variable for classification#\n",
    "# cutoffs = [0,12,24,36,120]\n",
    "# labels=[1,2,3,4]"
   ]
  },
  {
   "cell_type": "code",
   "execution_count": 14,
   "metadata": {},
   "outputs": [],
   "source": [
    "# df_cat2[\"months_since_promotion_last_grp\"] = pd.cut(df_cat2[\"months_since_promotion_last\"],bins=cutoffs,labels=labels)\n",
    "# df_cat2=df_cat2.drop(\"months_since_promotion_last\",axis=1)\n",
    "# df_cat2[\"months_since_promotion_last_grp\"].value_counts()"
   ]
  },
  {
   "cell_type": "markdown",
   "metadata": {},
   "source": [
    "## 2. Modeling"
   ]
  },
  {
   "cell_type": "code",
   "execution_count": 15,
   "metadata": {},
   "outputs": [],
   "source": [
    "from fastai.tabular import * "
   ]
  },
  {
   "cell_type": "markdown",
   "metadata": {},
   "source": [
    "### 2.1 Define the Data Object"
   ]
  },
  {
   "cell_type": "code",
   "execution_count": 16,
   "metadata": {},
   "outputs": [],
   "source": [
    "procs = [FillMissing, Categorify, Normalize]"
   ]
  },
  {
   "cell_type": "code",
   "execution_count": 17,
   "metadata": {},
   "outputs": [
    {
     "data": {
      "text/plain": [
       "range(75287, 94108)"
      ]
     },
     "execution_count": 17,
     "metadata": {},
     "output_type": "execute_result"
    }
   ],
   "source": [
    "valid_idx = range(len(df)-int(0.2*len(df)), len(df))\n",
    "valid_idx"
   ]
  },
  {
   "cell_type": "code",
   "execution_count": 18,
   "metadata": {},
   "outputs": [],
   "source": [
    "#categorical_features.values"
   ]
  },
  {
   "cell_type": "code",
   "execution_count": 19,
   "metadata": {},
   "outputs": [],
   "source": [
    "dep_var = 'promotion_max'\n",
    "cat_names = list(categorical_features.values)"
   ]
  },
  {
   "cell_type": "code",
   "execution_count": 20,
   "metadata": {},
   "outputs": [
    {
     "name": "stdout",
     "output_type": "stream",
     "text": [
      "['promotion_cnt', 'gjs_code_label_nunique', 'comparatio_last', 'awards_points_cnt_sum_last', 'site_desc_nunique', 'awards_peer_cnt_sum_last', 'mgr_06_nunique', 'mgr_09_nunique', 'mgr_01_nunique', 'mgr_07_nunique', 'supervisor_Y_last', 'functional_area_nunique', 'spv_ppa_rating_last', 'school_tier_last', 'tenure_in_months_last', 'accountability_matrix_label_nunique', 'awards_bonus_cnt_sum_last', 'company_code_nunique', 'movement_demote_event_cnt_sum_last', 'site_country_code_nunique', 'ppa_rating_last', 'site_country_segment_nunique', 'site_country_region_nunique', 'mgr_02_nunique', 'gjs_framework_nunique', 'job_family_label_nunique', 'awards_points_sum_last', 'mgr_10_nunique', 'mgr_12_nunique', 'supervisor_nunique', 'org_unit_desc_nunique', 'mgr_08_nunique', 'mgr_11_nunique', 'mgr_03_nunique', 'transfer_event_cnt_sum_last', 'span_of_control_total_last', 'supervisor_Y_max', 'hiredAfter200901_max', 'movement_lateral_cnt_sum_last', 'mgr_05_nunique', 'gjs_sort_order_last', 'span_of_control_direct_last', 'months_since_promotion_last', 'reporting_level_last', 'cost_center_code_nunique', 'awards_bonus_sum_last', 'operational_rollup_label_nunique', 'mgr_04_nunique', 'changed_spv_cnt_sum_last', 'job_long_text_nunique', 'site_city_code_nunique']\n"
     ]
    }
   ],
   "source": [
    "data = TabularDataBunch.from_df(\".\", df, dep_var, valid_idx=valid_idx, procs=procs, cat_names=cat_names)\n",
    "print(data.train_ds.cont_names)  # `cont_names` defaults to: set(df)-set(cat_names)-{dep_var}"
   ]
  },
  {
   "cell_type": "markdown",
   "metadata": {},
   "source": [
    "### 2.2 Compute Embedding Size"
   ]
  },
  {
   "cell_type": "code",
   "execution_count": 21,
   "metadata": {},
   "outputs": [
    {
     "data": {
      "text/plain": [
       "[15, 25, 2, 22, 5, 50, 50, 14, 2, 6, 7]"
      ]
     },
     "execution_count": 21,
     "metadata": {},
     "output_type": "execute_result"
    }
   ],
   "source": [
    "for cat in cat_names:\n",
    "    df[cat] = df[cat].astype('category')\n",
    "\n",
    "cat_szs = [len(df[col].cat.categories) for col in cat_names]\n",
    "emb_szs = [min(50, (size+1)//2) for size in cat_szs]\n",
    "emb_szs"
   ]
  },
  {
   "cell_type": "code",
   "execution_count": 22,
   "metadata": {},
   "outputs": [
    {
     "data": {
      "text/plain": [
       "{'accountability_matrix_label_last': 15,\n",
       " 'company_code_last': 25,\n",
       " 'functional_area_last': 2,\n",
       " 'gjs_code_label_last': 22,\n",
       " 'gjs_framework_last': 5,\n",
       " 'job_family_label_last': 50,\n",
       " 'operational_rollup_label_last': 50,\n",
       " 'site_country_code_last': 14,\n",
       " 'site_country_region_last': 2,\n",
       " 'site_country_segment_last': 6,\n",
       " 'certificate_order_grp_last': 7}"
      ]
     },
     "execution_count": 22,
     "metadata": {},
     "output_type": "execute_result"
    }
   ],
   "source": [
    "emb_szs_fastai = {name: value for (name, value) in zip(cat_names,emb_szs)}\n",
    "emb_szs_fastai"
   ]
  },
  {
   "cell_type": "markdown",
   "metadata": {},
   "source": [
    "### 2.3 Define Learner"
   ]
  },
  {
   "cell_type": "code",
   "execution_count": 32,
   "metadata": {},
   "outputs": [
    {
     "data": {
      "text/plain": [
       "TabularModel\n",
       "======================================================================\n",
       "Layer (type)         Output Shape         Param #    Trainable \n",
       "======================================================================\n",
       "Embedding            [15]                 450        True      \n",
       "______________________________________________________________________\n",
       "Embedding            [25]                 1,275      True      \n",
       "______________________________________________________________________\n",
       "Embedding            [2]                  8          True      \n",
       "______________________________________________________________________\n",
       "Embedding            [22]                 968        True      \n",
       "______________________________________________________________________\n",
       "Embedding            [5]                  50         True      \n",
       "______________________________________________________________________\n",
       "Embedding            [50]                 9,900      True      \n",
       "______________________________________________________________________\n",
       "Embedding            [50]                 8,100      True      \n",
       "______________________________________________________________________\n",
       "Embedding            [14]                 406        True      \n",
       "______________________________________________________________________\n",
       "Embedding            [2]                  8          True      \n",
       "______________________________________________________________________\n",
       "Embedding            [6]                  72         True      \n",
       "______________________________________________________________________\n",
       "Embedding            [7]                  105        True      \n",
       "______________________________________________________________________\n",
       "Dropout              [198]                0          False     \n",
       "______________________________________________________________________\n",
       "BatchNorm1d          [51]                 102        True      \n",
       "______________________________________________________________________\n",
       "Linear               [200]                50,000     True      \n",
       "______________________________________________________________________\n",
       "ReLU                 [200]                0          False     \n",
       "______________________________________________________________________\n",
       "BatchNorm1d          [200]                400        True      \n",
       "______________________________________________________________________\n",
       "Linear               [100]                20,100     True      \n",
       "______________________________________________________________________\n",
       "ReLU                 [100]                0          False     \n",
       "______________________________________________________________________\n",
       "BatchNorm1d          [100]                200        True      \n",
       "______________________________________________________________________\n",
       "Linear               [50]                 5,050      True      \n",
       "______________________________________________________________________\n",
       "ReLU                 [50]                 0          False     \n",
       "______________________________________________________________________\n",
       "BatchNorm1d          [50]                 100        True      \n",
       "______________________________________________________________________\n",
       "Linear               [2]                  102        True      \n",
       "______________________________________________________________________\n",
       "\n",
       "Total params: 97,396\n",
       "Total trainable params: 97,396\n",
       "Total non-trainable params: 0\n",
       "Optimized with 'torch.optim.adam.Adam', betas=(0.9, 0.99)\n",
       "Using true weight decay as discussed in https://www.fast.ai/2018/07/02/adam-weight-decay/ \n",
       "Loss function : FlattenedLoss\n",
       "======================================================================\n",
       "Callbacks functions applied "
      ]
     },
     "execution_count": 32,
     "metadata": {},
     "output_type": "execute_result"
    }
   ],
   "source": [
    "learn = tabular_learner(data, layers=[200,100,50], emb_szs=emb_szs_fastai, metrics=accuracy)\n",
    "learn.summary()"
   ]
  },
  {
   "cell_type": "markdown",
   "metadata": {},
   "source": [
    "### 2.4 Train the model"
   ]
  },
  {
   "cell_type": "code",
   "execution_count": null,
   "metadata": {},
   "outputs": [],
   "source": [
    "learn.lr_find()\n",
    "learn.recorder.plot()"
   ]
  },
  {
   "cell_type": "code",
   "execution_count": 24,
   "metadata": {},
   "outputs": [
    {
     "data": {
      "text/html": [
       "<table border=\"1\" class=\"dataframe\">\n",
       "  <thead>\n",
       "    <tr style=\"text-align: left;\">\n",
       "      <th>epoch</th>\n",
       "      <th>train_loss</th>\n",
       "      <th>valid_loss</th>\n",
       "      <th>accuracy</th>\n",
       "      <th>time</th>\n",
       "    </tr>\n",
       "  </thead>\n",
       "  <tbody>\n",
       "    <tr>\n",
       "      <td>0</td>\n",
       "      <td>0.408660</td>\n",
       "      <td>0.397223</td>\n",
       "      <td>0.825780</td>\n",
       "      <td>02:03</td>\n",
       "    </tr>\n",
       "    <tr>\n",
       "      <td>1</td>\n",
       "      <td>0.352443</td>\n",
       "      <td>0.556975</td>\n",
       "      <td>0.702779</td>\n",
       "      <td>01:49</td>\n",
       "    </tr>\n",
       "    <tr>\n",
       "      <td>2</td>\n",
       "      <td>0.316133</td>\n",
       "      <td>0.465659</td>\n",
       "      <td>0.770629</td>\n",
       "      <td>01:48</td>\n",
       "    </tr>\n",
       "    <tr>\n",
       "      <td>3</td>\n",
       "      <td>0.282889</td>\n",
       "      <td>0.416771</td>\n",
       "      <td>0.805111</td>\n",
       "      <td>01:47</td>\n",
       "    </tr>\n",
       "    <tr>\n",
       "      <td>4</td>\n",
       "      <td>0.275198</td>\n",
       "      <td>0.381355</td>\n",
       "      <td>0.824239</td>\n",
       "      <td>01:48</td>\n",
       "    </tr>\n",
       "  </tbody>\n",
       "</table>"
      ],
      "text/plain": [
       "<IPython.core.display.HTML object>"
      ]
     },
     "metadata": {},
     "output_type": "display_data"
    }
   ],
   "source": [
    "learn.fit_one_cycle(5, 1e-3)"
   ]
  },
  {
   "cell_type": "markdown",
   "metadata": {},
   "source": [
    "## 3. Evaluations"
   ]
  },
  {
   "cell_type": "markdown",
   "metadata": {},
   "source": [
    "### 3.1 Predictions"
   ]
  },
  {
   "cell_type": "code",
   "execution_count": 25,
   "metadata": {},
   "outputs": [
    {
     "data": {
      "text/plain": [
       "(Category 0, tensor(0), tensor([0.7541, 0.2459]))"
      ]
     },
     "execution_count": 25,
     "metadata": {},
     "output_type": "execute_result"
    }
   ],
   "source": [
    "learn.predict(df.iloc[valid_idx[0]]) # Does not work on more than 1 example, not sure why"
   ]
  },
  {
   "cell_type": "code",
   "execution_count": 26,
   "metadata": {},
   "outputs": [],
   "source": [
    "preds = learn.get_preds()"
   ]
  },
  {
   "cell_type": "code",
   "execution_count": 27,
   "metadata": {},
   "outputs": [
    {
     "name": "stdout",
     "output_type": "stream",
     "text": [
      "torch.Size([18821, 2])\n",
      "torch.Size([18821])\n"
     ]
    }
   ],
   "source": [
    "print(preds[0].shape) # This is the validation set\n",
    "print(preds[1].shape) # Actual Label"
   ]
  },
  {
   "cell_type": "markdown",
   "metadata": {},
   "source": [
    "### 3.2 Metrics"
   ]
  },
  {
   "cell_type": "code",
   "execution_count": 28,
   "metadata": {},
   "outputs": [
    {
     "data": {
      "text/plain": [
       "array([[13127,  2704],\n",
       "       [  604,  2386]], dtype=int64)"
      ]
     },
     "execution_count": 28,
     "metadata": {},
     "output_type": "execute_result"
    }
   ],
   "source": [
    "from sklearn.metrics import confusion_matrix\n",
    "y_true = preds[1]\n",
    "y_pred = preds[0].argmax(dim=1)\n",
    "confusion_matrix(y_true, y_pred)"
   ]
  },
  {
   "cell_type": "code",
   "execution_count": 29,
   "metadata": {},
   "outputs": [
    {
     "name": "stdout",
     "output_type": "stream",
     "text": [
      "              precision    recall  f1-score   support\n",
      "\n",
      "           0       0.96      0.83      0.89     15831\n",
      "           1       0.47      0.80      0.59      2990\n",
      "\n",
      "    accuracy                           0.82     18821\n",
      "   macro avg       0.71      0.81      0.74     18821\n",
      "weighted avg       0.88      0.82      0.84     18821\n",
      "\n"
     ]
    }
   ],
   "source": [
    "from sklearn.metrics import classification_report\n",
    "print(classification_report(y_true, y_pred))"
   ]
  },
  {
   "cell_type": "markdown",
   "metadata": {},
   "source": [
    "## 4. TODO / Followups"
   ]
  },
  {
   "cell_type": "markdown",
   "metadata": {},
   "source": [
    "1. How to use a balanced dataset with fast.ai\n",
    "2. How to plot validation and train loss (similar to this: https://github.com/adriangrepo/my_fastai/blob/master/dl2/translate.ipynb)"
   ]
  }
 ],
 "metadata": {
  "kernelspec": {
   "display_name": "Python 3",
   "language": "python",
   "name": "python3"
  },
  "language_info": {
   "codemirror_mode": {
    "name": "ipython",
    "version": 3
   },
   "file_extension": ".py",
   "mimetype": "text/x-python",
   "name": "python",
   "nbconvert_exporter": "python",
   "pygments_lexer": "ipython3",
   "version": "3.6.9"
  }
 },
 "nbformat": 4,
 "nbformat_minor": 4
}
