{
 "cells": [
  {
   "cell_type": "code",
   "execution_count": 1,
   "metadata": {},
   "outputs": [],
   "source": [
    "import fastai; \n",
    "fastai.__version__"
   ]
  },
  {
   "cell_type": "code",
   "execution_count": 2,
   "metadata": {},
   "outputs": [],
   "source": [
    "from fastai.tabular import * \n",
    "from fastai.callbacks import EarlyStoppingCallback"
   ]
  },
  {
   "cell_type": "code",
   "execution_count": 3,
   "metadata": {},
   "outputs": [],
   "source": [
    "# Reading data \n",
    "df = pd.read_csv(\"../../SMU_DS7331_Promotions_final/data/data_for_classification.csv\")"
   ]
  },
  {
   "cell_type": "markdown",
   "metadata": {},
   "source": [
    "# 1. Data Cleanup\n",
    "\n",
    "**This is the same preprocesing that was done in Lab2 for SMU - DS7331 (Machine Learning 1 class). Please refer to that notebook for detailed explanation of what is being done.**"
   ]
  },
  {
   "cell_type": "markdown",
   "metadata": {},
   "source": [
    "## 1.1 Remove Null Values"
   ]
  },
  {
   "cell_type": "code",
   "execution_count": 4,
   "metadata": {},
   "outputs": [
    {
     "name": "stdout",
     "output_type": "stream",
     "text": [
      "reporting_level_last                 14\n",
      "accountability_matrix_label_last      3\n",
      "functional_area_last                  3\n",
      "job_family_label_last                 5\n",
      "job_long_text_last                    6\n",
      "operational_rollup_label_last       191\n",
      "org_unit_desc_last                   44\n",
      "dtype: int64\n"
     ]
    }
   ],
   "source": [
    "null_vals = df.isnull().sum(axis = 0)\n",
    "print(null_vals[null_vals != 0])\n",
    "df.dropna(inplace=True)"
   ]
  },
  {
   "cell_type": "markdown",
   "metadata": {},
   "source": [
    "## 1.2 Remvove categorical variables with large number of levels \n",
    "**May reconsider later if using enbeddings in the NN**"
   ]
  },
  {
   "cell_type": "code",
   "execution_count": 5,
   "metadata": {},
   "outputs": [
    {
     "data": {
      "text/plain": [
       "Index(['worker', 'accountability_matrix_label_last', 'company_code_last',\n",
       "       'cost_center_code_last', 'functional_area_last', 'supervisor_last',\n",
       "       'gjs_code_label_last', 'gjs_framework_last', 'job_family_label_last',\n",
       "       'job_long_text_last', 'operational_rollup_label_last',\n",
       "       'org_unit_desc_last', 'site_city_code_last', 'site_country_code_last',\n",
       "       'site_country_region_last', 'site_country_segment_last',\n",
       "       'site_desc_last', 'certificate_order_grp_last'],\n",
       "      dtype='object')"
      ]
     },
     "execution_count": 5,
     "metadata": {},
     "output_type": "execute_result"
    }
   ],
   "source": [
    "categorical_features = df.select_dtypes(include='object').columns\n",
    "categorical_features"
   ]
  },
  {
   "cell_type": "code",
   "execution_count": 6,
   "metadata": {},
   "outputs": [
    {
     "name": "stdout",
     "output_type": "stream",
     "text": [
      "The number of levels in column 'worker': 66927\n",
      "The number of levels in column 'accountability_matrix_label_last': 29\n",
      "The number of levels in column 'company_code_last': 50\n",
      "The number of levels in column 'cost_center_code_last': 1943\n",
      "The number of levels in column 'functional_area_last': 3\n",
      "The number of levels in column 'supervisor_last': 9755\n",
      "The number of levels in column 'gjs_code_label_last': 43\n",
      "The number of levels in column 'gjs_framework_last': 9\n",
      "The number of levels in column 'job_family_label_last': 199\n",
      "The number of levels in column 'job_long_text_last': 1506\n",
      "The number of levels in column 'operational_rollup_label_last': 162\n",
      "The number of levels in column 'org_unit_desc_last': 8342\n",
      "The number of levels in column 'site_city_code_last': 224\n",
      "The number of levels in column 'site_country_code_last': 28\n",
      "The number of levels in column 'site_country_region_last': 3\n",
      "The number of levels in column 'site_country_segment_last': 11\n",
      "The number of levels in column 'site_desc_last': 318\n",
      "The number of levels in column 'certificate_order_grp_last': 14\n"
     ]
    }
   ],
   "source": [
    "for column in categorical_features:\n",
    "    if column in df.columns:\n",
    "        print (\"The number of levels in column '{}': {}\".format(column,df[column].nunique()))"
   ]
  },
  {
   "cell_type": "code",
   "execution_count": 7,
   "metadata": {},
   "outputs": [],
   "source": [
    "cols_to_del = [\"supervisor_last\"\n",
    "               #,\"org_unit_desc_last\"\n",
    "               #,\"cost_center_code_last\"\n",
    "               #,\"job_long_text_last\"\n",
    "               #,\"site_city_code_last\"\n",
    "               #,\"site_desc_last\"  \n",
    "               ,\"year_last\"\n",
    "               ,\"month_num_last\"\n",
    "               ,'months_since_promotion_max'\n",
    "               ,\"worker\"\n",
    "               ,\"Unnamed: 0\"\n",
    "                ]\n",
    "for column in df.columns:\n",
    "    if column in cols_to_del:\n",
    "        del df[column]"
   ]
  },
  {
   "cell_type": "code",
   "execution_count": 8,
   "metadata": {},
   "outputs": [
    {
     "name": "stdout",
     "output_type": "stream",
     "text": [
      "The number of levels in column 'accountability_matrix_label_last': 29\n",
      "The number of levels in column 'company_code_last': 50\n",
      "The number of levels in column 'cost_center_code_last': 1943\n",
      "The number of levels in column 'functional_area_last': 3\n",
      "The number of levels in column 'gjs_code_label_last': 43\n",
      "The number of levels in column 'gjs_framework_last': 9\n",
      "The number of levels in column 'job_family_label_last': 199\n",
      "The number of levels in column 'job_long_text_last': 1506\n",
      "The number of levels in column 'operational_rollup_label_last': 162\n",
      "The number of levels in column 'org_unit_desc_last': 8342\n",
      "The number of levels in column 'site_city_code_last': 224\n",
      "The number of levels in column 'site_country_code_last': 28\n",
      "The number of levels in column 'site_country_region_last': 3\n",
      "The number of levels in column 'site_country_segment_last': 11\n",
      "The number of levels in column 'site_desc_last': 318\n",
      "The number of levels in column 'certificate_order_grp_last': 14\n"
     ]
    }
   ],
   "source": [
    "categorical_features = df.select_dtypes(include='object').columns\n",
    "for column in categorical_features:\n",
    "    if column in df.columns:\n",
    "        print (\"The number of levels in column '{}': {}\".format(column,df[column].nunique()))"
   ]
  },
  {
   "cell_type": "markdown",
   "metadata": {},
   "source": [
    "# 2. Modeling"
   ]
  },
  {
   "cell_type": "markdown",
   "metadata": {},
   "source": [
    "## 2.1 Setup"
   ]
  },
  {
   "cell_type": "code",
   "execution_count": 9,
   "metadata": {},
   "outputs": [],
   "source": [
    "from sklearn.model_selection import ShuffleSplit"
   ]
  },
  {
   "cell_type": "code",
   "execution_count": 10,
   "metadata": {},
   "outputs": [],
   "source": [
    "path = \".\""
   ]
  },
  {
   "cell_type": "code",
   "execution_count": 11,
   "metadata": {},
   "outputs": [],
   "source": [
    "procs = [FillMissing, Categorify, Normalize]"
   ]
  },
  {
   "cell_type": "markdown",
   "metadata": {},
   "source": [
    "## 2.2 Define the Data Object"
   ]
  },
  {
   "cell_type": "markdown",
   "metadata": {},
   "source": [
    "### 2.2.1 Split into Train and Test Splits"
   ]
  },
  {
   "cell_type": "code",
   "execution_count": 12,
   "metadata": {},
   "outputs": [
    {
     "name": "stdout",
     "output_type": "stream",
     "text": [
      "75286\n",
      "18822\n"
     ]
    }
   ],
   "source": [
    "rs = ShuffleSplit(n_splits=1, test_size=0.2, random_state=101)\n",
    "for train_index, test_index in rs.split(df):\n",
    "    pass\n",
    "    \n",
    "print(len(train_index))\n",
    "print(len(test_index))"
   ]
  },
  {
   "cell_type": "code",
   "execution_count": 13,
   "metadata": {},
   "outputs": [
    {
     "name": "stdout",
     "output_type": "stream",
     "text": [
      "(75286, 68)\n",
      "(18822, 68)\n"
     ]
    }
   ],
   "source": [
    "train_df = df.iloc[train_index]\n",
    "test_df = df.iloc[test_index]\n",
    "print(train_df.shape)\n",
    "print(test_df.shape)"
   ]
  },
  {
   "cell_type": "code",
   "execution_count": 14,
   "metadata": {},
   "outputs": [],
   "source": [
    "dep_var = 'promotion_max'\n",
    "cat_names = list(categorical_features.values)\n",
    "cont_names = list(set(train_df)-set(cat_names)-{dep_var})"
   ]
  },
  {
   "cell_type": "code",
   "execution_count": 15,
   "metadata": {},
   "outputs": [
    {
     "name": "stdout",
     "output_type": "stream",
     "text": [
      "['accountability_matrix_label_last', 'company_code_last', 'cost_center_code_last', 'functional_area_last', 'gjs_code_label_last', 'gjs_framework_last', 'job_family_label_last', 'job_long_text_last', 'operational_rollup_label_last', 'org_unit_desc_last', 'site_city_code_last', 'site_country_code_last', 'site_country_region_last', 'site_country_segment_last', 'site_desc_last', 'certificate_order_grp_last']\n",
      "\n",
      "['supervisor_Y_max', 'site_country_code_nunique', 'mgr_01_nunique', 'mgr_11_nunique', 'site_city_code_nunique', 'cost_center_code_nunique', 'tenure_in_months_last', 'promotion_cnt', 'job_long_text_nunique', 'supervisor_Y_last', 'movement_lateral_cnt_sum_last', 'accountability_matrix_label_nunique', 'site_country_region_nunique', 'gjs_sort_order_last', 'school_tier_last', 'hiredAfter200901_max', 'job_family_label_nunique', 'awards_points_cnt_sum_last', 'months_since_promotion_last', 'span_of_control_total_last', 'changed_spv_cnt_sum_last', 'org_unit_desc_nunique', 'functional_area_nunique', 'gjs_framework_nunique', 'supervisor_nunique', 'company_code_nunique', 'reporting_level_last', 'mgr_03_nunique', 'site_desc_nunique', 'mgr_02_nunique', 'comparatio_last', 'movement_demote_event_cnt_sum_last', 'mgr_10_nunique', 'awards_points_sum_last', 'awards_bonus_sum_last', 'mgr_05_nunique', 'transfer_event_cnt_sum_last', 'mgr_06_nunique', 'awards_peer_cnt_sum_last', 'mgr_08_nunique', 'ppa_rating_last', 'awards_bonus_cnt_sum_last', 'span_of_control_direct_last', 'mgr_12_nunique', 'mgr_07_nunique', 'site_country_segment_nunique', 'mgr_09_nunique', 'gjs_code_label_nunique', 'operational_rollup_label_nunique', 'mgr_04_nunique', 'spv_ppa_rating_last']\n"
     ]
    }
   ],
   "source": [
    "print(cat_names)\n",
    "print(\"\")\n",
    "print(cont_names)"
   ]
  },
  {
   "cell_type": "markdown",
   "metadata": {},
   "source": [
    "### 2.2.2 Define Custom DataBunch with Test Set"
   ]
  },
  {
   "cell_type": "code",
   "execution_count": 16,
   "metadata": {},
   "outputs": [],
   "source": [
    "# If creating your own databunch, you will need to provide both categorical and continuous variable names\n",
    "# If using the predefined databunch, it will pick whatever variable is not the target or the cat variables\n",
    "train_tabular_list = TabularList.from_df(train_df, path=path, cat_names=cat_names, cont_names=cont_names, procs=procs)\n",
    "test_tabular_list  = TabularList.from_df(test_df, path=path, cat_names=cat_names, cont_names=cont_names)"
   ]
  },
  {
   "cell_type": "code",
   "execution_count": 17,
   "metadata": {},
   "outputs": [],
   "source": [
    "## Create the DataBunch\n",
    "data_bunch = (train_tabular_list\n",
    "              .split_by_rand_pct(valid_pct=0.2, seed=101)  # Validation Split\n",
    "              .label_from_df(cols=dep_var)  # Target\n",
    "              .add_test(test_tabular_list)  # Test Split\n",
    "              .databunch())  # Comnine into a databunch"
   ]
  },
  {
   "cell_type": "markdown",
   "metadata": {},
   "source": [
    "### 2.2.2 (Alternate) Define Inbuilt DataBunch\n",
    "* Does not have option for Test Set\n",
    "* Also does not allow random validation split"
   ]
  },
  {
   "cell_type": "code",
   "execution_count": 18,
   "metadata": {},
   "outputs": [],
   "source": [
    "# valid_idx = range(len(df)-int(0.2*len(df)), len(df))\n",
    "# valid_idx"
   ]
  },
  {
   "cell_type": "code",
   "execution_count": 19,
   "metadata": {},
   "outputs": [],
   "source": [
    "# data = TabularDataBunch.from_df(\".\", df, dep_var, valid_idx=valid_idx, procs=procs, cat_names=cat_names)\n",
    "# print(data.train_ds.cont_names)  # `cont_names` defaults to: set(df)-set(cat_names)-{dep_var}\n",
    "# print(data.train_ds.cat_names)  # `cont_names` defaults to: set(df)-set(cat_names)-{dep_var}"
   ]
  },
  {
   "cell_type": "code",
   "execution_count": 20,
   "metadata": {},
   "outputs": [
    {
     "data": {
      "text/html": [
       "<table border=\"1\" class=\"dataframe\">\n",
       "  <thead>\n",
       "    <tr style=\"text-align: right;\">\n",
       "      <th>accountability_matrix_label_last</th>\n",
       "      <th>company_code_last</th>\n",
       "      <th>cost_center_code_last</th>\n",
       "      <th>functional_area_last</th>\n",
       "      <th>gjs_code_label_last</th>\n",
       "      <th>gjs_framework_last</th>\n",
       "      <th>job_family_label_last</th>\n",
       "      <th>job_long_text_last</th>\n",
       "      <th>operational_rollup_label_last</th>\n",
       "      <th>org_unit_desc_last</th>\n",
       "      <th>site_city_code_last</th>\n",
       "      <th>site_country_code_last</th>\n",
       "      <th>site_country_region_last</th>\n",
       "      <th>site_country_segment_last</th>\n",
       "      <th>site_desc_last</th>\n",
       "      <th>certificate_order_grp_last</th>\n",
       "      <th>supervisor_Y_max</th>\n",
       "      <th>site_country_code_nunique</th>\n",
       "      <th>mgr_01_nunique</th>\n",
       "      <th>mgr_11_nunique</th>\n",
       "      <th>site_city_code_nunique</th>\n",
       "      <th>cost_center_code_nunique</th>\n",
       "      <th>tenure_in_months_last</th>\n",
       "      <th>promotion_cnt</th>\n",
       "      <th>job_long_text_nunique</th>\n",
       "      <th>supervisor_Y_last</th>\n",
       "      <th>movement_lateral_cnt_sum_last</th>\n",
       "      <th>accountability_matrix_label_nunique</th>\n",
       "      <th>site_country_region_nunique</th>\n",
       "      <th>gjs_sort_order_last</th>\n",
       "      <th>school_tier_last</th>\n",
       "      <th>hiredAfter200901_max</th>\n",
       "      <th>job_family_label_nunique</th>\n",
       "      <th>awards_points_cnt_sum_last</th>\n",
       "      <th>months_since_promotion_last</th>\n",
       "      <th>span_of_control_total_last</th>\n",
       "      <th>changed_spv_cnt_sum_last</th>\n",
       "      <th>org_unit_desc_nunique</th>\n",
       "      <th>functional_area_nunique</th>\n",
       "      <th>gjs_framework_nunique</th>\n",
       "      <th>supervisor_nunique</th>\n",
       "      <th>company_code_nunique</th>\n",
       "      <th>reporting_level_last</th>\n",
       "      <th>mgr_03_nunique</th>\n",
       "      <th>site_desc_nunique</th>\n",
       "      <th>mgr_02_nunique</th>\n",
       "      <th>comparatio_last</th>\n",
       "      <th>movement_demote_event_cnt_sum_last</th>\n",
       "      <th>mgr_10_nunique</th>\n",
       "      <th>awards_points_sum_last</th>\n",
       "      <th>awards_bonus_sum_last</th>\n",
       "      <th>mgr_05_nunique</th>\n",
       "      <th>transfer_event_cnt_sum_last</th>\n",
       "      <th>mgr_06_nunique</th>\n",
       "      <th>awards_peer_cnt_sum_last</th>\n",
       "      <th>mgr_08_nunique</th>\n",
       "      <th>ppa_rating_last</th>\n",
       "      <th>awards_bonus_cnt_sum_last</th>\n",
       "      <th>span_of_control_direct_last</th>\n",
       "      <th>mgr_12_nunique</th>\n",
       "      <th>mgr_07_nunique</th>\n",
       "      <th>site_country_segment_nunique</th>\n",
       "      <th>mgr_09_nunique</th>\n",
       "      <th>gjs_code_label_nunique</th>\n",
       "      <th>operational_rollup_label_nunique</th>\n",
       "      <th>mgr_04_nunique</th>\n",
       "      <th>spv_ppa_rating_last</th>\n",
       "      <th>target</th>\n",
       "    </tr>\n",
       "  </thead>\n",
       "  <tbody>\n",
       "    <tr>\n",
       "      <td>Squadron</td>\n",
       "      <td>Stallsville</td>\n",
       "      <td>cc102018</td>\n",
       "      <td>MFG</td>\n",
       "      <td>T3</td>\n",
       "      <td>Technician Skilled Labor</td>\n",
       "      <td>StocktonDelta</td>\n",
       "      <td>MandellWeiss</td>\n",
       "      <td>Alamaditas</td>\n",
       "      <td>Cen</td>\n",
       "      <td>Shuffield</td>\n",
       "      <td>US</td>\n",
       "      <td>Americas</td>\n",
       "      <td>United States</td>\n",
       "      <td>Drytown</td>\n",
       "      <td>11-Pre-University</td>\n",
       "      <td>-0.4493</td>\n",
       "      <td>-0.1656</td>\n",
       "      <td>-0.9083</td>\n",
       "      <td>-0.1748</td>\n",
       "      <td>-0.2253</td>\n",
       "      <td>2.2564</td>\n",
       "      <td>1.4252</td>\n",
       "      <td>-0.6866</td>\n",
       "      <td>-0.5254</td>\n",
       "      <td>-0.3662</td>\n",
       "      <td>-0.3650</td>\n",
       "      <td>-0.3833</td>\n",
       "      <td>-0.1493</td>\n",
       "      <td>-0.0545</td>\n",
       "      <td>-0.3530</td>\n",
       "      <td>0.7633</td>\n",
       "      <td>-0.4754</td>\n",
       "      <td>-0.5833</td>\n",
       "      <td>-0.0428</td>\n",
       "      <td>-0.0811</td>\n",
       "      <td>0.3449</td>\n",
       "      <td>0.0362</td>\n",
       "      <td>-0.3252</td>\n",
       "      <td>-0.3279</td>\n",
       "      <td>-0.2382</td>\n",
       "      <td>-0.3874</td>\n",
       "      <td>-0.0830</td>\n",
       "      <td>-0.3498</td>\n",
       "      <td>-0.3350</td>\n",
       "      <td>-0.9084</td>\n",
       "      <td>0.6043</td>\n",
       "      <td>-0.2072</td>\n",
       "      <td>-0.3856</td>\n",
       "      <td>-0.5345</td>\n",
       "      <td>-0.2356</td>\n",
       "      <td>1.1851</td>\n",
       "      <td>1.3369</td>\n",
       "      <td>0.4028</td>\n",
       "      <td>-0.3340</td>\n",
       "      <td>-0.3933</td>\n",
       "      <td>-0.4045</td>\n",
       "      <td>-0.4026</td>\n",
       "      <td>-0.2455</td>\n",
       "      <td>-0.1007</td>\n",
       "      <td>-0.2557</td>\n",
       "      <td>-0.1762</td>\n",
       "      <td>-0.5941</td>\n",
       "      <td>-0.3670</td>\n",
       "      <td>1.0106</td>\n",
       "      <td>-0.0708</td>\n",
       "      <td>0.9001</td>\n",
       "      <td>1</td>\n",
       "    </tr>\n",
       "    <tr>\n",
       "      <td>Duenquat</td>\n",
       "      <td>CayucosMorro</td>\n",
       "      <td>cc551317</td>\n",
       "      <td>MFG</td>\n",
       "      <td>E3</td>\n",
       "      <td>Technical Engineering</td>\n",
       "      <td>Kidspace</td>\n",
       "      <td>Siddell</td>\n",
       "      <td>Bartome</td>\n",
       "      <td>Boedecker</td>\n",
       "      <td>Puetto</td>\n",
       "      <td>SG</td>\n",
       "      <td>Asia</td>\n",
       "      <td>Singapore</td>\n",
       "      <td>Tapie</td>\n",
       "      <td>04-Bachelor Level Degree - First Class</td>\n",
       "      <td>-0.4493</td>\n",
       "      <td>-0.1656</td>\n",
       "      <td>0.7107</td>\n",
       "      <td>-0.1748</td>\n",
       "      <td>-0.2253</td>\n",
       "      <td>3.2398</td>\n",
       "      <td>-0.0319</td>\n",
       "      <td>0.5166</td>\n",
       "      <td>-0.5254</td>\n",
       "      <td>-0.3662</td>\n",
       "      <td>-0.3650</td>\n",
       "      <td>-0.3833</td>\n",
       "      <td>-0.1493</td>\n",
       "      <td>0.7462</td>\n",
       "      <td>1.1404</td>\n",
       "      <td>-1.3101</td>\n",
       "      <td>-0.4754</td>\n",
       "      <td>-0.5833</td>\n",
       "      <td>0.5693</td>\n",
       "      <td>-0.0811</td>\n",
       "      <td>-0.1211</td>\n",
       "      <td>0.8002</td>\n",
       "      <td>-0.3252</td>\n",
       "      <td>-0.3279</td>\n",
       "      <td>0.3385</td>\n",
       "      <td>2.4627</td>\n",
       "      <td>-0.0830</td>\n",
       "      <td>0.2630</td>\n",
       "      <td>-0.3350</td>\n",
       "      <td>0.6936</td>\n",
       "      <td>0.2267</td>\n",
       "      <td>-0.2072</td>\n",
       "      <td>1.9952</td>\n",
       "      <td>-0.5345</td>\n",
       "      <td>-0.0605</td>\n",
       "      <td>1.6168</td>\n",
       "      <td>3.0750</td>\n",
       "      <td>1.2410</td>\n",
       "      <td>0.3049</td>\n",
       "      <td>1.3562</td>\n",
       "      <td>1.3587</td>\n",
       "      <td>0.5989</td>\n",
       "      <td>-0.2455</td>\n",
       "      <td>-0.1007</td>\n",
       "      <td>0.9359</td>\n",
       "      <td>-0.1762</td>\n",
       "      <td>1.2094</td>\n",
       "      <td>-0.3670</td>\n",
       "      <td>1.0106</td>\n",
       "      <td>-0.0708</td>\n",
       "      <td>0.9001</td>\n",
       "      <td>1</td>\n",
       "    </tr>\n",
       "    <tr>\n",
       "      <td>Squadron</td>\n",
       "      <td>Tobiason</td>\n",
       "      <td>cc692225</td>\n",
       "      <td>MFG</td>\n",
       "      <td>D1</td>\n",
       "      <td>Operator and Direct Labor</td>\n",
       "      <td>Tarrington</td>\n",
       "      <td>Naakea</td>\n",
       "      <td>Duffner</td>\n",
       "      <td>Terneros</td>\n",
       "      <td>Finder</td>\n",
       "      <td>CN</td>\n",
       "      <td>Asia</td>\n",
       "      <td>China</td>\n",
       "      <td>Bwokwanalejwa</td>\n",
       "      <td>12-Technical Certificates</td>\n",
       "      <td>-0.4493</td>\n",
       "      <td>-0.1656</td>\n",
       "      <td>-0.9083</td>\n",
       "      <td>-0.1748</td>\n",
       "      <td>-0.2253</td>\n",
       "      <td>-0.6937</td>\n",
       "      <td>-0.8229</td>\n",
       "      <td>-0.6866</td>\n",
       "      <td>-0.5254</td>\n",
       "      <td>-0.3662</td>\n",
       "      <td>-0.3650</td>\n",
       "      <td>-0.3833</td>\n",
       "      <td>-0.1493</td>\n",
       "      <td>-1.6560</td>\n",
       "      <td>-0.3530</td>\n",
       "      <td>0.7633</td>\n",
       "      <td>-0.4754</td>\n",
       "      <td>-0.5833</td>\n",
       "      <td>-0.5109</td>\n",
       "      <td>-0.0811</td>\n",
       "      <td>-0.1211</td>\n",
       "      <td>0.0362</td>\n",
       "      <td>-0.3252</td>\n",
       "      <td>-0.3279</td>\n",
       "      <td>-0.2382</td>\n",
       "      <td>-0.3874</td>\n",
       "      <td>-0.6991</td>\n",
       "      <td>-0.3498</td>\n",
       "      <td>-0.3350</td>\n",
       "      <td>-0.1074</td>\n",
       "      <td>-0.6802</td>\n",
       "      <td>-0.2072</td>\n",
       "      <td>-0.3856</td>\n",
       "      <td>-0.5345</td>\n",
       "      <td>-0.2356</td>\n",
       "      <td>-0.1098</td>\n",
       "      <td>-0.4012</td>\n",
       "      <td>-0.0163</td>\n",
       "      <td>-0.3340</td>\n",
       "      <td>-0.8306</td>\n",
       "      <td>-0.4045</td>\n",
       "      <td>-0.4026</td>\n",
       "      <td>-0.2455</td>\n",
       "      <td>-0.1007</td>\n",
       "      <td>-0.6529</td>\n",
       "      <td>-0.1762</td>\n",
       "      <td>-0.5941</td>\n",
       "      <td>-0.3670</td>\n",
       "      <td>-0.5062</td>\n",
       "      <td>-0.0708</td>\n",
       "      <td>0.9001</td>\n",
       "      <td>1</td>\n",
       "    </tr>\n",
       "    <tr>\n",
       "      <td>Duenquat</td>\n",
       "      <td>Clothespole</td>\n",
       "      <td>cc591100</td>\n",
       "      <td>MFG</td>\n",
       "      <td>D3</td>\n",
       "      <td>Operator and Direct Labor</td>\n",
       "      <td>Tarrington</td>\n",
       "      <td>Illil</td>\n",
       "      <td>Parkborough</td>\n",
       "      <td>Privett</td>\n",
       "      <td>Reall</td>\n",
       "      <td>JP</td>\n",
       "      <td>Asia</td>\n",
       "      <td>Japan</td>\n",
       "      <td>Samples</td>\n",
       "      <td>11-Pre-University</td>\n",
       "      <td>-0.4493</td>\n",
       "      <td>-0.1656</td>\n",
       "      <td>-0.9083</td>\n",
       "      <td>-0.1748</td>\n",
       "      <td>-0.2253</td>\n",
       "      <td>-0.6937</td>\n",
       "      <td>0.8736</td>\n",
       "      <td>0.5166</td>\n",
       "      <td>-0.5254</td>\n",
       "      <td>-0.3662</td>\n",
       "      <td>-0.3650</td>\n",
       "      <td>-0.3833</td>\n",
       "      <td>-0.1493</td>\n",
       "      <td>-1.0554</td>\n",
       "      <td>-0.3530</td>\n",
       "      <td>-1.3101</td>\n",
       "      <td>-0.4754</td>\n",
       "      <td>-0.5833</td>\n",
       "      <td>-1.0871</td>\n",
       "      <td>-0.0811</td>\n",
       "      <td>-1.0532</td>\n",
       "      <td>-0.7279</td>\n",
       "      <td>-0.3252</td>\n",
       "      <td>-0.3279</td>\n",
       "      <td>-0.8149</td>\n",
       "      <td>-0.3874</td>\n",
       "      <td>1.1491</td>\n",
       "      <td>-0.9627</td>\n",
       "      <td>-0.3350</td>\n",
       "      <td>-0.9084</td>\n",
       "      <td>-0.0130</td>\n",
       "      <td>-0.2072</td>\n",
       "      <td>-0.3856</td>\n",
       "      <td>-0.5345</td>\n",
       "      <td>-0.2356</td>\n",
       "      <td>-0.9731</td>\n",
       "      <td>-0.4012</td>\n",
       "      <td>-0.8544</td>\n",
       "      <td>-0.3340</td>\n",
       "      <td>-0.3933</td>\n",
       "      <td>-0.4045</td>\n",
       "      <td>-0.4026</td>\n",
       "      <td>-0.2455</td>\n",
       "      <td>-0.1007</td>\n",
       "      <td>-0.6529</td>\n",
       "      <td>-0.1762</td>\n",
       "      <td>0.0071</td>\n",
       "      <td>-0.3670</td>\n",
       "      <td>-0.5062</td>\n",
       "      <td>-0.9429</td>\n",
       "      <td>-0.6516</td>\n",
       "      <td>0</td>\n",
       "    </tr>\n",
       "    <tr>\n",
       "      <td>Duenquat</td>\n",
       "      <td>CayucosMorro</td>\n",
       "      <td>cc551908</td>\n",
       "      <td>MFG</td>\n",
       "      <td>T1</td>\n",
       "      <td>Technician Skilled Labor</td>\n",
       "      <td>Wirkkala</td>\n",
       "      <td>McKans</td>\n",
       "      <td>Bartome</td>\n",
       "      <td>los</td>\n",
       "      <td>Puetto</td>\n",
       "      <td>SG</td>\n",
       "      <td>Asia</td>\n",
       "      <td>Singapore</td>\n",
       "      <td>Chegwin</td>\n",
       "      <td>10-Diploma</td>\n",
       "      <td>-0.4493</td>\n",
       "      <td>-0.1656</td>\n",
       "      <td>-0.9083</td>\n",
       "      <td>-0.1748</td>\n",
       "      <td>-0.2253</td>\n",
       "      <td>0.2897</td>\n",
       "      <td>-0.8854</td>\n",
       "      <td>-0.6866</td>\n",
       "      <td>-0.5254</td>\n",
       "      <td>-0.3662</td>\n",
       "      <td>-0.3650</td>\n",
       "      <td>-0.3833</td>\n",
       "      <td>-0.1493</td>\n",
       "      <td>-0.4549</td>\n",
       "      <td>-0.3530</td>\n",
       "      <td>0.7633</td>\n",
       "      <td>-0.4754</td>\n",
       "      <td>0.0234</td>\n",
       "      <td>-0.6910</td>\n",
       "      <td>-0.0811</td>\n",
       "      <td>0.3449</td>\n",
       "      <td>-0.7279</td>\n",
       "      <td>-0.3252</td>\n",
       "      <td>-0.3279</td>\n",
       "      <td>-0.2382</td>\n",
       "      <td>-0.3874</td>\n",
       "      <td>1.1491</td>\n",
       "      <td>-0.3498</td>\n",
       "      <td>-0.3350</td>\n",
       "      <td>-0.9084</td>\n",
       "      <td>-0.6221</td>\n",
       "      <td>-0.2072</td>\n",
       "      <td>0.8048</td>\n",
       "      <td>-0.2789</td>\n",
       "      <td>-0.2356</td>\n",
       "      <td>-0.5415</td>\n",
       "      <td>-0.4012</td>\n",
       "      <td>-0.4353</td>\n",
       "      <td>-0.3340</td>\n",
       "      <td>0.0441</td>\n",
       "      <td>-0.4045</td>\n",
       "      <td>-0.4026</td>\n",
       "      <td>-0.2455</td>\n",
       "      <td>-0.1007</td>\n",
       "      <td>0.1415</td>\n",
       "      <td>-0.1762</td>\n",
       "      <td>0.6082</td>\n",
       "      <td>-0.3670</td>\n",
       "      <td>1.0106</td>\n",
       "      <td>-0.5068</td>\n",
       "      <td>-0.6516</td>\n",
       "      <td>0</td>\n",
       "    </tr>\n",
       "  </tbody>\n",
       "</table>"
      ],
      "text/plain": [
       "<IPython.core.display.HTML object>"
      ]
     },
     "metadata": {},
     "output_type": "display_data"
    }
   ],
   "source": [
    "data_bunch.show_batch()"
   ]
  },
  {
   "cell_type": "markdown",
   "metadata": {},
   "source": [
    "## 2.3 Compute Embedding Size"
   ]
  },
  {
   "cell_type": "code",
   "execution_count": 21,
   "metadata": {},
   "outputs": [
    {
     "data": {
      "text/plain": [
       "[15, 25, 50, 2, 22, 5, 50, 50, 50, 50, 50, 14, 2, 6, 50, 7]"
      ]
     },
     "execution_count": 21,
     "metadata": {},
     "output_type": "execute_result"
    }
   ],
   "source": [
    "for cat in cat_names:\n",
    "    df[cat] = df[cat].astype('category')\n",
    "\n",
    "cat_szs = [len(df[col].cat.categories) for col in cat_names]\n",
    "emb_szs = [min(50, (size+1)//2) for size in cat_szs]\n",
    "emb_szs"
   ]
  },
  {
   "cell_type": "code",
   "execution_count": 22,
   "metadata": {},
   "outputs": [
    {
     "data": {
      "text/plain": [
       "{'accountability_matrix_label_last': 15,\n",
       " 'company_code_last': 25,\n",
       " 'cost_center_code_last': 50,\n",
       " 'functional_area_last': 2,\n",
       " 'gjs_code_label_last': 22,\n",
       " 'gjs_framework_last': 5,\n",
       " 'job_family_label_last': 50,\n",
       " 'job_long_text_last': 50,\n",
       " 'operational_rollup_label_last': 50,\n",
       " 'org_unit_desc_last': 50,\n",
       " 'site_city_code_last': 50,\n",
       " 'site_country_code_last': 14,\n",
       " 'site_country_region_last': 2,\n",
       " 'site_country_segment_last': 6,\n",
       " 'site_desc_last': 50,\n",
       " 'certificate_order_grp_last': 7}"
      ]
     },
     "execution_count": 22,
     "metadata": {},
     "output_type": "execute_result"
    }
   ],
   "source": [
    "emb_szs_fastai = {name: value for (name, value) in zip(cat_names,emb_szs)}\n",
    "emb_szs_fastai"
   ]
  },
  {
   "cell_type": "markdown",
   "metadata": {},
   "source": [
    "## 2.4 Define Learner"
   ]
  },
  {
   "cell_type": "code",
   "execution_count": 23,
   "metadata": {},
   "outputs": [
    {
     "data": {
      "text/plain": [
       "TabularModel\n",
       "======================================================================\n",
       "Layer (type)         Output Shape         Param #    Trainable \n",
       "======================================================================\n",
       "Embedding            [15]                 450        True      \n",
       "______________________________________________________________________\n",
       "Embedding            [25]                 1,150      True      \n",
       "______________________________________________________________________\n",
       "Embedding            [50]                 94,050     True      \n",
       "______________________________________________________________________\n",
       "Embedding            [2]                  8          True      \n",
       "______________________________________________________________________\n",
       "Embedding            [22]                 968        True      \n",
       "______________________________________________________________________\n",
       "Embedding            [5]                  50         True      \n",
       "______________________________________________________________________\n",
       "Embedding            [50]                 9,500      True      \n",
       "______________________________________________________________________\n",
       "Embedding            [50]                 68,850     True      \n",
       "______________________________________________________________________\n",
       "Embedding            [50]                 8,000      True      \n",
       "______________________________________________________________________\n",
       "Embedding            [50]                 380,400    True      \n",
       "______________________________________________________________________\n",
       "Embedding            [50]                 9,250      True      \n",
       "______________________________________________________________________\n",
       "Embedding            [14]                 364        True      \n",
       "______________________________________________________________________\n",
       "Embedding            [2]                  8          True      \n",
       "______________________________________________________________________\n",
       "Embedding            [6]                  72         True      \n",
       "______________________________________________________________________\n",
       "Embedding            [50]                 13,450     True      \n",
       "______________________________________________________________________\n",
       "Embedding            [7]                  105        True      \n",
       "______________________________________________________________________\n",
       "Dropout              [448]                0          False     \n",
       "______________________________________________________________________\n",
       "BatchNorm1d          [51]                 102        True      \n",
       "______________________________________________________________________\n",
       "Linear               [200]                100,000    True      \n",
       "______________________________________________________________________\n",
       "ReLU                 [200]                0          False     \n",
       "______________________________________________________________________\n",
       "BatchNorm1d          [200]                400        True      \n",
       "______________________________________________________________________\n",
       "Dropout              [200]                0          False     \n",
       "______________________________________________________________________\n",
       "Linear               [100]                20,100     True      \n",
       "______________________________________________________________________\n",
       "ReLU                 [100]                0          False     \n",
       "______________________________________________________________________\n",
       "BatchNorm1d          [100]                200        True      \n",
       "______________________________________________________________________\n",
       "Dropout              [100]                0          False     \n",
       "______________________________________________________________________\n",
       "Linear               [50]                 5,050      True      \n",
       "______________________________________________________________________\n",
       "ReLU                 [50]                 0          False     \n",
       "______________________________________________________________________\n",
       "BatchNorm1d          [50]                 100        True      \n",
       "______________________________________________________________________\n",
       "Dropout              [50]                 0          False     \n",
       "______________________________________________________________________\n",
       "Linear               [10]                 510        True      \n",
       "______________________________________________________________________\n",
       "ReLU                 [10]                 0          False     \n",
       "______________________________________________________________________\n",
       "BatchNorm1d          [10]                 20         True      \n",
       "______________________________________________________________________\n",
       "Dropout              [10]                 0          False     \n",
       "______________________________________________________________________\n",
       "Linear               [2]                  22         True      \n",
       "______________________________________________________________________\n",
       "\n",
       "Total params: 713,179\n",
       "Total trainable params: 713,179\n",
       "Total non-trainable params: 0\n",
       "Optimized with 'torch.optim.adam.Adam', betas=(0.9, 0.99)\n",
       "Using true weight decay as discussed in https://www.fast.ai/2018/07/02/adam-weight-decay/ \n",
       "Loss function : FlattenedLoss\n",
       "======================================================================\n",
       "Callbacks functions applied "
      ]
     },
     "execution_count": 23,
     "metadata": {},
     "output_type": "execute_result"
    }
   ],
   "source": [
    "learn = tabular_learner(data_bunch,\n",
    "                        layers=[200,100,50,10], \n",
    "                        emb_szs=emb_szs_fastai,\n",
    "                        ps=0.1,\n",
    "                        metrics=[accuracy, error_rate,\n",
    "                                 Precision(average='micro'),\n",
    "                                 Recall(average='micro'),\n",
    "                                 FBeta(average='micro'),\n",
    "                                 Precision(average='macro'),\n",
    "                                 Recall(average='macro'),\n",
    "                                 FBeta(average='macro')], #, ConfusionMatrix]\n",
    "                        callback_fns = [partial(EarlyStoppingCallback, monitor='valid_loss', min_delta=0.001, patience=2)] \n",
    "                       )\n",
    "learn.summary()"
   ]
  },
  {
   "cell_type": "markdown",
   "metadata": {},
   "source": [
    "## 2.5 Train the model"
   ]
  },
  {
   "cell_type": "code",
   "execution_count": 24,
   "metadata": {},
   "outputs": [
    {
     "data": {
      "text/html": [],
      "text/plain": [
       "<IPython.core.display.HTML object>"
      ]
     },
     "metadata": {},
     "output_type": "display_data"
    },
    {
     "name": "stdout",
     "output_type": "stream",
     "text": [
      "LR Finder is complete, type {learner_name}.recorder.plot() to see the graph.\n"
     ]
    },
    {
     "data": {
      "image/png": "[encoded data removed]",
      "text/plain": [
       "<Figure size 432x288 with 1 Axes>"
      ]
     },
     "metadata": {
      "needs_background": "light"
     },
     "output_type": "display_data"
    }
   ],
   "source": [
    "learn.lr_find()\n",
    "learn.recorder.plot()"
   ]
  },
  {
   "cell_type": "markdown",
   "metadata": {},
   "source": [
    "#### Learning Rate of 1e-2 seems to have the steepest downward slope. We will use this for training."
   ]
  },
  {
   "cell_type": "code",
   "execution_count": 25,
   "metadata": {},
   "outputs": [
    {
     "data": {
      "text/html": [
       "<table border=\"1\" class=\"dataframe\">\n",
       "  <thead>\n",
       "    <tr style=\"text-align: left;\">\n",
       "      <th>epoch</th>\n",
       "      <th>train_loss</th>\n",
       "      <th>valid_loss</th>\n",
       "      <th>accuracy</th>\n",
       "      <th>error_rate</th>\n",
       "      <th>precision</th>\n",
       "      <th>recall</th>\n",
       "      <th>f_beta</th>\n",
       "      <th>precision</th>\n",
       "      <th>recall</th>\n",
       "      <th>f_beta</th>\n",
       "      <th>time</th>\n",
       "    </tr>\n",
       "  </thead>\n",
       "  <tbody>\n",
       "    <tr>\n",
       "      <td>0</td>\n",
       "      <td>0.399262</td>\n",
       "      <td>0.395771</td>\n",
       "      <td>0.811715</td>\n",
       "      <td>0.188285</td>\n",
       "      <td>0.811715</td>\n",
       "      <td>0.811715</td>\n",
       "      <td>0.811715</td>\n",
       "      <td>0.776579</td>\n",
       "      <td>0.754403</td>\n",
       "      <td>0.757741</td>\n",
       "      <td>01:55</td>\n",
       "    </tr>\n",
       "    <tr>\n",
       "      <td>1</td>\n",
       "      <td>0.374435</td>\n",
       "      <td>0.351942</td>\n",
       "      <td>0.832769</td>\n",
       "      <td>0.167231</td>\n",
       "      <td>0.832769</td>\n",
       "      <td>0.832769</td>\n",
       "      <td>0.832769</td>\n",
       "      <td>0.798479</td>\n",
       "      <td>0.796885</td>\n",
       "      <td>0.797199</td>\n",
       "      <td>01:55</td>\n",
       "    </tr>\n",
       "    <tr>\n",
       "      <td>2</td>\n",
       "      <td>0.315562</td>\n",
       "      <td>0.341231</td>\n",
       "      <td>0.841403</td>\n",
       "      <td>0.158597</td>\n",
       "      <td>0.841403</td>\n",
       "      <td>0.841403</td>\n",
       "      <td>0.841403</td>\n",
       "      <td>0.814295</td>\n",
       "      <td>0.792645</td>\n",
       "      <td>0.796094</td>\n",
       "      <td>01:54</td>\n",
       "    </tr>\n",
       "    <tr>\n",
       "      <td>3</td>\n",
       "      <td>0.247031</td>\n",
       "      <td>0.346921</td>\n",
       "      <td>0.846384</td>\n",
       "      <td>0.153616</td>\n",
       "      <td>0.846384</td>\n",
       "      <td>0.846384</td>\n",
       "      <td>0.846384</td>\n",
       "      <td>0.813350</td>\n",
       "      <td>0.820577</td>\n",
       "      <td>0.819016</td>\n",
       "      <td>01:51</td>\n",
       "    </tr>\n",
       "    <tr>\n",
       "      <td>4</td>\n",
       "      <td>0.201176</td>\n",
       "      <td>0.365494</td>\n",
       "      <td>0.847181</td>\n",
       "      <td>0.152819</td>\n",
       "      <td>0.847181</td>\n",
       "      <td>0.847181</td>\n",
       "      <td>0.847181</td>\n",
       "      <td>0.819251</td>\n",
       "      <td>0.804957</td>\n",
       "      <td>0.807426</td>\n",
       "      <td>01:52</td>\n",
       "    </tr>\n",
       "  </tbody>\n",
       "</table>"
      ],
      "text/plain": [
       "<IPython.core.display.HTML object>"
      ]
     },
     "metadata": {},
     "output_type": "display_data"
    }
   ],
   "source": [
    "learn.fit_one_cycle(5, 1e-2)"
   ]
  },
  {
   "cell_type": "code",
   "execution_count": null,
   "metadata": {},
   "outputs": [],
   "source": [
    "# Why Micro values are same as accuracy\n",
    "# https://forums.fast.ai/t/precision-recall-understanding-averages/41019"
   ]
  },
  {
   "cell_type": "code",
   "execution_count": 26,
   "metadata": {},
   "outputs": [
    {
     "data": {
      "image/png": "[encoded data removed]",
      "text/plain": [
       "<Figure size 432x288 with 1 Axes>"
      ]
     },
     "metadata": {
      "needs_background": "light"
     },
     "output_type": "display_data"
    }
   ],
   "source": [
    "learn.recorder.plot_losses()"
   ]
  },
  {
   "cell_type": "code",
   "execution_count": 27,
   "metadata": {},
   "outputs": [
    {
     "data": {
      "image/png": "[encoded data removed]",
      "text/plain": [
       "<Figure size 432x2304 with 8 Axes>"
      ]
     },
     "metadata": {
      "needs_background": "light"
     },
     "output_type": "display_data"
    }
   ],
   "source": [
    "learn.recorder.plot_metrics()"
   ]
  },
  {
   "cell_type": "markdown",
   "metadata": {},
   "source": [
    "# 3. Evaluations"
   ]
  },
  {
   "cell_type": "markdown",
   "metadata": {},
   "source": [
    "## 3.1 Validation Set"
   ]
  },
  {
   "cell_type": "markdown",
   "metadata": {},
   "source": [
    "### 3.1.1 Predictions"
   ]
  },
  {
   "cell_type": "code",
   "execution_count": 28,
   "metadata": {},
   "outputs": [],
   "source": [
    "preds, target = learn.get_preds(ds_type=DatasetType.Valid)"
   ]
  },
  {
   "cell_type": "code",
   "execution_count": 29,
   "metadata": {},
   "outputs": [
    {
     "name": "stdout",
     "output_type": "stream",
     "text": [
      "torch.Size([15057, 2])\n",
      "torch.Size([15057])\n"
     ]
    }
   ],
   "source": [
    "print(preds.shape)\n",
    "print(target.shape)"
   ]
  },
  {
   "cell_type": "code",
   "execution_count": 30,
   "metadata": {},
   "outputs": [
    {
     "name": "stdout",
     "output_type": "stream",
     "text": [
      "tensor([[9.9948e-01, 5.1832e-04],\n",
      "        [9.9961e-01, 3.9318e-04],\n",
      "        [1.5427e-03, 9.9846e-01],\n",
      "        [9.9980e-01, 2.0229e-04],\n",
      "        [5.0828e-02, 9.4917e-01],\n",
      "        [7.2617e-02, 9.2738e-01],\n",
      "        [4.1031e-01, 5.8969e-01],\n",
      "        [9.9597e-01, 4.0348e-03],\n",
      "        [9.8537e-01, 1.4632e-02],\n",
      "        [4.5997e-01, 5.4003e-01]])\n",
      "tensor([0, 0, 1, 0, 1, 1, 1, 0, 0, 1])\n",
      "tensor([0, 0, 1, 0, 1, 1, 1, 0, 0, 0])\n"
     ]
    }
   ],
   "source": [
    "print(preds[0:10])\n",
    "print(preds[0:10].argmax(dim=1))\n",
    "print(target[0:10])"
   ]
  },
  {
   "cell_type": "markdown",
   "metadata": {},
   "source": [
    "### 3.1.2 Metrics"
   ]
  },
  {
   "cell_type": "code",
   "execution_count": 31,
   "metadata": {},
   "outputs": [
    {
     "data": {
      "text/plain": [
       "array([[9654,  990],\n",
       "       [1311, 3102]], dtype=int64)"
      ]
     },
     "execution_count": 31,
     "metadata": {},
     "output_type": "execute_result"
    }
   ],
   "source": [
    "from sklearn.metrics import confusion_matrix\n",
    "y_true = target\n",
    "y_pred = preds.argmax(dim=1)\n",
    "confusion_matrix(y_true, y_pred)"
   ]
  },
  {
   "cell_type": "code",
   "execution_count": 32,
   "metadata": {},
   "outputs": [
    {
     "name": "stdout",
     "output_type": "stream",
     "text": [
      "              precision    recall  f1-score   support\n",
      "\n",
      "           0       0.88      0.91      0.89     10644\n",
      "           1       0.76      0.70      0.73      4413\n",
      "\n",
      "    accuracy                           0.85     15057\n",
      "   macro avg       0.82      0.80      0.81     15057\n",
      "weighted avg       0.84      0.85      0.85     15057\n",
      "\n"
     ]
    }
   ],
   "source": [
    "from sklearn.metrics import classification_report\n",
    "print(classification_report(y_true, y_pred))"
   ]
  },
  {
   "cell_type": "markdown",
   "metadata": {},
   "source": [
    "## 3.2 Test Set"
   ]
  },
  {
   "cell_type": "markdown",
   "metadata": {},
   "source": [
    "### 3.2.1 Predictions"
   ]
  },
  {
   "cell_type": "code",
   "execution_count": 33,
   "metadata": {},
   "outputs": [],
   "source": [
    "# For test set, the targets are set to 0\n",
    "# https://forums.fast.ai/t/getting-predictions-get-preds-for-test-sets/32077/6\n",
    "preds, _ = learn.get_preds(ds_type=DatasetType.Test)"
   ]
  },
  {
   "cell_type": "markdown",
   "metadata": {},
   "source": [
    "### 3.2.2 Metrics"
   ]
  },
  {
   "cell_type": "code",
   "execution_count": 34,
   "metadata": {},
   "outputs": [
    {
     "data": {
      "text/plain": [
       "array([[12225,  1243],\n",
       "       [ 1600,  3754]], dtype=int64)"
      ]
     },
     "execution_count": 34,
     "metadata": {},
     "output_type": "execute_result"
    }
   ],
   "source": [
    "y_true = test_tabular_list.inner_df[dep_var]\n",
    "y_pred = preds.argmax(dim=1)\n",
    "confusion_matrix(y_true, y_pred)"
   ]
  },
  {
   "cell_type": "code",
   "execution_count": 35,
   "metadata": {},
   "outputs": [
    {
     "name": "stdout",
     "output_type": "stream",
     "text": [
      "              precision    recall  f1-score   support\n",
      "\n",
      "           0       0.88      0.91      0.90     13468\n",
      "           1       0.75      0.70      0.73      5354\n",
      "\n",
      "    accuracy                           0.85     18822\n",
      "   macro avg       0.82      0.80      0.81     18822\n",
      "weighted avg       0.85      0.85      0.85     18822\n",
      "\n"
     ]
    }
   ],
   "source": [
    "print(classification_report(y_true, y_pred))"
   ]
  },
  {
   "cell_type": "markdown",
   "metadata": {},
   "source": [
    "# Conclusions"
   ]
  },
  {
   "cell_type": "markdown",
   "metadata": {},
   "source": [
    "1. Neural Network with Embeddings allow use of most categorical variables irrespective of the number of levels \n",
    "2. The Neural network above does not overfit (we used early stopping to prevent that in case it started overfitting). This can also be confirmed by looking at the confusion matrix of the test set and confirming that this is close to the confusion matrix for the validation set\n",
    "3. In this case, results with the best rendom forest were slightly better than those obtained from the neural network. More work would be needed to see if the neural network model can be improved. "
   ]
  },
  {
   "cell_type": "markdown",
   "metadata": {},
   "source": [
    "# 5. TODO / Followups"
   ]
  },
  {
   "cell_type": "markdown",
   "metadata": {},
   "source": [
    "* How to use a balanced dataset with fast.ai\n",
    "* How to use custom metrics with fast.ai\n",
    "* How to plot validation and train loss (similar to this: https://github.com/adriangrepo/my_fastai/blob/master/dl2/translate.ipynb)\n",
    "* Lern how to use learn.predict with DataLoader instead of the Dataframe directly"
   ]
  }
 ],
 "metadata": {
  "kernelspec": {
   "display_name": "fastai v1",
   "language": "python",
   "name": "fastai_v1"
  },
  "language_info": {
   "codemirror_mode": {
    "name": "ipython",
    "version": 3
   },
   "file_extension": ".py",
   "mimetype": "text/x-python",
   "name": "python",
   "nbconvert_exporter": "python",
   "pygments_lexer": "ipython3",
   "version": "3.6.9"
  }
 },
 "nbformat": 4,
 "nbformat_minor": 4
}
