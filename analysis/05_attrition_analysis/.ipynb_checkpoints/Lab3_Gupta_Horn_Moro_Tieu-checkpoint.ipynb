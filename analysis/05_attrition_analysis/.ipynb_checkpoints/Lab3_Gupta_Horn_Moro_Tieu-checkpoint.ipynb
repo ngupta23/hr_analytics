{
 "cells": [
  {
   "cell_type": "markdown",
   "metadata": {},
   "source": [
    "# Windows of Opportunity: Increasing employee retention through candidate promotability and promotion window identification."
   ]
  },
  {
   "cell_type": "markdown",
   "metadata": {},
   "source": [
    "[Nikhil Gupta](guptan@mail.smu.edu), [Hayley Horn](hhorn@mail.smu.edu), [Max Moro](mmoro@mail.smu.edu), [Michael Tieu](mtieu@mail.smu.edu)"
   ]
  },
  {
   "cell_type": "markdown",
   "metadata": {},
   "source": [
    "## Table of Contents <a class=\"anchor\" id=\"TOC\"></a> \n",
    "\n",
    "<font size = 4>[Business Understanding](#Section1)</font>\n",
    "\n",
    "<font size = 4>[Data Understanding](#Section2)</font> <br>\n",
    "* [Data Dictionary](#DP_Dict)<br>\n",
    "* [Basic Setup](#DP_Setup)<br>\n",
    "* [Loading Libraies](#DP_Loading)<br>\n",
    "* [Data Processing](#DP_DP)<br>\n",
    "\n",
    "<font size = 4>[Modeling and Evaluation](#Section3) </font><br>\n",
    "* [Evaluation Metrics for Cluster Analysis](#ME_Metrics)<br>\n",
    "* [K-Means Clustering](#ME_KM)<br>\n",
    "* [Agglomerative Clustering](#ME_AG)\n",
    "* [Final Model](#EM_Final)<br>\n",
    "* [Cluster Comparison](#EM_CC)<br>\n",
    "* [Notable Observations](#EM_NO)<br>\n",
    "\n",
    "<font size = 4>[Deployment](#Section8)</font>\n",
    "\n",
    "<font size = 4>[Exceptional Work](#Section9) </font>\n",
    "* [Cluster Evaluation Heatmap](#EW_1)<br>\n",
    "* [Python “More” Package](#EW_2)<br>\n",
    "\n",
    "<font size = 4>[Conclusion](#Section10) </font><br>\n"
   ]
  },
  {
   "cell_type": "markdown",
   "metadata": {},
   "source": [
    "## <font color=maroon>Business Purpose</font><a class=\"anchor\" id=\"Section1\"></a>"
   ]
  },
  {
   "cell_type": "markdown",
   "metadata": {},
   "source": [
    "In previous stages in this study, we explored our data set with the intent of understanding the underlying factors behind employee promotability. We used classification models to predict both employee promotability and an estimated time window for an employee's subsequent promotion. We have also touched on initial ideas for reporting and deploying these models for employee promotability. \n",
    "\n",
    "One feature that was isolated from our prior analysis was employee attrition. This feature was removed in our classification activity because an inherent assumption of promotability and a promotion window is employee retention. In order to capture a holistic view of our employee base, we realize the need to understand the features upon which employee attrition is associated. \n",
    "\n",
    "As a result, the purpose of this study is to launch a deep dive into understanding factors influencing employee attrition, especially for employees with potential<sup>*</sup>. We reintroduce the <Strong>voluntary_attrition</strong> feature to our dataset and use a clustering approach to determine the key characteristics of those who left voluntarily. The intention here is to 1) identify key correlations between features and attrition and 2) provide support for organizational and structural changes in order to boost employee retention. \n",
    "\n",
    "\n",
    "<br>\n",
    "\n",
    "<sup>*</sup> Employees with potential here are defined as those who have received a promotion in the past. \n"
   ]
  },
  {
   "cell_type": "markdown",
   "metadata": {},
   "source": [
    "[Back to Table of Contents](#TOC)"
   ]
  },
  {
   "cell_type": "markdown",
   "metadata": {},
   "source": [
    "\n",
    "## <font color=maroon>Data Understanding</font><a class=\"anchor\" id=\"Section2\"></a>\n",
    "\n",
    "To better understand the key nuances within our dataset, we filter out features that are categorical in nature. These features provide an inherent distinction between groups and so insight can be obtained without the use of any advanced algorithms. The purpose of this exercise was to look at continuous variables in order to gain any insight that might help reduce attrition in the future. \n",
    "\n",
    "In prior analyses to understand our employees, we evaluated our features according to a total of eight themes. These features will be reunited for the purpose of this study. This allows us to look at our dataset in a comprehensive manner, as clusters will take into account all themes rather than potentially partitioning and diluting any meaningful insights that may arise. \n",
    "\n",
    "Below is a data dictionary of all the (non-categorical) attributes available within this obtained dataset that are used for clustering.\n",
    " \n",
    "As for attribute types, nominal field types largely indicate the factor-level attributes. In some instances, these also indicate the binary aspect of our attributes, such as whether or not a person received a promotion. We also have interval data, which represents data in a span of time, ratio data, which represents interval data with respect to an absolute 0 value, and ordinal data, which represents categorical data. \n"
   ]
  },
  {
   "cell_type": "markdown",
   "metadata": {},
   "source": [
    "[Back to Table of Contents](#TOC)"
   ]
  },
  {
   "cell_type": "markdown",
   "metadata": {},
   "source": [
    "\n",
    "\n",
    "### <i>Data Dictionary</i><a class=\"anchor\" id=\"DP_Dict\"></a>\n",
    "\n",
    "\n",
    "\n",
    "<style type=\"text/css\">\n",
    ".tg  {border-collapse:collapse;border-spacing:0;}\n",
    ".tg td{font-family:Arial, sans-serif;font-size:14px;padding:10px 5px;border-style:solid;border-width:1px;overflow:hidden;word-break:normal;border-color:black;}\n",
    ".tg th{font-family:Arial, sans-serif;font-size:14px;font-weight:normal;padding:10px 5px;border-style:solid;border-width:1px;overflow:hidden;word-break:normal;border-color:black;}\n",
    ".tg .tg-c3ow{border-color:inherit;text-align:left;vertical-align:top}\n",
    ".tg .tg-0pky{border-color:inherit;text-align:left;vertical-align:top}\n",
    ".tg .tg-dvpl{border-color:inherit;text-align:left;vertical-align:top}\n",
    ".rendered_html .table.tg { text-align: left; }  <!-- This overrides the right align -->\n",
    "\n",
    "</style>\n",
    "<table class=\"tg\">\n",
    "  <tr>\n",
    "    <th class=\"tg-0pky\">Attribute</th>\n",
    "    <th class=\"tg-c3ow\">Type</th>\n",
    "    <th class=\"tg-c3ow\">Unique Values</th>\n",
    "    <th class=\"tg-c3ow\">Range</th>\n",
    "    <th class=\"tg-0pky\">Description</th>\n",
    "  </tr>\n",
    " <tr>\n",
    "    <td class=\"tg-0pky\">ppa_rating_last</td>\n",
    "    <td class=\"tg-c3ow\">Ordinal</td>\n",
    "    <td class=\"tg-dvpl\">7</td>\n",
    "    <td class=\"tg-dvpl\">1-5</td>\n",
    "    <td class=\"tg-0pky\">The most recent performance rating the person received. The rating goes from 1 (poor) to 5 (excellent)</td>\n",
    "  </tr>\n",
    "  <tr>\n",
    "    <td class=\"tg-0pky\">comparatio_last</td>\n",
    "    <td class=\"tg-c3ow\">Ratio</td>\n",
    "    <td class=\"tg-dvpl\">4980</td>\n",
    "    <td class=\"tg-dvpl\">0.5045-1.9676</td>\n",
    "    <td class=\"tg-0pky\">The most recent comparatio of the person. Comparatio is the ratio between the person salary and a predefined target salary for the job and country the employee mapped into. This value has been anonymized and scaled.</td>\n",
    "  </tr>\n",
    "  <tr>\n",
    "    <td class=\"tg-0pky\">awards_points_cnt_sum_last</td>\n",
    "    <td class=\"tg-c3ow\">Ratio</td>\n",
    "    <td class=\"tg-dvpl\">50</td>\n",
    "    <td class=\"tg-dvpl\">0-65</td>\n",
    "    <td class=\"tg-0pky\">Number of events of awards in form of 'Points' received during the month. Points is a form of small and immediate monetary recognition. Points can be converted into products.</td>\n",
    "  </tr>\n",
    "  <tr>\n",
    "    <td class=\"tg-0pky\">awards_points_sum_last</td>\n",
    "    <td class=\"tg-c3ow\">Ratio</td>\n",
    "    <td class=\"tg-dvpl\">1267</td>\n",
    "    <td class=\"tg-dvpl\">0-3640</td>\n",
    "    <td class=\"tg-0pky\">Number of Points received during the month.</td>\n",
    "  </tr>\n",
    "  <tr>\n",
    "    <td class=\"tg-0pky\">awards_bonus_cnt_sum_last </td>\n",
    "    <td class=\"tg-c3ow\">Ratio</td>\n",
    "    <td class=\"tg-dvpl\">14</td>\n",
    "    <td class=\"tg-dvpl\">0-13</td>\n",
    "    <td class=\"tg-0pky\">Number of events of awards in form of monetary bonus received during the month.</td>\n",
    "  </tr>\n",
    "  <tr>\n",
    "    <td class=\"tg-0pky\">awards_bonus_sum_last</td>\n",
    "    <td class=\"tg-c3ow\">Ratio</td>\n",
    "    <td class=\"tg-dvpl\">2373</td>\n",
    "    <td class=\"tg-dvpl\">0-323.34</td>\n",
    "    <td class=\"tg-0pky\">Amount of awards in form of monetary bonus received during the month. This value has been scaled to grant anonymity of data.</td>\n",
    "  </tr>\n",
    "  <tr>\n",
    "    <td class=\"tg-0pky\">awards_peer_cnt_sum_last</td>\n",
    "    <td class=\"tg-c3ow\">Ratio</td>\n",
    "    <td class=\"tg-dvpl\">38</td>\n",
    "    <td class=\"tg-dvpl\">0-58</td>\n",
    "    <td class=\"tg-0pky\">Number of peer recognition received. A Peer recognition is non-monetary form of recognition given between employees.</td>\n",
    "  </tr>\n",
    "  <tr>\n",
    "    <td class=\"tg-0pky\">movement_lateral_cnt_sum_last</td>\n",
    "    <td class=\"tg-c3ow\">Ratio</td>\n",
    "    <td class=\"tg-dvpl\">6</td>\n",
    "    <td class=\"tg-dvpl\">0-5</td>\n",
    "    <td class=\"tg-0pky\">Number of lateral movements received. A lateral movement is when an employees changes job but there is no change in the gjs_sort_order.</td>\n",
    "  </tr>\n",
    "  <tr>\n",
    "    <td class=\"tg-0pky\">movement_demote_event_cnt_sum_last</td>\n",
    "    <td class=\"tg-c3ow\">Ratio</td>\n",
    "    <td class=\"tg-dvpl\">3</td>\n",
    "    <td class=\"tg-dvpl\">0-2</td>\n",
    "    <td class=\"tg-0pky\">Number of demotion received. A demotion is a change from one gjs_sort_order to a lower one.</td>\n",
    "  </tr>\n",
    "  <tr>\n",
    "    <td class=\"tg-0pky\">transfer_event_cnt_sum_last</td>\n",
    "    <td class=\"tg-c3ow\">Ratio</td>\n",
    "    <td class=\"tg-dvpl\">8</td>\n",
    "    <td class=\"tg-dvpl\">0-7</td>\n",
    "    <td class=\"tg-0pky\">Number of transfers. A transfer is a change in group or cost center.</td>\n",
    "  </tr>\n",
    "  <tr>\n",
    "    <td class=\"tg-0pky\">promotion_cnt</td>\n",
    "    <td class=\"tg-c3ow\">Ratio</td>\n",
    "    <td class=\"tg-dvpl\">5</td>\n",
    "    <td class=\"tg-dvpl\">0-4</td>\n",
    "    <td class=\"tg-0pky\">1 if the person received a promotion, 0 if not. A promotion is a change from one gjs_sort_order to a higher one.</td>\n",
    "  </tr>\n",
    "  <tr>\n",
    "    <td class=\"tg-0pky\">supervisor_Y_last</td>\n",
    "    <td class=\"tg-c3ow\">Nominal</td>\n",
    "    <td class=\"tg-dvpl\">2</td>\n",
    "    <td class=\"tg-dvpl\">0-1</td>\n",
    "    <td class=\"tg-0pky\">1 if the person is currently a supervisor, 0 if is an individual contributor.</td>\n",
    "  </tr>\n",
    "  <tr>\n",
    "    <td class=\"tg-0pky\">supervisor_Y_max</td>\n",
    "    <td class=\"tg-c3ow\">Nominal</td>\n",
    "    <td class=\"tg-dvpl\">2</td>\n",
    "    <td class=\"tg-dvpl\">0-1</td>\n",
    "    <td class=\"tg-0pky\">1 if the person is or has been a supervisor, 0 if was never been a a supervisor.</td>\n",
    "  </tr>\n",
    "  <tr>\n",
    "    <td class=\"tg-0pky\">span_of_control_direct_last</td>\n",
    "    <td class=\"tg-c3ow\">Ratio</td>\n",
    "    <td class=\"tg-dvpl\">67</td>\n",
    "    <td class=\"tg-dvpl\">0-118</td>\n",
    "    <td class=\"tg-0pky\">Number of employees directly reporting to the individual.</td>\n",
    "  </tr>\n",
    "  <tr>\n",
    "    <td class=\"tg-0pky\">span_of_control_total_last</td>\n",
    "    <td class=\"tg-c3ow\">Ratio</td>\n",
    "    <td class=\"tg-dvpl\">155</td>\n",
    "    <td class=\"tg-dvpl\">0-2590</td>\n",
    "    <td class=\"tg-0pky\">Number of employees directly and indirectly reporting to the individual.</td>\n",
    "  </tr>\n",
    "  <tr>\n",
    "    <td class=\"tg-0pky\">spv_ppa_rating_last</td>\n",
    "    <td class=\"tg-c3ow\">Ordinal</td>\n",
    "    <td class=\"tg-dvpl\">7</td>\n",
    "    <td class=\"tg-dvpl\">1-5</td>\n",
    "    <td class=\"tg-0pky\">The most recent performance rating of the supervisor of the person. The rating goes from 1 (poor) to 5 (excellent).</td>\n",
    "  </tr>\n",
    "  <tr>\n",
    "    <td class=\"tg-0pky\">site_country_code_nunique</td>\n",
    "    <td class=\"tg-c3ow\">Ratio</td>\n",
    "    <td class=\"tg-dvpl\">4</td>\n",
    "    <td class=\"tg-dvpl\">1-4</td>\n",
    "    <td class=\"tg-0pky\">Count of countries where the person worked since last promotion.</td>\n",
    "  </tr>\n",
    "  <tr>\n",
    "    <td class=\"tg-0pky\">site_country_region_nunique</td>\n",
    "    <td class=\"tg-c3ow\">Ratio</td>\n",
    "    <td class=\"tg-dvpl\">3</td>\n",
    "    <td class=\"tg-dvpl\">1-3</td>\n",
    "    <td class=\"tg-0pky\">Number of regions where the person worked since last promotion.</td>\n",
    "  </tr>\n",
    "  <tr>\n",
    "    <td class=\"tg-0pky\">site_country_segment_nunique</td>\n",
    "    <td class=\"tg-c3ow\">Ratio</td>\n",
    "    <td class=\"tg-dvpl\">4</td>\n",
    "    <td class=\"tg-dvpl\">1-4</td>\n",
    "    <td class=\"tg-0pky\">Number of country segments where the person worked since last promotion.</td>\n",
    "  </tr>\n",
    "  <tr>\n",
    "    <td class=\"tg-0pky\">site_city_code_nunique</td>\n",
    "    <td class=\"tg-c3ow\">Ratio</td>\n",
    "    <td class=\"tg-dvpl\">5</td>\n",
    "    <td class=\"tg-dvpl\">1-5</td>\n",
    "    <td class=\"tg-0pky\">Number of cities where the person worked.</td>\n",
    "  </tr>\n",
    "    <tr>\n",
    "    <td class=\"tg-0pky\">site_desc_nunique</td>\n",
    "    <td class=\"tg-c3ow\">Ratio</td>\n",
    "    <td class=\"tg-dvpl\">6</td>\n",
    "    <td class=\"tg-dvpl\">1-6</td>\n",
    "    <td class=\"tg-0pky\">Number of sites where the person worked.</td>\n",
    "  </tr>\n",
    "  <tr>\n",
    "    <td class=\"tg-0pky\">mgr_01_nunique - mgr_14_nunique</td>\n",
    "    <td class=\"tg-c3ow\">Ratio</td>\n",
    "    <td class=\"tg-dvpl\">18</td>\n",
    "    <td class=\"tg-dvpl\">0-18</td>\n",
    "    <td class=\"tg-0pky\">Number of distinct managers the person worked with, by organizational chart of the worker. Mgr01 is the CEO and mgr02 is 2nd level, etc.</td>\n",
    "  </tr>\n",
    "  <tr>\n",
    "    <td class=\"tg-0pky\">supervisor_nunique</td>\n",
    "    <td class=\"tg-c3ow\">Ratio</td>\n",
    "    <td class=\"tg-dvpl\">15</td>\n",
    "    <td class=\"tg-dvpl\">1-15</td>\n",
    "    <td class=\"tg-0pky\">Number of distinct supervisors the person worked with.</td>\n",
    "  </tr>\n",
    "   <tr>\n",
    "    <td class=\"tg-0pky\">reporting_level_last</td>\n",
    "    <td class=\"tg-c3ow\">Ratio</td>\n",
    "    <td class=\"tg-dvpl\">12</td>\n",
    "    <td class=\"tg-dvpl\">1-12</td>\n",
    "    <td class=\"tg-0pky\">Number of reporting levels up to the company CEO.</td>\n",
    "  </tr>\n",
    "   <tr>\n",
    "    <td class=\"tg-0pky\">accountability_matrix_label_nunique</td>\n",
    "    <td class=\"tg-c3ow\">Ratio</td>\n",
    "    <td class=\"tg-dvpl\">5</td>\n",
    "    <td class=\"tg-dvpl\">1-5</td>\n",
    "    <td class=\"tg-0pky\">Number of organizations the person worked with.</td>\n",
    "  </tr>\n",
    "  <tr>\n",
    "    <td class=\"tg-0pky\">company_code_nunique</td>\n",
    "    <td class=\"tg-c3ow\">Ratio</td>\n",
    "    <td class=\"tg-dvpl\">4</td>\n",
    "    <td class=\"tg-dvpl\">1-4</td>\n",
    "    <td class=\"tg-0pky\">Number of company entities the person worked with.</td>\n",
    "  </tr>\n",
    "  <tr>\n",
    "    <td class=\"tg-0pky\">cost_center_code_nunique</td>\n",
    "    <td class=\"tg-c3ow\">Ratio</td>\n",
    "    <td class=\"tg-dvpl\">10</td>\n",
    "    <td class=\"tg-dvpl\">1-10</td>\n",
    "    <td class=\"tg-0pky\">Number of cost centers the person worked in.</td>\n",
    "  </tr>\n",
    "  <tr>\n",
    "    <td class=\"tg-0pky\">org_unit_desc_nunique</td>\n",
    "    <td class=\"tg-c3ow\">Ratio</td>\n",
    "    <td class=\"tg-dvpl\">13</td>\n",
    "    <td class=\"tg-dvpl\">1-14</td>\n",
    "    <td class=\"tg-0pky\">Number of company's organizational units the person worked in.</td>\n",
    "  </tr>\n",
    "  <tr>\n",
    "    <td class=\"tg-0pky\">operational_rollup_label_nunique</td>\n",
    "    <td class=\"tg-c3ow\">Ratio</td>\n",
    "    <td class=\"tg-dvpl\">8</td>\n",
    "    <td class=\"tg-dvpl\">1-8</td>\n",
    "    <td class=\"tg-0pky\">Number of company's operational groups (groups of organizational units) the person worked in.</td>\n",
    "  </tr>\n",
    "  <tr>\n",
    "    <td class=\"tg-0pky\">gjs_code_label_nunique</td>\n",
    "    <td class=\"tg-c3ow\">Ratio</td>\n",
    "    <td class=\"tg-dvpl\">4</td>\n",
    "    <td class=\"tg-dvpl\">1-4</td>\n",
    "    <td class=\"tg-0pky\">Number of distinct job frameworks and levels the person has been mapped into.</td>\n",
    "  </tr>\n",
    "  <tr>\n",
    "    <td class=\"tg-0pky\">gjs_framework_nunique</td>\n",
    "    <td class=\"tg-c3ow\">Ratio</td>\n",
    "    <td class=\"tg-dvpl\">3</td>\n",
    "    <td class=\"tg-dvpl\">1-3</td>\n",
    "    <td class=\"tg-0pky\">Number of distinct job frameworks the person has been mapped into.</td>\n",
    "  </tr>\n",
    "  <tr>\n",
    "    <td class=\"tg-0pky\">job_family_label_nunique</td>\n",
    "    <td class=\"tg-c3ow\">Ratio</td>\n",
    "    <td class=\"tg-dvpl\">6</td>\n",
    "    <td class=\"tg-dvpl\">1-6</td>\n",
    "    <td class=\"tg-0pky\">Number of distinct job families the person has been mapped into.</td>\n",
    "  </tr>\n",
    "  <tr>\n",
    "    <td class=\"tg-0pky\">tenure_in_months_last</td>\n",
    "    <td class=\"tg-c3ow\">Ratio</td>\n",
    "    <td class=\"tg-dvpl\">395</td>\n",
    "    <td class=\"tg-dvpl\">1-511</td>\n",
    "    <td class=\"tg-0pky\">Number of months of seniority in the company.</td>\n",
    "  </tr>\n",
    "  <tr>\n",
    "    <td class=\"tg-0pky\">voluntary_attrition</td>\n",
    "    <td class=\"tg-c3ow\">Ratio</td>\n",
    "    <td class=\"tg-dvpl\">2</td>\n",
    "    <td class=\"tg-dvpl\">0-1</td>\n",
    "    <td class=\"tg-0pky\">Contains 1 if the person voluntarily left the company.</td>\n",
    "  </tr>\n",
    " \n",
    "</table>"
   ]
  },
  {
   "cell_type": "markdown",
   "metadata": {},
   "source": [
    "[Back to Table of Contents](#TOC)"
   ]
  },
  {
   "cell_type": "markdown",
   "metadata": {},
   "source": [
    "\n",
    "### <i>Basic Setup</i><a class=\"anchor\" id=\"DP_Setup\"></a>\n",
    "\n",
    "The basic setup for this project requires loading Python libraries. We also created a custom function (calc_SSB) to calculate the Sum of Squares as this feature is not available directly for the Agglomerative Clustering library. This function is needed to have a direct comparison between K-Means and Agglomerative Clustering."
   ]
  },
  {
   "cell_type": "markdown",
   "metadata": {},
   "source": [
    "\n",
    "### <i>Loading Libraries</i><a class=\"anchor\" id=\"DP_Loading\"></a>\n",
    "\n"
   ]
  },
  {
   "cell_type": "code",
   "execution_count": 1,
   "metadata": {},
   "outputs": [],
   "source": [
    "import numpy as np\n",
    "import pandas as pd\n",
    "import matplotlib.pyplot as plt\n",
    "import seaborn as sns\n",
    "import glob\n",
    "import logging\n",
    "import math\n",
    "\n",
    "# Data Splitting\n",
    "from sklearn.model_selection import ShuffleSplit\n",
    "from sklearn.model_selection import StratifiedKFold\n",
    "from sklearn.model_selection import StratifiedShuffleSplit  # Only applicable for classification problem\n",
    "\n",
    "# Preprocessing and Pipeline\n",
    "from sklearn.preprocessing import StandardScaler\n",
    "from sklearn.pipeline import Pipeline\n",
    "\n",
    "# Models\n",
    "from sklearn.decomposition import PCA\n",
    "from sklearn.linear_model import LogisticRegression\n",
    "from sklearn.linear_model import SGDClassifier\n",
    "from sklearn.linear_model import SGDRegressor\n",
    "from sklearn.svm import SVC\n",
    "from sklearn.svm import LinearSVC\n",
    "from sklearn.ensemble import RandomForestClassifier\n",
    "from sklearn.neighbors import KNeighborsClassifier\n",
    "\n",
    "# Model Diagnosis\n",
    "from sklearn.model_selection import validation_curve\n",
    "from sklearn.model_selection import learning_curve\n",
    "from sklearn.model_selection import GridSearchCV\n",
    "from sklearn.model_selection import cross_validate\n",
    "\n",
    "# Scoring\n",
    "from sklearn.metrics import f1_score, recall_score, accuracy_score, precision_score, mean_squared_error, make_scorer\n",
    "from sklearn.model_selection import cross_val_score\n",
    "from sklearn import metrics as mt\n",
    "\n",
    "# for Model Comparison\n",
    "from scipy.stats import t\n",
    "\n",
    "# For Time Logging\n",
    "import time\n",
    "from contextlib import contextmanager\n",
    "\n",
    "# For hyperparameter optimization\n",
    "from skopt.space import Integer, Categorical, Real\n",
    "from skopt.utils import use_named_args\n",
    "from skopt import gp_minimize\n",
    "import skopt.plots\n",
    "\n",
    "# The awesome more library!\n",
    "from more import hyperopt_helper as hh\n",
    "from more import viz_helper as vh\n",
    "from more import pandas_helper\n",
    "from more.scikit_helper.cluster import KMeansHelper as kmh\n",
    "from more.scikit_helper.cluster import AgglomerativeHelper as agh  # only needed if using the agglomerative Helper\n",
    "\n",
    "#cluseting library\n",
    "from sklearn.cluster import KMeans\n",
    "from sklearn import datasets\n",
    "from sklearn import cluster"
   ]
  },
  {
   "cell_type": "code",
   "execution_count": 2,
   "metadata": {},
   "outputs": [],
   "source": [
    "%matplotlib inline  \n",
    "## Setup plot and logger. \n",
    "logging.getLogger().setLevel(logging.INFO)\n",
    "plt.style.use('ggplot')"
   ]
  },
  {
   "cell_type": "code",
   "execution_count": 3,
   "metadata": {},
   "outputs": [],
   "source": [
    "max_jobs = 30  #Issue with the Max's Server when using jobs=-1 (who knows why?)"
   ]
  },
  {
   "cell_type": "code",
   "execution_count": 4,
   "metadata": {},
   "outputs": [],
   "source": [
    "# Function to calculate Sum of Squares Measure as it is not available in all the models\n",
    "\n",
    "def calc_SSB(X,labels,scaling=True):\n",
    "    from scipy.cluster.vq import vq\n",
    "    if(scaling):\n",
    "        std_scl=StandardScaler()\n",
    "        Xbase2= pd.DataFrame(std_scl.fit_transform(Xbase.astype(np.float)))\n",
    "    else:\n",
    "        Xbase2=Xbase\n",
    "    #labels = ac_model.labels_\n",
    "    num_features = Xbase2.shape[1]\n",
    "    centers = np.empty((num_features,0))\n",
    "    for i in range(len(set(labels[labels != -1]))):\n",
    "        single_cluster_means = Xbase2[labels==i].mean().to_numpy().reshape(num_features,1)\n",
    "        centers = np.concatenate((centers,single_cluster_means),axis=1,out=None)\n",
    "    \n",
    "    centers=centers.T\n",
    "    partition, euc_distance_to_centroids = vq(obs=Xbase2,code_book=centers)\n",
    "    \n",
    "    TSS = np.sum((Xbase2-Xbase2.mean(0))**2)\n",
    "    SSW = np.sum(euc_distance_to_centroids**2)\n",
    "    SSB = TSS - SSW\n",
    "    return(SSW)\n"
   ]
  },
  {
   "cell_type": "markdown",
   "metadata": {},
   "source": [
    "\n",
    "### <i>Data Processing</i><a class=\"anchor\" id=\"DP_DP\"></a>\n",
    "\n",
    "**Removal of Unnecessary Features**: We limited this clustering practice to involve only continuous types, removing any categorical attributes in the process. This is because categorical attributes already are a type of cluster by proxy. This also allows a cleaner view into our employee types by having fewer potentially interacting or contradicting attributes. \n",
    "\n",
    "**Discretizing Target Variable** for this exploration task: Our data contains information on types of attrition in categorical format, which we redefined into the following discrete bins: 1 for voluntarily attrited, 0 for all others\n",
    "\n",
    "**Feature Scaling:** Since we used distance based clustering techniques for this exercise, we needed to make sure that all the features were on the same scale before clustering. Otherwise, the feature with the maximum value could dominate the clustering. Hence, we scaled the data to have a mean of 0 and a standard deviation of 1 across all features."
   ]
  },
  {
   "cell_type": "markdown",
   "metadata": {},
   "source": [
    "#### Read in data file"
   ]
  },
  {
   "cell_type": "code",
   "execution_count": 5,
   "metadata": {},
   "outputs": [],
   "source": [
    "# Reading data \n",
    "df_pre = pd.read_csv(\"../../data/data_for_classification.csv\")\n",
    "df_term = pd.read_csv(\"../../data/voluntary_attrition.csv\")"
   ]
  },
  {
   "cell_type": "code",
   "execution_count": 6,
   "metadata": {},
   "outputs": [
    {
     "data": {
      "text/html": [
       "<div>\n",
       "<style scoped>\n",
       "    .dataframe tbody tr th:only-of-type {\n",
       "        vertical-align: middle;\n",
       "    }\n",
       "\n",
       "    .dataframe tbody tr th {\n",
       "        vertical-align: top;\n",
       "    }\n",
       "\n",
       "    .dataframe thead th {\n",
       "        text-align: right;\n",
       "    }\n",
       "</style>\n",
       "<table border=\"1\" class=\"dataframe\">\n",
       "  <thead>\n",
       "    <tr style=\"text-align: right;\">\n",
       "      <th></th>\n",
       "      <th>worker</th>\n",
       "      <th>term_type</th>\n",
       "      <th>term_text</th>\n",
       "    </tr>\n",
       "  </thead>\n",
       "  <tbody>\n",
       "    <tr>\n",
       "      <th>0</th>\n",
       "      <td>ADOQOR</td>\n",
       "      <td>Voluntary</td>\n",
       "      <td>Resign-Career</td>\n",
       "    </tr>\n",
       "    <tr>\n",
       "      <th>1</th>\n",
       "      <td>BHOKOZ</td>\n",
       "      <td>Voluntary</td>\n",
       "      <td>Resign-Career</td>\n",
       "    </tr>\n",
       "    <tr>\n",
       "      <th>2</th>\n",
       "      <td>AMKNPQ</td>\n",
       "      <td>Voluntary</td>\n",
       "      <td>Resign-Personal</td>\n",
       "    </tr>\n",
       "    <tr>\n",
       "      <th>3</th>\n",
       "      <td>AMNJRU</td>\n",
       "      <td>Voluntary</td>\n",
       "      <td>Resign-Relocation</td>\n",
       "    </tr>\n",
       "    <tr>\n",
       "      <th>4</th>\n",
       "      <td>AMNMSX</td>\n",
       "      <td>Voluntary</td>\n",
       "      <td>Resign-Relocation</td>\n",
       "    </tr>\n",
       "  </tbody>\n",
       "</table>\n",
       "</div>"
      ],
      "text/plain": [
       "   worker  term_type          term_text\n",
       "0  ADOQOR  Voluntary      Resign-Career\n",
       "1  BHOKOZ  Voluntary      Resign-Career\n",
       "2  AMKNPQ  Voluntary    Resign-Personal\n",
       "3  AMNJRU  Voluntary  Resign-Relocation\n",
       "4  AMNMSX  Voluntary  Resign-Relocation"
      ]
     },
     "execution_count": 6,
     "metadata": {},
     "output_type": "execute_result"
    }
   ],
   "source": [
    "# Sample of Termination records\n",
    "df_term.head()"
   ]
  },
  {
   "cell_type": "markdown",
   "metadata": {},
   "source": [
    "#### Adding voluntary termination column"
   ]
  },
  {
   "cell_type": "code",
   "execution_count": 7,
   "metadata": {},
   "outputs": [
    {
     "data": {
      "text/plain": [
       "(21807, 2)"
      ]
     },
     "execution_count": 7,
     "metadata": {},
     "output_type": "execute_result"
    }
   ],
   "source": [
    "df_term_vol = df_term[df_term['term_type'].isin(['Voluntary'])][['worker']] #the dataset contains only voluntary, but we can eventually externd to other types\n",
    "df_term_vol['voluntary_attrition']=1\n",
    "df_term_vol.shape"
   ]
  },
  {
   "cell_type": "code",
   "execution_count": 8,
   "metadata": {},
   "outputs": [
    {
     "name": "stdout",
     "output_type": "stream",
     "text": [
      "Count of Workers 94547\n",
      "Count of Voluntary Attrition 25207\n",
      "Ratio: 0.26660814198229454\n"
     ]
    }
   ],
   "source": [
    "df=df_pre.set_index('worker').join(df_term_vol.set_index('worker')).reset_index()\n",
    "df['voluntary_attrition'].fillna(0,inplace=True)\n",
    "df['voluntary_attrition'] = df['voluntary_attrition'].astype(int)\n",
    "\n",
    "print('Count of Workers',df.shape[0])\n",
    "print('Count of Voluntary Attrition',sum(df['voluntary_attrition']))\n",
    "print('Ratio:',sum(df['voluntary_attrition'])/df.shape[0])\n"
   ]
  },
  {
   "cell_type": "markdown",
   "metadata": {},
   "source": [
    "#### Managing Nulls\n",
    "\n",
    "* Nulls can cause errors for some models, depending on the quantity we will drop records with null values."
   ]
  },
  {
   "cell_type": "code",
   "execution_count": 9,
   "metadata": {},
   "outputs": [
    {
     "name": "stdout",
     "output_type": "stream",
     "text": [
      "reporting_level_last                 14\n",
      "accountability_matrix_label_last      3\n",
      "functional_area_last                  3\n",
      "job_family_label_last                 5\n",
      "job_long_text_last                    6\n",
      "operational_rollup_label_last       192\n",
      "org_unit_desc_last                   44\n",
      "dtype: int64\n"
     ]
    }
   ],
   "source": [
    "null_vals = df.isnull().sum(axis = 0)\n",
    "print(null_vals[null_vals != 0])\n",
    "df.dropna(inplace=True)"
   ]
  },
  {
   "cell_type": "code",
   "execution_count": 10,
   "metadata": {},
   "outputs": [
    {
     "data": {
      "text/plain": [
       "Index(['worker', 'Unnamed: 0', 'promotion_cnt', 'promotion_max', 'year_last',\n",
       "       'month_num_last', 'hiredAfter200901_max', 'months_since_promotion_max',\n",
       "       'months_since_promotion_last', 'comparatio_last',\n",
       "       'span_of_control_direct_last', 'span_of_control_total_last',\n",
       "       'movement_lateral_cnt_sum_last', 'movement_demote_event_cnt_sum_last',\n",
       "       'transfer_event_cnt_sum_last', 'changed_spv_cnt_sum_last',\n",
       "       'awards_points_cnt_sum_last', 'awards_points_sum_last',\n",
       "       'awards_bonus_cnt_sum_last', 'awards_bonus_sum_last',\n",
       "       'awards_peer_cnt_sum_last', 'reporting_level_last', 'supervisor_Y_last',\n",
       "       'supervisor_Y_max', 'tenure_in_months_last',\n",
       "       'accountability_matrix_label_last',\n",
       "       'accountability_matrix_label_nunique', 'company_code_last',\n",
       "       'company_code_nunique', 'cost_center_code_last',\n",
       "       'cost_center_code_nunique', 'functional_area_last',\n",
       "       'functional_area_nunique', 'supervisor_last', 'supervisor_nunique',\n",
       "       'mgr_01_nunique', 'mgr_02_nunique', 'mgr_03_nunique', 'mgr_04_nunique',\n",
       "       'mgr_05_nunique', 'mgr_06_nunique', 'mgr_07_nunique', 'mgr_08_nunique',\n",
       "       'mgr_09_nunique', 'mgr_10_nunique', 'mgr_11_nunique', 'mgr_12_nunique',\n",
       "       'gjs_code_label_last', 'gjs_code_label_nunique', 'gjs_framework_last',\n",
       "       'gjs_framework_nunique', 'gjs_sort_order_last', 'job_family_label_last',\n",
       "       'job_family_label_nunique', 'job_long_text_last',\n",
       "       'job_long_text_nunique', 'operational_rollup_label_last',\n",
       "       'operational_rollup_label_nunique', 'org_unit_desc_last',\n",
       "       'org_unit_desc_nunique', 'site_city_code_last',\n",
       "       'site_city_code_nunique', 'site_country_code_last',\n",
       "       'site_country_code_nunique', 'site_country_region_last',\n",
       "       'site_country_region_nunique', 'site_country_segment_last',\n",
       "       'site_country_segment_nunique', 'site_desc_last', 'site_desc_nunique',\n",
       "       'ppa_rating_last', 'spv_ppa_rating_last', 'school_tier_last',\n",
       "       'certificate_order_grp_last', 'voluntary_attrition'],\n",
       "      dtype='object')"
      ]
     },
     "execution_count": 10,
     "metadata": {},
     "output_type": "execute_result"
    }
   ],
   "source": [
    "df.columns"
   ]
  },
  {
   "cell_type": "markdown",
   "metadata": {},
   "source": [
    "**Solution:** Dropping nulls as they comprise approximately <0.2% of the data"
   ]
  },
  {
   "cell_type": "markdown",
   "metadata": {},
   "source": [
    "  \n",
    "#### Defining features by theme"
   ]
  },
  {
   "cell_type": "code",
   "execution_count": 11,
   "metadata": {},
   "outputs": [],
   "source": [
    "# Theme 1\n",
    "\n",
    "rating_related_subset = ['ppa_rating_last', 'comparatio_last'\n",
    "                  ,'awards_points_cnt_sum_last','awards_points_sum_last'\n",
    "                  ,'awards_bonus_cnt_sum_last','awards_bonus_sum_last'\n",
    "                  ,'awards_peer_cnt_sum_last'\n",
    "                 ,'movement_lateral_cnt_sum_last','transfer_event_cnt_sum_last','movement_demote_event_cnt_sum_last'\n",
    "                 ,'promotion_cnt']"
   ]
  },
  {
   "cell_type": "code",
   "execution_count": 12,
   "metadata": {},
   "outputs": [],
   "source": [
    "# Theme 2\n",
    "supervision_related = ['supervisor_Y_max','supervisor_Y_last','span_of_control_direct_last'\n",
    "                       ,'span_of_control_total_last','spv_ppa_rating_last']"
   ]
  },
  {
   "cell_type": "code",
   "execution_count": 13,
   "metadata": {},
   "outputs": [],
   "source": [
    "# Theme 3\n",
    "\n",
    "region_related_subset = [\n",
    "    'site_country_region_nunique','site_country_segment_nunique','site_country_code_nunique','site_desc_nunique'\n",
    "    ,'site_city_code_nunique']\n"
   ]
  },
  {
   "cell_type": "code",
   "execution_count": 14,
   "metadata": {},
   "outputs": [],
   "source": [
    "# Theme 4\n",
    "manager_related = ['mgr_01_nunique','mgr_02_nunique','mgr_03_nunique','mgr_04_nunique'\n",
    "                          ,'mgr_05_nunique','mgr_06_nunique','mgr_07_nunique','mgr_08_nunique'\n",
    "                          ,'mgr_09_nunique','mgr_10_nunique','mgr_11_nunique','mgr_12_nunique'\n",
    "                          ,'supervisor_nunique','changed_spv_cnt_sum_last'\n",
    "                         ,'reporting_level_last' ]\n",
    "\n"
   ]
  },
  {
   "cell_type": "code",
   "execution_count": 15,
   "metadata": {},
   "outputs": [],
   "source": [
    "# Theme 5\n",
    "func_area_related_subset = ['accountability_matrix_label_nunique'\n",
    "                            ,'cost_center_code_nunique'\n",
    "                            ,'operational_rollup_label_nunique'\n",
    "                            ,'org_unit_desc_nunique']\n",
    "                                                                          \n",
    "                                                                          "
   ]
  },
  {
   "cell_type": "code",
   "execution_count": 16,
   "metadata": {},
   "outputs": [],
   "source": [
    "# Theme 6\n",
    "job_grade_related_subset = ['gjs_framework_nunique','job_family_label_nunique']"
   ]
  },
  {
   "cell_type": "code",
   "execution_count": 17,
   "metadata": {},
   "outputs": [],
   "source": [
    "# Theme 7\n",
    "tenure_related_subset = ['tenure_in_months_last']"
   ]
  },
  {
   "cell_type": "code",
   "execution_count": 18,
   "metadata": {},
   "outputs": [],
   "source": [
    "# Theme 8\n",
    "education_related_subset = ['school_tier_last']"
   ]
  },
  {
   "cell_type": "markdown",
   "metadata": {},
   "source": [
    "\n",
    "#### Create dataset for Clustering \n",
    "\n",
    "Instead of creating multiple clusters by theme, we are merging the numeric variables across all the themes. This allows us to look at our dataset in a comprehensive manner, as clusters will take into account all themes rather than potentially partitioning and diluting any meaningful insights that may arise.\n",
    "\n",
    "For this study, we looked into a dataset used in a prior stage in this study that contains only the promoted employees (27,274 observations).  The subsetted variables were used for clustering, and the column <b> voluntary_attrition </b> was used to measure the resulting clusters.\n"
   ]
  },
  {
   "cell_type": "code",
   "execution_count": 19,
   "metadata": {},
   "outputs": [],
   "source": [
    "df_cat2 = df[df['promotion_max']==1].drop('promotion_max',axis=1)\n"
   ]
  },
  {
   "cell_type": "code",
   "execution_count": 20,
   "metadata": {},
   "outputs": [
    {
     "data": {
      "text/html": [
       "<div>\n",
       "<style scoped>\n",
       "    .dataframe tbody tr th:only-of-type {\n",
       "        vertical-align: middle;\n",
       "    }\n",
       "\n",
       "    .dataframe tbody tr th {\n",
       "        vertical-align: top;\n",
       "    }\n",
       "\n",
       "    .dataframe thead th {\n",
       "        text-align: right;\n",
       "    }\n",
       "</style>\n",
       "<table border=\"1\" class=\"dataframe\">\n",
       "  <thead>\n",
       "    <tr style=\"text-align: right;\">\n",
       "      <th></th>\n",
       "      <th>worker</th>\n",
       "      <th>Unnamed: 0</th>\n",
       "      <th>promotion_cnt</th>\n",
       "      <th>year_last</th>\n",
       "      <th>month_num_last</th>\n",
       "      <th>hiredAfter200901_max</th>\n",
       "      <th>months_since_promotion_max</th>\n",
       "      <th>months_since_promotion_last</th>\n",
       "      <th>comparatio_last</th>\n",
       "      <th>span_of_control_direct_last</th>\n",
       "      <th>...</th>\n",
       "      <th>site_country_region_nunique</th>\n",
       "      <th>site_country_segment_last</th>\n",
       "      <th>site_country_segment_nunique</th>\n",
       "      <th>site_desc_last</th>\n",
       "      <th>site_desc_nunique</th>\n",
       "      <th>ppa_rating_last</th>\n",
       "      <th>spv_ppa_rating_last</th>\n",
       "      <th>school_tier_last</th>\n",
       "      <th>certificate_order_grp_last</th>\n",
       "      <th>voluntary_attrition</th>\n",
       "    </tr>\n",
       "  </thead>\n",
       "  <tbody>\n",
       "    <tr>\n",
       "      <th>0</th>\n",
       "      <td>ADGOMW</td>\n",
       "      <td>29</td>\n",
       "      <td>1</td>\n",
       "      <td>2018</td>\n",
       "      <td>5</td>\n",
       "      <td>0</td>\n",
       "      <td>13</td>\n",
       "      <td>13</td>\n",
       "      <td>0.9388</td>\n",
       "      <td>0</td>\n",
       "      <td>...</td>\n",
       "      <td>1</td>\n",
       "      <td>Taiwan</td>\n",
       "      <td>1</td>\n",
       "      <td>Stonebergers</td>\n",
       "      <td>1</td>\n",
       "      <td>3.0</td>\n",
       "      <td>3.0</td>\n",
       "      <td>0.0</td>\n",
       "      <td>02-Master Level Degree</td>\n",
       "      <td>0</td>\n",
       "    </tr>\n",
       "    <tr>\n",
       "      <th>1</th>\n",
       "      <td>ADGOMZ</td>\n",
       "      <td>35</td>\n",
       "      <td>1</td>\n",
       "      <td>2018</td>\n",
       "      <td>7</td>\n",
       "      <td>0</td>\n",
       "      <td>24</td>\n",
       "      <td>24</td>\n",
       "      <td>1.0278</td>\n",
       "      <td>9</td>\n",
       "      <td>...</td>\n",
       "      <td>1</td>\n",
       "      <td>Taiwan</td>\n",
       "      <td>1</td>\n",
       "      <td>Stonebergers</td>\n",
       "      <td>1</td>\n",
       "      <td>3.0</td>\n",
       "      <td>3.0</td>\n",
       "      <td>1.0</td>\n",
       "      <td>02-Master Level Degree</td>\n",
       "      <td>0</td>\n",
       "    </tr>\n",
       "    <tr>\n",
       "      <th>2</th>\n",
       "      <td>ADGONU</td>\n",
       "      <td>43</td>\n",
       "      <td>1</td>\n",
       "      <td>2019</td>\n",
       "      <td>5</td>\n",
       "      <td>0</td>\n",
       "      <td>35</td>\n",
       "      <td>35</td>\n",
       "      <td>1.0255</td>\n",
       "      <td>7</td>\n",
       "      <td>...</td>\n",
       "      <td>1</td>\n",
       "      <td>Japan</td>\n",
       "      <td>1</td>\n",
       "      <td>Rosing</td>\n",
       "      <td>1</td>\n",
       "      <td>4.0</td>\n",
       "      <td>4.0</td>\n",
       "      <td>0.0</td>\n",
       "      <td>08-Bachelor Level Degree</td>\n",
       "      <td>0</td>\n",
       "    </tr>\n",
       "    <tr>\n",
       "      <th>3</th>\n",
       "      <td>ADGONW</td>\n",
       "      <td>47</td>\n",
       "      <td>0</td>\n",
       "      <td>2018</td>\n",
       "      <td>2</td>\n",
       "      <td>1</td>\n",
       "      <td>49</td>\n",
       "      <td>49</td>\n",
       "      <td>0.8902</td>\n",
       "      <td>0</td>\n",
       "      <td>...</td>\n",
       "      <td>2</td>\n",
       "      <td>Japan</td>\n",
       "      <td>2</td>\n",
       "      <td>Rosing</td>\n",
       "      <td>2</td>\n",
       "      <td>4.0</td>\n",
       "      <td>4.0</td>\n",
       "      <td>0.0</td>\n",
       "      <td>08-Bachelor Level Degree</td>\n",
       "      <td>0</td>\n",
       "    </tr>\n",
       "    <tr>\n",
       "      <th>4</th>\n",
       "      <td>ADGOOQ</td>\n",
       "      <td>52</td>\n",
       "      <td>0</td>\n",
       "      <td>2017</td>\n",
       "      <td>11</td>\n",
       "      <td>1</td>\n",
       "      <td>46</td>\n",
       "      <td>46</td>\n",
       "      <td>0.8704</td>\n",
       "      <td>9</td>\n",
       "      <td>...</td>\n",
       "      <td>1</td>\n",
       "      <td>Japan</td>\n",
       "      <td>1</td>\n",
       "      <td>Rosing</td>\n",
       "      <td>1</td>\n",
       "      <td>3.0</td>\n",
       "      <td>3.0</td>\n",
       "      <td>0.0</td>\n",
       "      <td>08-Bachelor Level Degree</td>\n",
       "      <td>0</td>\n",
       "    </tr>\n",
       "  </tbody>\n",
       "</table>\n",
       "<p>5 rows × 74 columns</p>\n",
       "</div>"
      ],
      "text/plain": [
       "   worker  Unnamed: 0  promotion_cnt  year_last  month_num_last  \\\n",
       "0  ADGOMW          29              1       2018               5   \n",
       "1  ADGOMZ          35              1       2018               7   \n",
       "2  ADGONU          43              1       2019               5   \n",
       "3  ADGONW          47              0       2018               2   \n",
       "4  ADGOOQ          52              0       2017              11   \n",
       "\n",
       "   hiredAfter200901_max  months_since_promotion_max  \\\n",
       "0                     0                          13   \n",
       "1                     0                          24   \n",
       "2                     0                          35   \n",
       "3                     1                          49   \n",
       "4                     1                          46   \n",
       "\n",
       "   months_since_promotion_last  comparatio_last  span_of_control_direct_last  \\\n",
       "0                           13           0.9388                            0   \n",
       "1                           24           1.0278                            9   \n",
       "2                           35           1.0255                            7   \n",
       "3                           49           0.8902                            0   \n",
       "4                           46           0.8704                            9   \n",
       "\n",
       "   ...  site_country_region_nunique  site_country_segment_last  \\\n",
       "0  ...                            1                     Taiwan   \n",
       "1  ...                            1                     Taiwan   \n",
       "2  ...                            1                      Japan   \n",
       "3  ...                            2                      Japan   \n",
       "4  ...                            1                      Japan   \n",
       "\n",
       "   site_country_segment_nunique  site_desc_last  site_desc_nunique  \\\n",
       "0                             1    Stonebergers                  1   \n",
       "1                             1    Stonebergers                  1   \n",
       "2                             1          Rosing                  1   \n",
       "3                             2          Rosing                  2   \n",
       "4                             1          Rosing                  1   \n",
       "\n",
       "   ppa_rating_last  spv_ppa_rating_last  school_tier_last  \\\n",
       "0              3.0                  3.0               0.0   \n",
       "1              3.0                  3.0               1.0   \n",
       "2              4.0                  4.0               0.0   \n",
       "3              4.0                  4.0               0.0   \n",
       "4              3.0                  3.0               0.0   \n",
       "\n",
       "   certificate_order_grp_last  voluntary_attrition  \n",
       "0      02-Master Level Degree                    0  \n",
       "1      02-Master Level Degree                    0  \n",
       "2    08-Bachelor Level Degree                    0  \n",
       "3    08-Bachelor Level Degree                    0  \n",
       "4    08-Bachelor Level Degree                    0  \n",
       "\n",
       "[5 rows x 74 columns]"
      ]
     },
     "execution_count": 20,
     "metadata": {},
     "output_type": "execute_result"
    }
   ],
   "source": [
    "## Resetting the index, needed to avoid issues in the grouping and filters\n",
    "df_cat2.reset_index(drop=True, inplace=True)\n",
    "df_cat2.head()"
   ]
  },
  {
   "cell_type": "code",
   "execution_count": 21,
   "metadata": {},
   "outputs": [
    {
     "data": {
      "text/plain": [
       "Index(['ppa_rating_last', 'comparatio_last', 'awards_points_cnt_sum_last',\n",
       "       'awards_points_sum_last', 'awards_bonus_cnt_sum_last',\n",
       "       'awards_bonus_sum_last', 'awards_peer_cnt_sum_last',\n",
       "       'movement_lateral_cnt_sum_last', 'transfer_event_cnt_sum_last',\n",
       "       'movement_demote_event_cnt_sum_last', 'promotion_cnt',\n",
       "       'supervisor_Y_max', 'supervisor_Y_last', 'span_of_control_direct_last',\n",
       "       'span_of_control_total_last', 'spv_ppa_rating_last',\n",
       "       'site_country_region_nunique', 'site_country_segment_nunique',\n",
       "       'site_country_code_nunique', 'site_desc_nunique',\n",
       "       'site_city_code_nunique', 'mgr_01_nunique', 'mgr_02_nunique',\n",
       "       'mgr_03_nunique', 'mgr_04_nunique', 'mgr_05_nunique', 'mgr_06_nunique',\n",
       "       'mgr_07_nunique', 'mgr_08_nunique', 'mgr_09_nunique', 'mgr_10_nunique',\n",
       "       'mgr_11_nunique', 'mgr_12_nunique', 'supervisor_nunique',\n",
       "       'changed_spv_cnt_sum_last', 'reporting_level_last',\n",
       "       'accountability_matrix_label_nunique', 'cost_center_code_nunique',\n",
       "       'operational_rollup_label_nunique', 'org_unit_desc_nunique',\n",
       "       'gjs_framework_nunique', 'job_family_label_nunique',\n",
       "       'tenure_in_months_last'],\n",
       "      dtype='object')"
      ]
     },
     "execution_count": 21,
     "metadata": {},
     "output_type": "execute_result"
    }
   ],
   "source": [
    "\n",
    "\n",
    "cl_cols = rating_related_subset +  supervision_related + region_related_subset + manager_related \\\n",
    "          + func_area_related_subset + job_grade_related_subset + tenure_related_subset +  ['voluntary_attrition']\n",
    "\n",
    "# X contains all the variables, including voluntary\n",
    "X = df_cat2[cl_cols]\n",
    "\n",
    "# Xbase is used for clustering and doens't contain voluntary column. \n",
    "Xbase = X\n",
    "Xbase = Xbase.helper.drop_columns(['voluntary_attrition'])\n",
    "Xbase.columns"
   ]
  },
  {
   "cell_type": "markdown",
   "metadata": {},
   "source": [
    "\n",
    "## <font color=maroon>Modeling and Evaluation</font><a class=\"anchor\" id=\"Section3\"></a>"
   ]
  },
  {
   "cell_type": "markdown",
   "metadata": {},
   "source": [
    "#### Measure used for Model Evaluation <a class=\"anchor\" id=\"ME_Metrics\"></a>\n",
    "\n",
    "\n",
    "We had the need to identify a metric that can provide an objective method to select the best number of clusters. This will help balance the number of manageable clusters and the optimal performance of the model.\n",
    "\n",
    "We decided to use K-Means and Hierarchical Aggloromerative Clustering for our analysis. Since both these are center-based techniques, we found the Silhouette Score and the Sum of Squares Error (SSE) to be ideal measures to compare these models. At the same time, we found that that while the Silhouette Score is biased towards a low number of clusters, the SSE is biased towards a high number of clusters. To compensate for such bias, we created a custom metric that finds the ideal balance between the two measures. \n",
    "\n",
    "The custom measure uses a normalized version of the Silhouette Score and the SSE, where both scores are normalized to be in the same range. For example, a Silhouette Score is normally between -1 and 1, but in our custom score we normalized this range to be between 0 and 1. Likewise, an SSE value ranges from 0 to the maximum variance of the whole dataset, but in our custom score we normalized this range to be between 0 and 1. This allowed us to easily combine the 2 metrics with a simple addition of terms (else the variable with the larger value would dominate the metric score).\n",
    "\n",
    "Even with normalization we noticed that these two measure don't have equal ranges within our clusters. The normalized Silhouette Scores may range from 0.08 to 0.18 while the normalized SSE would range from 0.16 to 0.38. This situation will put much more weight on the SSE than on the Silhouette Score. To mitigate this risk, we applied different weights on the two measures based on their range across the clusters. \n",
    "\n",
    "Once we defined the optimal weights (details discussed in subsequent secions), we applied the same custom measure across all the models we used in this project.\n",
    "\n"
   ]
  },
  {
   "cell_type": "markdown",
   "metadata": {},
   "source": [
    "\n",
    "### <i>K-Means Clustering</i><a class=\"anchor\" id=\"ME_KM\"></a>"
   ]
  },
  {
   "cell_type": "markdown",
   "metadata": {},
   "source": [
    "We first tried the K-Means clustering model.\n",
    "\n",
    "The baseline model uses the default parameters of n_init = 10, max_iter=300, and n_cluster = 5."
   ]
  },
  {
   "cell_type": "code",
   "execution_count": 22,
   "metadata": {},
   "outputs": [],
   "source": [
    "# Prepare baseline model \n",
    "kmeans = kmh(X=X.astype(np.float)\n",
    "         ,n_clusters=5\n",
    "         ,init =  'k-means++'\n",
    "         ,evaluate_by='voluntary_attrition'\n",
    "         ,n_jobs=max_jobs\n",
    "         ,random_state=101\n",
    "        )\n"
   ]
  },
  {
   "cell_type": "code",
   "execution_count": 23,
   "metadata": {},
   "outputs": [
    {
     "name": "stdout",
     "output_type": "stream",
     "text": [
      "Silhouette Coefficient: 0.18534839178729237\n"
     ]
    }
   ],
   "source": [
    "kmeans.train().evaluate_fit()"
   ]
  },
  {
   "cell_type": "code",
   "execution_count": 24,
   "metadata": {},
   "outputs": [
    {
     "name": "stdout",
     "output_type": "stream",
     "text": [
      "SSE score: 824248.7381581147\n"
     ]
    }
   ],
   "source": [
    "print(\"SSE score:\",kmeans.cluster_obj.inertia_)"
   ]
  },
  {
   "cell_type": "code",
   "execution_count": 25,
   "metadata": {},
   "outputs": [
    {
     "name": "stdout",
     "output_type": "stream",
     "text": [
      "Overall Variance is 1172782.0000000002:\n"
     ]
    }
   ],
   "source": [
    "#calculate the Overall variance on X, this is needed to normlize inertia (Sum of Squares)\n",
    "#this is calculating by assigning all the obersvations to a single cluster, and passing the features value to the calc_SSB function\n",
    "\n",
    "labels = np.zeros((Xbase.shape[0]),np.int8)\n",
    "Xbase_variance = calc_SSB(Xbase,labels,scaling=True)\n",
    "print(\"Overall Variance is {}:\".format(Xbase_variance))\n"
   ]
  },
  {
   "cell_type": "markdown",
   "metadata": {},
   "source": [
    "* The model provided a SSE of 824,247 that is not a great improvements from the overall variance of 1,172,782. Hence we use an elbow plot to determine if we can improve the SSE value with a different number of clusters."
   ]
  },
  {
   "cell_type": "markdown",
   "metadata": {},
   "source": [
    "\n",
    "#### Parameter Adjustments\n"
   ]
  },
  {
   "cell_type": "markdown",
   "metadata": {},
   "source": [
    "We then ran an elbow curve to identify the best number of clusters that maximizes the Silhouette Score and minimizes the SSE."
   ]
  },
  {
   "cell_type": "code",
   "execution_count": 26,
   "metadata": {},
   "outputs": [
    {
     "data": {
      "image/png": "[encoded data removed]",
      "text/plain": [
       "<Figure size 432x432 with 2 Axes>"
      ]
     },
     "metadata": {},
     "output_type": "display_data"
    },
    {
     "name": "stdout",
     "output_type": "stream",
     "text": [
      "Wall time: 1min 44s\n"
     ]
    }
   ],
   "source": [
    "%%time\n",
    "# Draw first elbow to calculate the weights between silhouette and Sum of Squares\n",
    "\n",
    "cluster_ranges=[5,8,12,15,18,20]\n",
    "\n",
    "# Elbow Curve with Helper function\n",
    "kmeans.plot_elbow_curve(cluster_ranges=cluster_ranges\n",
    "                        ,second_metric='silhoutte'\n",
    "                        ,n_jobs=max_jobs\n",
    "                        ,figsize=(6,6)\n",
    "                       ) "
   ]
  },
  {
   "cell_type": "markdown",
   "metadata": {},
   "source": [
    "* From the above elbow plot, we see that there is no clear answer as to what value of N should be used. On one hand, using a lower N maximizes both the Silhouette Score and the SSE. On the other hand, a higher N gives the opposite effect. There is no obvious N that simultaneously maximizes the Silhouette Score and minimizes the SSE. Hence, we decided to run the parameter search through a Bayesian Grid Search to compute the optimal set of parameters (including N) that would minimize the custom metric (obtained when Silhouette Score is maximized and SSE is minimized).\n",
    "\n",
    "* As explained above and as observed in the elbow plot, the range of values for the SSE and Silhouette Score are different (even after normalizing). Hence, we have to weigh these terms differently in the optimizer. We can obtain the weights from the elbow curve itself. For example, the range of Silhouette Score is 0.10 (from 0.08 to 0.18), which has a normalized value of 0.05<sup>*</sup> while the range of SSE is 220,000, which has a normalized value of 0.18 when divided by overall variance of 1.17E6. Hence, the weight ratio for the Silhouette Score to SSE is 0.18/0.05 = 3.6.\n",
    "\n",
    "<br>\n",
    "<sup>*</sup><font size =2> calculated as (0.18+1)/2 - (0.08+1)/2 </font>\n"
   ]
  },
  {
   "cell_type": "code",
   "execution_count": 27,
   "metadata": {},
   "outputs": [],
   "source": [
    "weight_s = 3.6\n",
    "weight_i = 1"
   ]
  },
  {
   "cell_type": "markdown",
   "metadata": {},
   "source": [
    "* We calculated the custom score for the baseline model that will be used to compare with the resulting model from grid search."
   ]
  },
  {
   "cell_type": "code",
   "execution_count": 28,
   "metadata": {},
   "outputs": [
    {
     "name": "stdout",
     "output_type": "stream",
     "text": [
      "    -> base inertia 824248.7381581147 base silhouette 0.055202046198254674\n",
      "    -> norm inertia 0.7028149631884822 norm silhouette -0.5276010230991274\n",
      "Base model custom measure  -1.1965487199683764\n"
     ]
    }
   ],
   "source": [
    "measure_i = kmeans.cluster_obj.inertia_ / Xbase_variance\n",
    "measure_sbase = mt.silhouette_score(Xbase,kmeans.cluster_obj.labels_,random_state=101)\n",
    "measure_s = -(measure_sbase+1)*.5 #range of Silhouette is -1 to 1\n",
    "print(\"    -> base inertia {} base silhouette {}\".format( kmeans.cluster_obj.inertia_,measure_sbase))\n",
    "print(\"    -> norm inertia {} norm silhouette {}\".format(measure_i,measure_s))\n",
    "measure =(measure_i*weight_i) +(measure_s*weight_s)\n",
    "print(\"Base model custom measure \", measure)"
   ]
  },
  {
   "cell_type": "markdown",
   "metadata": {},
   "source": [
    "\n",
    "* The baseline model has a custom score of: -1.198.\n",
    "\n",
    "* We proceeded to find a better combination of parameters that can improve the score."
   ]
  },
  {
   "cell_type": "code",
   "execution_count": 29,
   "metadata": {},
   "outputs": [],
   "source": [
    "# Define the space\n",
    "space = [Integer(5, 20, name='n_clusters')\n",
    "         ,Integer(10, 100, name='n_init')\n",
    "         ,Integer(300, 500, name='max_iter')\n",
    "        ]\n",
    "\n",
    "# Define the objective function (loss function) to be minimized\n",
    "@use_named_args(space)\n",
    "def objective(**params):\n",
    "    \n",
    "    model = KMeans(init='k-means++'\n",
    "                   ,random_state=101\n",
    "                   ,n_jobs=max_jobs\n",
    "                   ,**params)\n",
    "    \n",
    "    std_scl = StandardScaler()\n",
    "    piped_object = Pipeline([('scale', std_scl),  # do this\n",
    "                             ('kmeans_model', model)]) # and then do this\n",
    "\n",
    "    print(\"    \",end=\"\")\n",
    "    for key, value in params.items():\n",
    "        print(\"{} = {}\".format(key, value),end=', ')\n",
    "    print(\"\")\n",
    "    piped_object.fit(Xbase.astype(np.float))\n",
    "    \n",
    "    measure_i = model.inertia_ / Xbase_variance\n",
    "    measure_sbase = mt.silhouette_score(Xbase,model.labels_,random_state=101)\n",
    "    measure_s = -(measure_sbase+1)*.5 #range of Silhouette is -1 to 1\n",
    "    print(\"    -> base inertia {} base silhouette {}\".format( model.inertia_,measure_sbase))\n",
    "    print(\"    -> norm inertia {} norm silhouette {}\".format(measure_i,measure_s))\n",
    "    measure =(measure_i*weight_i) +(measure_s*weight_s)\n",
    "    return (measure)"
   ]
  },
  {
   "cell_type": "code",
   "execution_count": 30,
   "metadata": {},
   "outputs": [
    {
     "name": "stdout",
     "output_type": "stream",
     "text": [
      "Iteration No: 1 started. Evaluating function at random point.\n",
      "    n_clusters = 13, n_init = 96, max_iter = 497, \n",
      "    -> base inertia 654666.870833647 base silhouette -0.10387459425302431\n",
      "    -> norm inertia 0.5582170180252143 norm silhouette -0.4480627028734878\n",
      "Iteration No: 1 ended. Evaluation done at random point.\n",
      "Time taken: 22.4100\n",
      "Function value obtained: -1.0548\n",
      "Current minimum: -1.0548\n",
      "Iteration No: 2 started. Evaluating function at random point.\n",
      "    n_clusters = 5, n_init = 58, max_iter = 358, \n",
      "    -> base inertia 824248.6433641842 base silhouette 0.05592894826024312\n",
      "    -> norm inertia 0.7028148823602204 norm silhouette -0.5279644741301216\n",
      "Iteration No: 2 ended. Evaluation done at random point.\n",
      "Time taken: 14.6545\n",
      "Function value obtained: -1.1979\n",
      "Current minimum: -1.1979\n",
      "Iteration No: 3 started. Evaluating function at random point.\n",
      "    n_clusters = 14, n_init = 34, max_iter = 456, \n",
      "    -> base inertia 645230.713411914 base silhouette -0.16797206544119572\n",
      "    -> norm inertia 0.5501710577173881 norm silhouette -0.41601396727940215\n",
      "Iteration No: 3 ended. Evaluation done at random point.\n",
      "Time taken: 15.3036\n",
      "Function value obtained: -0.9475\n",
      "Current minimum: -1.1979\n",
      "Iteration No: 4 started. Evaluating function at random point.\n",
      "    n_clusters = 18, n_init = 17, max_iter = 465, \n",
      "    -> base inertia 607188.0828509224 base silhouette -0.17333324603145317\n",
      "    -> norm inertia 0.5177331190715088 norm silhouette -0.4133333769842734\n",
      "Iteration No: 4 ended. Evaluation done at random point.\n",
      "Time taken: 15.8357\n",
      "Function value obtained: -0.9703\n",
      "Current minimum: -1.1979\n",
      "Iteration No: 5 started. Evaluating function at random point.\n",
      "    n_clusters = 5, n_init = 63, max_iter = 407, \n",
      "    -> base inertia 824248.6433641842 base silhouette 0.05592894826024312\n",
      "    -> norm inertia 0.7028148823602204 norm silhouette -0.5279644741301216\n",
      "Iteration No: 5 ended. Evaluation done at random point.\n",
      "Time taken: 15.0057\n",
      "Function value obtained: -1.1979\n",
      "Current minimum: -1.1979\n",
      "Iteration No: 6 started. Evaluating function at random point.\n",
      "    n_clusters = 14, n_init = 80, max_iter = 496, \n",
      "    -> base inertia 643903.5092897952 base silhouette -0.11313327651371029\n",
      "    -> norm inertia 0.5490393860835134 norm silhouette -0.44343336174314485\n",
      "Iteration No: 6 ended. Evaluation done at random point.\n",
      "Time taken: 18.0623\n",
      "Function value obtained: -1.0473\n",
      "Current minimum: -1.1979\n",
      "Iteration No: 7 started. Evaluating function at random point.\n",
      "    n_clusters = 14, n_init = 95, max_iter = 387, \n",
      "    -> base inertia 643903.5092897952 base silhouette -0.11313327651371029\n",
      "    -> norm inertia 0.5490393860835134 norm silhouette -0.44343336174314485\n",
      "Iteration No: 7 ended. Evaluation done at random point.\n",
      "Time taken: 19.2403\n",
      "Function value obtained: -1.0473\n",
      "Current minimum: -1.1979\n",
      "Iteration No: 8 started. Evaluating function at random point.\n",
      "    n_clusters = 17, n_init = 51, max_iter = 465, \n",
      "    -> base inertia 613240.8569043922 base silhouette -0.17297148492018882\n",
      "    -> norm inertia 0.522894158423639 norm silhouette -0.41351425753990556\n",
      "Iteration No: 8 ended. Evaluation done at random point.\n",
      "Time taken: 18.5768\n",
      "Function value obtained: -0.9658\n",
      "Current minimum: -1.1979\n",
      "Iteration No: 9 started. Evaluating function at random point.\n",
      "    n_clusters = 7, n_init = 64, max_iter = 418, \n",
      "    -> base inertia 752876.4494220557 base silhouette -0.0868471764632695\n",
      "    -> norm inertia 0.6419577120232538 norm silhouette -0.4565764117683653\n",
      "Iteration No: 9 ended. Evaluation done at random point.\n",
      "Time taken: 15.2740\n",
      "Function value obtained: -1.0017\n",
      "Current minimum: -1.1979\n",
      "Iteration No: 10 started. Evaluating function at random point.\n",
      "    n_clusters = 12, n_init = 54, max_iter = 446, \n",
      "    -> base inertia 668226.6200972142 base silhouette -0.1063249350081943\n",
      "    -> norm inertia 0.5697790553548862 norm silhouette -0.44683753249590286\n",
      "Iteration No: 10 ended. Evaluation done at random point.\n",
      "Time taken: 17.2386\n",
      "Function value obtained: -1.0388\n",
      "Current minimum: -1.1979\n",
      "Iteration No: 11 started. Searching for the next optimal point.\n",
      "    n_clusters = 5, n_init = 10, max_iter = 500, \n",
      "    -> base inertia 824248.7381581147 base silhouette 0.055202046198254674\n",
      "    -> norm inertia 0.7028149631884822 norm silhouette -0.5276010230991274\n",
      "Iteration No: 11 ended. Search finished for the next optimal point.\n",
      "Time taken: 14.6845\n",
      "Function value obtained: -1.1965\n",
      "Current minimum: -1.1979\n",
      "Iteration No: 12 started. Searching for the next optimal point.\n",
      "    n_clusters = 5, n_init = 100, max_iter = 327, \n",
      "    -> base inertia 824247.7661258734 base silhouette 0.0560046070871416\n",
      "    -> norm inertia 0.7028141343624589 norm silhouette -0.5280023035435708\n",
      "Iteration No: 12 ended. Search finished for the next optimal point.\n",
      "Time taken: 16.8222\n",
      "Function value obtained: -1.1980\n",
      "Current minimum: -1.1980\n",
      "Iteration No: 13 started. Searching for the next optimal point.\n",
      "    n_clusters = 20, n_init = 100, max_iter = 487, \n",
      "    -> base inertia 590180.4688882944 base silhouette -0.18006146146235286\n",
      "    -> norm inertia 0.5032311792714198 norm silhouette -0.4099692692688236\n",
      "Iteration No: 13 ended. Search finished for the next optimal point.\n",
      "Time taken: 23.2988\n",
      "Function value obtained: -0.9727\n",
      "Current minimum: -1.1980\n",
      "Iteration No: 14 started. Searching for the next optimal point.\n",
      "    n_clusters = 5, n_init = 100, max_iter = 500, \n",
      "    -> base inertia 824247.7661258734 base silhouette 0.0560046070871416\n",
      "    -> norm inertia 0.7028141343624589 norm silhouette -0.5280023035435708\n",
      "Iteration No: 14 ended. Search finished for the next optimal point.\n",
      "Time taken: 16.9484\n",
      "Function value obtained: -1.1980\n",
      "Current minimum: -1.1980\n",
      "Iteration No: 15 started. Searching for the next optimal point.\n",
      "    n_clusters = 5, n_init = 32, max_iter = 500, \n",
      "    -> base inertia 824248.671718801 base silhouette 0.055958617805724926\n",
      "    -> norm inertia 0.7028149065374476 norm silhouette -0.5279793089028625\n",
      "Iteration No: 15 ended. Search finished for the next optimal point.\n",
      "Time taken: 15.3400\n",
      "Function value obtained: -1.1979\n",
      "Current minimum: -1.1980\n",
      "Iteration No: 16 started. Searching for the next optimal point.\n",
      "    n_clusters = 5, n_init = 83, max_iter = 500, \n",
      "    -> base inertia 824247.7661258734 base silhouette 0.0560046070871416\n",
      "    -> norm inertia 0.7028141343624589 norm silhouette -0.5280023035435708\n",
      "Iteration No: 16 ended. Search finished for the next optimal point.\n",
      "Time taken: 16.4600\n",
      "Function value obtained: -1.1980\n",
      "Current minimum: -1.1980\n",
      "Iteration No: 17 started. Searching for the next optimal point.\n",
      "    n_clusters = 5, n_init = 26, max_iter = 300, \n",
      "    -> base inertia 824248.671718801 base silhouette 0.055958617805724926\n",
      "    -> norm inertia 0.7028149065374476 norm silhouette -0.5279793089028625\n",
      "Iteration No: 17 ended. Search finished for the next optimal point.\n",
      "Time taken: 14.7175\n",
      "Function value obtained: -1.1979\n",
      "Current minimum: -1.1980\n",
      "Iteration No: 18 started. Searching for the next optimal point.\n",
      "    n_clusters = 10, n_init = 100, max_iter = 481, \n",
      "    -> base inertia 695381.246181297 base silhouette -0.1117008729341415\n",
      "    -> norm inertia 0.5929330823471854 norm silhouette -0.4441495635329292\n",
      "Iteration No: 18 ended. Search finished for the next optimal point.\n",
      "Time taken: 19.0432\n",
      "Function value obtained: -1.0060\n",
      "Current minimum: -1.1980\n",
      "Iteration No: 19 started. Searching for the next optimal point.\n",
      "    n_clusters = 6, n_init = 10, max_iter = 300, \n",
      "    -> base inertia 780797.128729876 base silhouette 0.01599761490977005\n",
      "    -> norm inertia 0.6657649322123599 norm silhouette -0.507998807454885\n",
      "Iteration No: 19 ended. Search finished for the next optimal point.\n",
      "Time taken: 14.7435\n",
      "Function value obtained: -1.1630\n",
      "Current minimum: -1.1980\n",
      "Iteration No: 20 started. Searching for the next optimal point.\n",
      "    n_clusters = 9, n_init = 10, max_iter = 461, \n",
      "    -> base inertia 710970.1688244053 base silhouette -0.08666324859979346\n",
      "    -> norm inertia 0.6062253418149367 norm silhouette -0.45666837570010327\n",
      "Iteration No: 20 ended. Search finished for the next optimal point.\n",
      "Time taken: 14.5554\n",
      "Function value obtained: -1.0378\n",
      "Current minimum: -1.1980\n",
      "Iteration No: 21 started. Searching for the next optimal point.\n",
      "    n_clusters = 5, n_init = 44, max_iter = 300, \n",
      "    -> base inertia 824248.6433641842 base silhouette 0.05592894826024312\n",
      "    -> norm inertia 0.7028148823602204 norm silhouette -0.5279644741301216\n",
      "Iteration No: 21 ended. Search finished for the next optimal point.\n",
      "Time taken: 15.0488\n",
      "Function value obtained: -1.1979\n",
      "Current minimum: -1.1980\n",
      "Iteration No: 22 started. Searching for the next optimal point.\n",
      "    n_clusters = 20, n_init = 10, max_iter = 340, \n",
      "    -> base inertia 590982.7036125279 base silhouette -0.1716482594113696\n",
      "    -> norm inertia 0.5039152234707966 norm silhouette -0.4141758702943152\n",
      "Iteration No: 22 ended. Search finished for the next optimal point.\n",
      "Time taken: 15.5862\n",
      "Function value obtained: -0.9871\n",
      "Current minimum: -1.1980\n",
      "Iteration No: 23 started. Searching for the next optimal point.\n",
      "    n_clusters = 5, n_init = 83, max_iter = 306, \n",
      "    -> base inertia 824247.7661258734 base silhouette 0.0560046070871416\n",
      "    -> norm inertia 0.7028141343624589 norm silhouette -0.5280023035435708\n",
      "Iteration No: 23 ended. Search finished for the next optimal point.\n",
      "Time taken: 15.9886\n",
      "Function value obtained: -1.1980\n",
      "Current minimum: -1.1980\n",
      "Iteration No: 24 started. Searching for the next optimal point.\n",
      "    n_clusters = 5, n_init = 10, max_iter = 300, \n",
      "    -> base inertia 824248.7381581147 base silhouette 0.055202046198254674\n",
      "    -> norm inertia 0.7028149631884822 norm silhouette -0.5276010230991274\n",
      "Iteration No: 24 ended. Search finished for the next optimal point.\n",
      "Time taken: 14.6735\n",
      "Function value obtained: -1.1965\n",
      "Current minimum: -1.1980\n",
      "Iteration No: 25 started. Searching for the next optimal point.\n",
      "    n_clusters = 5, n_init = 100, max_iter = 307, \n",
      "    -> base inertia 824247.7661258734 base silhouette 0.0560046070871416\n",
      "    -> norm inertia 0.7028141343624589 norm silhouette -0.5280023035435708\n",
      "Iteration No: 25 ended. Search finished for the next optimal point.\n",
      "Time taken: 16.1737\n",
      "Function value obtained: -1.1980\n",
      "Current minimum: -1.1980\n"
     ]
    }
   ],
   "source": [
    "# Running the GridSearch\n",
    "\n",
    "kmeans_gp = gp_minimize(objective,space\n",
    "                        ,n_random_starts=10 # 10 random points to start \n",
    "                        ,n_calls=25 # pick 25 points total (including n_random_starts) to find optimal combination of hyperparameters\n",
    "                        ,verbose=True\n",
    "                        ,n_jobs=max_jobs\n",
    "                        ,random_state=101)\n"
   ]
  },
  {
   "cell_type": "code",
   "execution_count": 33,
   "metadata": {},
   "outputs": [
    {
     "data": {
      "text/plain": [
       "array([[<matplotlib.axes._subplots.AxesSubplot object at 0x0000019A052B4358>,\n",
       "        <matplotlib.axes._subplots.AxesSubplot object at 0x0000019A049BBEB8>,\n",
       "        <matplotlib.axes._subplots.AxesSubplot object at 0x0000019A04A7B358>],\n",
       "       [<matplotlib.axes._subplots.AxesSubplot object at 0x0000019A04A63668>,\n",
       "        <matplotlib.axes._subplots.AxesSubplot object at 0x0000019A051B5978>,\n",
       "        <matplotlib.axes._subplots.AxesSubplot object at 0x0000019A051FBBA8>],\n",
       "       [<matplotlib.axes._subplots.AxesSubplot object at 0x0000019A04A82F28>,\n",
       "        <matplotlib.axes._subplots.AxesSubplot object at 0x0000019A04A3E4A8>,\n",
       "        <matplotlib.axes._subplots.AxesSubplot object at 0x0000019A04A439E8>]],\n",
       "      dtype=object)"
      ]
     },
     "execution_count": 33,
     "metadata": {},
     "output_type": "execute_result"
    },
    {
     "data": {
      "image/png": "[encoded data removed]",
      "text/plain": [
       "<Figure size 648x648 with 9 Axes>"
      ]
     },
     "metadata": {},
     "output_type": "display_data"
    }
   ],
   "source": [
    "# Plotting the variable influence on the gridsearch\n",
    "\n",
    "skopt.plots.plot_objective(kmeans_gp, size=3, dimensions=['n_clusters','n_init','max_iter'])"
   ]
  },
  {
   "cell_type": "code",
   "execution_count": 34,
   "metadata": {},
   "outputs": [
    {
     "name": "stdout",
     "output_type": "stream",
     "text": [
      "Best score: -1.1979941583943963 | Best params: [5, 100, 327]\n"
     ]
    }
   ],
   "source": [
    "print('Best score: {} | Best params: {}'.format(kmeans_gp.fun, kmeans_gp.x))"
   ]
  },
  {
   "cell_type": "markdown",
   "metadata": {},
   "source": [
    "* We found that the best custom score is -1.198 with 5 clusters, n_init = 100, and max_iter=327. The grid search didn't find any better number of clusters than the baseline model, but found a very minor improvement with n_init at 100 instead of 10. We proceeded with the grid search parameters.\n"
   ]
  },
  {
   "cell_type": "code",
   "execution_count": 35,
   "metadata": {},
   "outputs": [
    {
     "name": "stdout",
     "output_type": "stream",
     "text": [
      "{'n_clusters': 5, 'n_init': 100, 'max_iter': 327, 'init': 'k-means++', 'random_state': 101, 'n_jobs': 30, 'algorithm': 'auto'}\n"
     ]
    }
   ],
   "source": [
    "# Prepare model with complete list of \"best\" parameters\n",
    " \n",
    "const_params = dict({'init': 'k-means++'\n",
    "                     ,'random_state': 101\n",
    "                     ,'n_jobs': max_jobs\n",
    "                     ,'algorithm': 'auto'\n",
    "                    })\n",
    "\n",
    "best_params = {'n_clusters':  kmeans_gp.x[0] \n",
    "              ,'n_init':  kmeans_gp.x[1]\n",
    "              ,'max_iter':  kmeans_gp.x[2]\n",
    "             }\n",
    "\n",
    "best_params.update(const_params)\n",
    "print(best_params)\n",
    "\n",
    "kmeans_best = KMeans(**best_params)\n",
    "\n",
    "# Update helper object with \"best\" model \n",
    "kmeans.set_model(kmeans_best)"
   ]
  },
  {
   "cell_type": "markdown",
   "metadata": {},
   "source": [
    "#### Evaluating K-Means Observations and Feature Means"
   ]
  },
  {
   "cell_type": "markdown",
   "metadata": {},
   "source": [
    "We counted the number of observations per cluster to make sure we have a sufficient number of employees in each cluster to draw valid correlations."
   ]
  },
  {
   "cell_type": "code",
   "execution_count": 36,
   "metadata": {},
   "outputs": [
    {
     "data": {
      "text/plain": [
       "labels\n",
       "0      490\n",
       "1    15588\n",
       "2     6460\n",
       "3     1232\n",
       "4     3504\n",
       "Name: ppa_rating_last, dtype: int64"
      ]
     },
     "execution_count": 36,
     "metadata": {},
     "output_type": "execute_result"
    }
   ],
   "source": [
    "# counting the observation by cluster\n",
    "kmeans.train()\n",
    "kmeans.cluster_obs_count()"
   ]
  },
  {
   "cell_type": "markdown",
   "metadata": {},
   "source": [
    "* There is sufficient sample size in each cluster to draw inference in this data."
   ]
  },
  {
   "cell_type": "markdown",
   "metadata": {},
   "source": [
    "### <i>Agglomerative Clustering</i><a class=\"anchor\" id=\"ME_AC\"></a>"
   ]
  },
  {
   "cell_type": "markdown",
   "metadata": {},
   "source": [
    "The next model for comparison is the Agglomerative Clustering model."
   ]
  },
  {
   "cell_type": "code",
   "execution_count": 56,
   "metadata": {},
   "outputs": [],
   "source": [
    "# base model for Agglomerative Clustering\n",
    " \n",
    "ac = agh(X=X.astype(np.float)\n",
    "               ,n_clusters= 5\n",
    "               ,linkage='ward'\n",
    "               ,scaled=True\n",
    "               ,evaluate_by='voluntary_attrition'\n",
    "               ,random_state=101\n",
    "              )\n"
   ]
  },
  {
   "cell_type": "code",
   "execution_count": 38,
   "metadata": {},
   "outputs": [
    {
     "name": "stdout",
     "output_type": "stream",
     "text": [
      "Silhouette Coefficient: 0.12084248806616195\n"
     ]
    }
   ],
   "source": [
    "ac.train().evaluate_fit()"
   ]
  },
  {
   "cell_type": "code",
   "execution_count": 39,
   "metadata": {},
   "outputs": [
    {
     "name": "stdout",
     "output_type": "stream",
     "text": [
      "SSE score: 838234.9677711917\n"
     ]
    }
   ],
   "source": [
    "print('SSE score:',calc_SSB(Xbase,ac.cluster_obj.labels_,scaling=True) )"
   ]
  },
  {
   "cell_type": "markdown",
   "metadata": {},
   "source": [
    "* The model provided a SSE of 838,234 that is not a great improvement from the overall variance of 1,172,782. Hence we use an elbow plot to determine if we can get better scores with a different number of clusters.   "
   ]
  },
  {
   "cell_type": "markdown",
   "metadata": {},
   "source": [
    "#### Parameter Adjustments\n",
    "\n",
    "We then ran an elbow curve to identify the best number of clusters that maximizes the Silhouette Score and minimizes the SSE."
   ]
  },
  {
   "cell_type": "code",
   "execution_count": 40,
   "metadata": {},
   "outputs": [
    {
     "data": {
      "image/png": "[encoded data removed]",
      "text/plain": [
       "<Figure size 432x432 with 2 Axes>"
      ]
     },
     "metadata": {},
     "output_type": "display_data"
    },
    {
     "name": "stdout",
     "output_type": "stream",
     "text": [
      "Wall time: 2min 4s\n"
     ]
    }
   ],
   "source": [
    "%%time\n",
    "# Draw elbow to calculate the weights between silhouette and Sum of Squares\n",
    "cluster_ranges=[5,8,12,15,18,20]\n",
    "ac.plot_elbow_curve(cluster_ranges=cluster_ranges\n",
    "                    , second_metric='silhoutte'\n",
    "                    , n_jobs=max_jobs\n",
    "                    , figsize=(6,6)) # Elbow Curve with Helper function"
   ]
  },
  {
   "cell_type": "markdown",
   "metadata": {},
   "source": [
    "* The range of Silhouette is 0.08 and the range of SSE is 230,000. This is roughly the same as the K-Means model, so we kept the same weights for the custom score. This allowed us to compare the scores between the two models.\n"
   ]
  },
  {
   "cell_type": "code",
   "execution_count": 41,
   "metadata": {},
   "outputs": [
    {
     "data": {
      "text/plain": [
       "labels\n",
       "0     5747\n",
       "1     5916\n",
       "2     2831\n",
       "3     1164\n",
       "4    11616\n",
       "Name: ppa_rating_last, dtype: int64"
      ]
     },
     "execution_count": 41,
     "metadata": {},
     "output_type": "execute_result"
    }
   ],
   "source": [
    "#Getting number of observation per cluster to make sure the model is not skewed and has a good separation between clusters\n",
    "ac.train()\n",
    "ac.cluster_obs_count()"
   ]
  },
  {
   "cell_type": "markdown",
   "metadata": {},
   "source": [
    "* With Agglomerative Clustering we have options to choose between different linkage types, so we tried a different linkage."
   ]
  },
  {
   "cell_type": "code",
   "execution_count": 42,
   "metadata": {},
   "outputs": [
    {
     "data": {
      "image/png": "[encoded data removed]",
      "text/plain": [
       "<Figure size 432x432 with 2 Axes>"
      ]
     },
     "metadata": {},
     "output_type": "display_data"
    }
   ],
   "source": [
    "# Testing if average linkage has a better separation between clusters\n",
    "\n",
    "ac = agh(X=X.astype(np.float)\n",
    "               ,n_clusters= 5\n",
    "               ,linkage='average'\n",
    "               ,scaled=True\n",
    "               ,evaluate_by='voluntary_attrition'\n",
    "               ,random_state=101\n",
    "              )\n",
    "\n",
    "cluster_ranges=[5,8,12,15,18,20]\n",
    "ac.plot_elbow_curve(cluster_ranges=cluster_ranges, second_metric='silhoutte', n_jobs=max_jobs, figsize=(6,6)) # Elbow Curve with Helper function"
   ]
  },
  {
   "cell_type": "code",
   "execution_count": 43,
   "metadata": {},
   "outputs": [
    {
     "data": {
      "text/plain": [
       "labels\n",
       "0    27259\n",
       "1       12\n",
       "2        1\n",
       "3        1\n",
       "4        1\n",
       "Name: ppa_rating_last, dtype: int64"
      ]
     },
     "execution_count": 43,
     "metadata": {},
     "output_type": "execute_result"
    }
   ],
   "source": [
    "# we see 5 cluster has the bet silhouette score, without impacting most of the Sum of Square  \n",
    "ac.train()\n",
    "ac.cluster_obs_count()"
   ]
  },
  {
   "cell_type": "markdown",
   "metadata": {},
   "source": [
    "* We noticed the Average linkage method is returning only 1 cluster containing >95% of the observation. \n",
    "\n",
    "* We also noticed that similar behaviour is present with the other linkage types such as Single and Complete. Ward is the only linkage that has a significant sample size across the clusters, hence we proceeded with the grid search using the Ward linkage."
   ]
  },
  {
   "cell_type": "code",
   "execution_count": 44,
   "metadata": {},
   "outputs": [],
   "source": [
    "# Grid Search\n",
    "\n",
    "# set up hyperparameter space \n",
    "space = [Integer(5, 20, name='n_clusters')\n",
    "         #,Categorical(['ward'], name='linkage')\n",
    "         ]\n",
    "\n",
    "# Object to scale the inputs before training\n",
    "weight_s = 3.6\n",
    "weight_i = 1\n",
    "\n",
    "# Define the objective function (loss function) to be minimized\n",
    "@use_named_args(space)\n",
    "def objective(**params):\n",
    "    \n",
    "    model =  cluster.AgglomerativeClustering(linkage='ward'\n",
    "                                                     ,**params)\n",
    "    \n",
    "    std_scl = StandardScaler()\n",
    "    piped_object = Pipeline([('scale', std_scl),  # do this\n",
    "                             ('ac_model', model)]) # and then do this\n",
    "\n",
    "    print(\"    \",end=\"\")\n",
    "    for key, value in params.items():\n",
    "        print(\"{} = {}\".format(key, value),end=', ')\n",
    "    print(\"\")\n",
    "    piped_object.fit(Xbase.astype(np.float))\n",
    "    \n",
    "    measure_ibase =calc_SSB(Xbase,model.labels_,scaling=True)  \n",
    "    measure_i =measure_ibase / Xbase_variance\n",
    "    measure_sbase = mt.silhouette_score(Xbase,model.labels_,random_state=101)\n",
    "    measure_s = -(measure_sbase+1)*.5 #range of Silhouette is -1 to 1\n",
    "    print(\"    -> base inertia {} base silhouette {}\".format( measure_ibase,measure_sbase))\n",
    "    print(\"    -> norm inertia {} norm silhouette {}\".format(measure_i,measure_s))\n",
    "    measure =(measure_i*weight_i) +(measure_s*weight_s)\n",
    "    return (measure)\n"
   ]
  },
  {
   "cell_type": "code",
   "execution_count": 45,
   "metadata": {},
   "outputs": [
    {
     "name": "stdout",
     "output_type": "stream",
     "text": [
      "Iteration No: 1 started. Evaluating function at random point.\n",
      "    n_clusters = 13, \n",
      "    -> base inertia 669526.2836951488 base silhouette -0.13524184476386167\n",
      "    -> norm inertia 0.5708872439167285 norm silhouette -0.43237907761806915\n",
      "Iteration No: 1 ended. Evaluation done at random point.\n",
      "Time taken: 69.7166\n",
      "Function value obtained: -0.9857\n",
      "Current minimum: -0.9857\n",
      "Iteration No: 2 started. Evaluating function at random point.\n",
      "    n_clusters = 19, \n",
      "    -> base inertia 607800.4697140914 base silhouette -0.22890860384670683\n",
      "    -> norm inertia 0.5182552850522018 norm silhouette -0.38554569807664657\n",
      "Iteration No: 2 ended. Evaluation done at random point.\n",
      "Time taken: 63.4842\n",
      "Function value obtained: -0.8697\n",
      "Current minimum: -0.9857\n",
      "Iteration No: 3 started. Evaluating function at random point.\n",
      "    n_clusters = 20, \n",
      "    -> base inertia 602163.2656269015 base silhouette -0.22879756552011082\n",
      "    -> norm inertia 0.513448591150701 norm silhouette -0.38560121723994456\n",
      "Iteration No: 3 ended. Evaluation done at random point.\n",
      "Time taken: 65.4036\n",
      "Function value obtained: -0.8747\n",
      "Current minimum: -0.9857\n",
      "Iteration No: 4 started. Evaluating function at random point.\n",
      "    n_clusters = 5, \n",
      "    -> base inertia 838234.9677711917 base silhouette -0.04497451375040201\n",
      "    -> norm inertia 0.714740648962204 norm silhouette -0.47751274312479897\n",
      "Iteration No: 4 ended. Evaluation done at random point.\n",
      "Time taken: 83.1056\n",
      "Function value obtained: -1.0043\n",
      "Current minimum: -1.0043\n",
      "Iteration No: 5 started. Searching for the next optimal point.\n",
      "    n_clusters = 9, \n",
      "    -> base inertia 731852.1537538097 base silhouette -0.1573747862285678\n",
      "    -> norm inertia 0.6240308546292572 norm silhouette -0.4213126068857161\n",
      "Iteration No: 5 ended. Search finished for the next optimal point.\n",
      "Time taken: 73.9932\n",
      "Function value obtained: -0.8927\n",
      "Current minimum: -1.0043\n",
      "Iteration No: 6 started. Searching for the next optimal point.\n",
      "    n_clusters = 15, \n",
      "    -> base inertia 643136.2417355294 base silhouette -0.10322129135690453\n",
      "    -> norm inertia 0.5483851574593823 norm silhouette -0.44838935432154775\n",
      "Iteration No: 6 ended. Search finished for the next optimal point.\n",
      "Time taken: 66.5945\n",
      "Function value obtained: -1.0658\n",
      "Current minimum: -1.0658\n",
      "Iteration No: 7 started. Searching for the next optimal point.\n"
     ]
    },
    {
     "name": "stderr",
     "output_type": "stream",
     "text": [
      "C:\\ProgramData\\Anaconda3\\lib\\site-packages\\skopt\\optimizer\\optimizer.py:399: UserWarning: The objective has been evaluated at this point before.\n",
      "  warnings.warn(\"The objective has been evaluated \"\n"
     ]
    },
    {
     "name": "stdout",
     "output_type": "stream",
     "text": [
      "    n_clusters = 5, \n",
      "    -> base inertia 838234.9677711917 base silhouette -0.04497451375040201\n",
      "    -> norm inertia 0.714740648962204 norm silhouette -0.47751274312479897\n",
      "Iteration No: 7 ended. Search finished for the next optimal point.\n",
      "Time taken: 67.3182\n",
      "Function value obtained: -1.0043\n",
      "Current minimum: -1.0658\n",
      "Iteration No: 8 started. Searching for the next optimal point.\n",
      "    n_clusters = 16, \n",
      "    -> base inertia 632661.881031995 base silhouette -0.2252265750860492\n",
      "    -> norm inertia 0.5394539488430031 norm silhouette -0.3873867124569754\n",
      "Iteration No: 8 ended. Search finished for the next optimal point.\n",
      "Time taken: 65.7268\n",
      "Function value obtained: -0.8551\n",
      "Current minimum: -1.0658\n",
      "Iteration No: 9 started. Searching for the next optimal point.\n"
     ]
    },
    {
     "name": "stderr",
     "output_type": "stream",
     "text": [
      "C:\\ProgramData\\Anaconda3\\lib\\site-packages\\skopt\\optimizer\\optimizer.py:399: UserWarning: The objective has been evaluated at this point before.\n",
      "  warnings.warn(\"The objective has been evaluated \"\n"
     ]
    },
    {
     "name": "stdout",
     "output_type": "stream",
     "text": [
      "    n_clusters = 15, \n",
      "    -> base inertia 643136.2417355294 base silhouette -0.10322129135690453\n",
      "    -> norm inertia 0.5483851574593823 norm silhouette -0.44838935432154775\n",
      "Iteration No: 9 ended. Search finished for the next optimal point.\n",
      "Time taken: 65.3755\n",
      "Function value obtained: -1.0658\n",
      "Current minimum: -1.0658\n",
      "Iteration No: 10 started. Searching for the next optimal point.\n"
     ]
    },
    {
     "name": "stderr",
     "output_type": "stream",
     "text": [
      "C:\\ProgramData\\Anaconda3\\lib\\site-packages\\skopt\\optimizer\\optimizer.py:399: UserWarning: The objective has been evaluated at this point before.\n",
      "  warnings.warn(\"The objective has been evaluated \"\n"
     ]
    },
    {
     "name": "stdout",
     "output_type": "stream",
     "text": [
      "    n_clusters = 15, \n",
      "    -> base inertia 643136.2417355294 base silhouette -0.10322129135690453\n",
      "    -> norm inertia 0.5483851574593823 norm silhouette -0.44838935432154775\n",
      "Iteration No: 10 ended. Search finished for the next optimal point.\n",
      "Time taken: 65.1753\n",
      "Function value obtained: -1.0658\n",
      "Current minimum: -1.0658\n"
     ]
    }
   ],
   "source": [
    "ac_gp = gp_minimize(objective\n",
    "                     ,space\n",
    "                     ,n_random_starts=4 # 10 random points to start \n",
    "                     ,n_calls=10 # pick 25 points total (including n_random_starts) to dinf optimal combination of hyperparameters\n",
    "                     ,verbose=True\n",
    "                     ,n_jobs=max_jobs\n",
    "                     ,random_state=101\n",
    "                    )"
   ]
  },
  {
   "cell_type": "code",
   "execution_count": 46,
   "metadata": {},
   "outputs": [],
   "source": [
    "#skopt.plots.plot_objective(ac_gp, size=4, dimensions=['n_clusters'])\n",
    "#can't draw influence plot as we have only one dimention"
   ]
  },
  {
   "cell_type": "code",
   "execution_count": 47,
   "metadata": {},
   "outputs": [
    {
     "name": "stdout",
     "output_type": "stream",
     "text": [
      "Best score: -1.0658165180981896 | Best params: [15]\n"
     ]
    }
   ],
   "source": [
    "print('Best score: {} | Best params: {}'.format(ac_gp.fun, ac_gp.x))"
   ]
  },
  {
   "cell_type": "markdown",
   "metadata": {},
   "source": [
    "* The grid search selected 15 clusters as the optimal amount using the custom metric. But we noticed a small difference between the scores across the different clusters (5 clusters yield a score of -1.004 while 15 clusters yield a score of -1.0658). As a lower number of clusters is more usable from a business point of view, we would like to use an alternative visual representation to highlight the difference in the SSEs between values by varying the number of clusters.\n"
   ]
  },
  {
   "cell_type": "markdown",
   "metadata": {},
   "source": [
    "##### Dendogram"
   ]
  },
  {
   "cell_type": "markdown",
   "metadata": {},
   "source": [
    "The first step is to scale the features."
   ]
  },
  {
   "cell_type": "code",
   "execution_count": 48,
   "metadata": {},
   "outputs": [
    {
     "name": "stderr",
     "output_type": "stream",
     "text": [
      "C:\\ProgramData\\Anaconda3\\lib\\site-packages\\sklearn\\preprocessing\\data.py:645: DataConversionWarning: Data with input dtype int64, float64 were all converted to float64 by StandardScaler.\n",
      "  return self.partial_fit(X, y)\n",
      "C:\\ProgramData\\Anaconda3\\lib\\site-packages\\ipykernel_launcher.py:4: DataConversionWarning: Data with input dtype int64, float64 were all converted to float64 by StandardScaler.\n",
      "  after removing the cwd from sys.path.\n"
     ]
    }
   ],
   "source": [
    "#Scaling X\n",
    "\n",
    "std_scl = StandardScaler()\n",
    "Xbase_scale =std_scl.fit(Xbase).transform(Xbase)\n"
   ]
  },
  {
   "cell_type": "code",
   "execution_count": 49,
   "metadata": {},
   "outputs": [],
   "source": [
    "import scipy.cluster.hierarchy as shc\n",
    "Z=shc.linkage(Xbase, method='ward')  "
   ]
  },
  {
   "cell_type": "code",
   "execution_count": 50,
   "metadata": {},
   "outputs": [
    {
     "data": {
      "text/plain": [
       "<matplotlib.lines.Line2D at 0x19a17d08080>"
      ]
     },
     "execution_count": 50,
     "metadata": {},
     "output_type": "execute_result"
    },
    {
     "data": {
      "image/png": "[encoded data removed]",
      "text/plain": [
       "<Figure size 1512x864 with 1 Axes>"
      ]
     },
     "metadata": {},
     "output_type": "display_data"
    }
   ],
   "source": [
    "plt.figure(figsize=(21, 12))\n",
    "plt.title(\"Dendograms\")\n",
    "dend = shc.dendrogram(Z,truncate_mode='level',p=10) #limiting to 10 levels for visiblity\n",
    "plt.axhline(y=5300, c='k')\n",
    "plt.axhline(y=3900, c='dimgray')"
   ]
  },
  {
   "cell_type": "markdown",
   "metadata": {},
   "source": [
    "\n",
    "* The upper dark horizontal line at a distance of 5,300 includes 8 clusters, while the lower horizontal line at 3,900 includes 15 clusters. \n",
    "\n",
    "* There is not much gain on distance between the two lines, but the number of clusters increases substantially. From the business point of view we prefer to have a smaller number of clusters. Hence, we can use a total of 8 clusters for this model."
   ]
  },
  {
   "cell_type": "code",
   "execution_count": 51,
   "metadata": {},
   "outputs": [
    {
     "name": "stdout",
     "output_type": "stream",
     "text": [
      "Silhouette Coefficient: 0.12088976003290226\n"
     ]
    }
   ],
   "source": [
    "# defining model with the best parameters\n",
    "\n",
    "n_clusters = 8 #ac_gp.x[0]\n",
    "ac = agh(X=X.astype(np.float)\n",
    "               ,n_clusters= n_clusters\n",
    "               ,linkage=\"ward\"\n",
    "               ,scaled=True\n",
    "               ,evaluate_by='voluntary_attrition'\n",
    "               ,random_state=101\n",
    "              )\n",
    "\n",
    "ac.train().evaluate_fit()"
   ]
  },
  {
   "cell_type": "code",
   "execution_count": 52,
   "metadata": {},
   "outputs": [
    {
     "name": "stdout",
     "output_type": "stream",
     "text": [
      "    -> base inertia 746832.7462686616 base silhouette -0.11009844272462242\n",
      "    -> norm inertia 0.6368044071862131 norm silhouette -0.4449507786376888\n",
      "Base model custom measure  -0.9650183959094665\n"
     ]
    }
   ],
   "source": [
    "weight_s = 3.6\n",
    "weight_i = 1\n",
    "\n",
    "measure_ibase =calc_SSB(Xbase,ac.cluster_obj.labels_,scaling=True)  \n",
    "measure_i =measure_ibase / Xbase_variance\n",
    "measure_sbase = mt.silhouette_score(Xbase,ac.cluster_obj.labels_,random_state=101)\n",
    "measure_s = -(measure_sbase+1)*.5 #range of Silhouette is -1 to 1\n",
    "print(\"    -> base inertia {} base silhouette {}\".format( measure_ibase,measure_sbase))\n",
    "print(\"    -> norm inertia {} norm silhouette {}\".format(measure_i,measure_s))\n",
    "measure =(measure_i*weight_i) +(measure_s*weight_s)\n",
    "print(\"Base model custom measure \", measure)"
   ]
  },
  {
   "cell_type": "markdown",
   "metadata": {},
   "source": [
    "* The Agglomerative Clustering model, using the best parameters, has a custom score of -0.965 while the K-Means model has a score of -1.198. We prefer a lower custom score and proceeded the evaluation using the K-Means score and its best parameters."
   ]
  },
  {
   "cell_type": "markdown",
   "metadata": {},
   "source": [
    "\n",
    "### <i>Final Model</i><a class=\"anchor\" id=\"ME_Final\"></a>\n"
   ]
  },
  {
   "cell_type": "markdown",
   "metadata": {},
   "source": [
    "The K-Means model produced the best results, both in terms of performance and fitness for the business case.\n",
    "\n",
    "Here is a list of clusters and their respective number of samples.\n"
   ]
  },
  {
   "cell_type": "code",
   "execution_count": 53,
   "metadata": {},
   "outputs": [
    {
     "data": {
      "text/plain": [
       "labels\n",
       "0      490\n",
       "1    15588\n",
       "2     6460\n",
       "3     1232\n",
       "4     3504\n",
       "Name: ppa_rating_last, dtype: int64"
      ]
     },
     "execution_count": 53,
     "metadata": {},
     "output_type": "execute_result"
    }
   ],
   "source": [
    "# counting the observation by cluster\n",
    "kmeans.train()\n",
    "kmeans.cluster_obs_count()"
   ]
  },
  {
   "cell_type": "markdown",
   "metadata": {},
   "source": [
    "\n",
    "* We used external validation measures to extract insights from the clusters. In particular, we looked at the distribution of the **voluntary_attrition** variable across the various clusters. We first arranged the clusters from low to high values of **voluntary_attrition**. From there, we compared the characteristics of individual attributes within each cluster to see if we could extract any meaningful insight.\n",
    "\n",
    "* We compared the characteristics of the features across the clusters by looking at the mean of the feature values in each cluster. Since we used globular clustering methods, this seemed to be a valid means of comparing the features across the clusters."
   ]
  },
  {
   "cell_type": "code",
   "execution_count": 54,
   "metadata": {},
   "outputs": [
    {
     "data": {
      "text/html": [
       "<div>\n",
       "<style scoped>\n",
       "    .dataframe tbody tr th:only-of-type {\n",
       "        vertical-align: middle;\n",
       "    }\n",
       "\n",
       "    .dataframe tbody tr th {\n",
       "        vertical-align: top;\n",
       "    }\n",
       "\n",
       "    .dataframe thead th {\n",
       "        text-align: right;\n",
       "    }\n",
       "</style>\n",
       "<table border=\"1\" class=\"dataframe\">\n",
       "  <thead>\n",
       "    <tr style=\"text-align: right;\">\n",
       "      <th>labels</th>\n",
       "      <th>2</th>\n",
       "      <th>3</th>\n",
       "      <th>4</th>\n",
       "      <th>1</th>\n",
       "      <th>0</th>\n",
       "    </tr>\n",
       "  </thead>\n",
       "  <tbody>\n",
       "    <tr>\n",
       "      <th>ppa_rating_last</th>\n",
       "      <td>3.428173</td>\n",
       "      <td>3.554789</td>\n",
       "      <td>3.565354</td>\n",
       "      <td>3.416186</td>\n",
       "      <td>3.236735</td>\n",
       "    </tr>\n",
       "    <tr>\n",
       "      <th>comparatio_last</th>\n",
       "      <td>1.005561</td>\n",
       "      <td>0.987213</td>\n",
       "      <td>0.979099</td>\n",
       "      <td>0.967594</td>\n",
       "      <td>0.998719</td>\n",
       "    </tr>\n",
       "    <tr>\n",
       "      <th>awards_points_cnt_sum_last</th>\n",
       "      <td>5.395666</td>\n",
       "      <td>3.616071</td>\n",
       "      <td>2.307078</td>\n",
       "      <td>1.580639</td>\n",
       "      <td>5.204082</td>\n",
       "    </tr>\n",
       "    <tr>\n",
       "      <th>awards_points_sum_last</th>\n",
       "      <td>253.141331</td>\n",
       "      <td>257.607955</td>\n",
       "      <td>147.199486</td>\n",
       "      <td>88.320310</td>\n",
       "      <td>204.406122</td>\n",
       "    </tr>\n",
       "    <tr>\n",
       "      <th>awards_bonus_cnt_sum_last</th>\n",
       "      <td>0.741796</td>\n",
       "      <td>1.044643</td>\n",
       "      <td>0.825913</td>\n",
       "      <td>0.262830</td>\n",
       "      <td>0.046939</td>\n",
       "    </tr>\n",
       "    <tr>\n",
       "      <th>awards_bonus_sum_last</th>\n",
       "      <td>2.034013</td>\n",
       "      <td>6.031274</td>\n",
       "      <td>4.722991</td>\n",
       "      <td>0.791229</td>\n",
       "      <td>0.076570</td>\n",
       "    </tr>\n",
       "    <tr>\n",
       "      <th>awards_peer_cnt_sum_last</th>\n",
       "      <td>1.944737</td>\n",
       "      <td>1.180195</td>\n",
       "      <td>0.722888</td>\n",
       "      <td>0.590647</td>\n",
       "      <td>1.606122</td>\n",
       "    </tr>\n",
       "    <tr>\n",
       "      <th>movement_lateral_cnt_sum_last</th>\n",
       "      <td>0.260217</td>\n",
       "      <td>0.250000</td>\n",
       "      <td>0.236872</td>\n",
       "      <td>0.120349</td>\n",
       "      <td>0.120408</td>\n",
       "    </tr>\n",
       "    <tr>\n",
       "      <th>transfer_event_cnt_sum_last</th>\n",
       "      <td>0.420279</td>\n",
       "      <td>1.090909</td>\n",
       "      <td>0.267123</td>\n",
       "      <td>0.156531</td>\n",
       "      <td>0.687755</td>\n",
       "    </tr>\n",
       "    <tr>\n",
       "      <th>movement_demote_event_cnt_sum_last</th>\n",
       "      <td>0.076316</td>\n",
       "      <td>0.072240</td>\n",
       "      <td>0.053082</td>\n",
       "      <td>0.024249</td>\n",
       "      <td>0.008163</td>\n",
       "    </tr>\n",
       "    <tr>\n",
       "      <th>promotion_cnt</th>\n",
       "      <td>0.619040</td>\n",
       "      <td>0.803571</td>\n",
       "      <td>1.150970</td>\n",
       "      <td>0.443161</td>\n",
       "      <td>0.534694</td>\n",
       "    </tr>\n",
       "    <tr>\n",
       "      <th>supervisor_Y_max</th>\n",
       "      <td>0.126006</td>\n",
       "      <td>0.335227</td>\n",
       "      <td>0.993721</td>\n",
       "      <td>0.016679</td>\n",
       "      <td>0.004082</td>\n",
       "    </tr>\n",
       "    <tr>\n",
       "      <th>supervisor_Y_last</th>\n",
       "      <td>0.055263</td>\n",
       "      <td>0.197240</td>\n",
       "      <td>0.934646</td>\n",
       "      <td>0.000000</td>\n",
       "      <td>0.000000</td>\n",
       "    </tr>\n",
       "    <tr>\n",
       "      <th>span_of_control_direct_last</th>\n",
       "      <td>0.293344</td>\n",
       "      <td>1.012987</td>\n",
       "      <td>6.487728</td>\n",
       "      <td>0.004940</td>\n",
       "      <td>0.000000</td>\n",
       "    </tr>\n",
       "    <tr>\n",
       "      <th>span_of_control_total_last</th>\n",
       "      <td>0.473065</td>\n",
       "      <td>4.064123</td>\n",
       "      <td>14.983733</td>\n",
       "      <td>0.006736</td>\n",
       "      <td>0.000000</td>\n",
       "    </tr>\n",
       "    <tr>\n",
       "      <th>spv_ppa_rating_last</th>\n",
       "      <td>3.411455</td>\n",
       "      <td>3.689123</td>\n",
       "      <td>3.570063</td>\n",
       "      <td>3.538780</td>\n",
       "      <td>3.244898</td>\n",
       "    </tr>\n",
       "    <tr>\n",
       "      <th>site_country_region_nunique</th>\n",
       "      <td>1.000000</td>\n",
       "      <td>1.788149</td>\n",
       "      <td>1.000000</td>\n",
       "      <td>1.000000</td>\n",
       "      <td>1.000000</td>\n",
       "    </tr>\n",
       "    <tr>\n",
       "      <th>site_country_segment_nunique</th>\n",
       "      <td>1.000929</td>\n",
       "      <td>2.047078</td>\n",
       "      <td>1.004281</td>\n",
       "      <td>1.001925</td>\n",
       "      <td>1.000000</td>\n",
       "    </tr>\n",
       "    <tr>\n",
       "      <th>site_country_code_nunique</th>\n",
       "      <td>1.000000</td>\n",
       "      <td>2.043019</td>\n",
       "      <td>1.000571</td>\n",
       "      <td>1.000064</td>\n",
       "      <td>1.000000</td>\n",
       "    </tr>\n",
       "    <tr>\n",
       "      <th>site_desc_nunique</th>\n",
       "      <td>1.129102</td>\n",
       "      <td>2.340097</td>\n",
       "      <td>1.105308</td>\n",
       "      <td>1.053759</td>\n",
       "      <td>1.146939</td>\n",
       "    </tr>\n",
       "    <tr>\n",
       "      <th>site_city_code_nunique</th>\n",
       "      <td>1.030031</td>\n",
       "      <td>2.169643</td>\n",
       "      <td>1.031678</td>\n",
       "      <td>1.013279</td>\n",
       "      <td>1.000000</td>\n",
       "    </tr>\n",
       "    <tr>\n",
       "      <th>mgr_01_nunique</th>\n",
       "      <td>1.905573</td>\n",
       "      <td>1.728084</td>\n",
       "      <td>1.512272</td>\n",
       "      <td>1.363164</td>\n",
       "      <td>1.922449</td>\n",
       "    </tr>\n",
       "    <tr>\n",
       "      <th>mgr_02_nunique</th>\n",
       "      <td>3.031424</td>\n",
       "      <td>2.494318</td>\n",
       "      <td>2.016838</td>\n",
       "      <td>1.713818</td>\n",
       "      <td>2.800000</td>\n",
       "    </tr>\n",
       "    <tr>\n",
       "      <th>mgr_03_nunique</th>\n",
       "      <td>3.737152</td>\n",
       "      <td>3.184253</td>\n",
       "      <td>2.287100</td>\n",
       "      <td>1.955414</td>\n",
       "      <td>3.197959</td>\n",
       "    </tr>\n",
       "    <tr>\n",
       "      <th>mgr_04_nunique</th>\n",
       "      <td>4.773684</td>\n",
       "      <td>3.804383</td>\n",
       "      <td>2.574201</td>\n",
       "      <td>2.267642</td>\n",
       "      <td>4.110204</td>\n",
       "    </tr>\n",
       "    <tr>\n",
       "      <th>mgr_05_nunique</th>\n",
       "      <td>5.302167</td>\n",
       "      <td>3.976461</td>\n",
       "      <td>2.420377</td>\n",
       "      <td>2.370670</td>\n",
       "      <td>5.663265</td>\n",
       "    </tr>\n",
       "    <tr>\n",
       "      <th>mgr_06_nunique</th>\n",
       "      <td>5.067337</td>\n",
       "      <td>3.419643</td>\n",
       "      <td>1.870719</td>\n",
       "      <td>2.223377</td>\n",
       "      <td>6.146939</td>\n",
       "    </tr>\n",
       "    <tr>\n",
       "      <th>mgr_07_nunique</th>\n",
       "      <td>4.622755</td>\n",
       "      <td>2.607955</td>\n",
       "      <td>1.297089</td>\n",
       "      <td>1.896587</td>\n",
       "      <td>6.875510</td>\n",
       "    </tr>\n",
       "    <tr>\n",
       "      <th>mgr_08_nunique</th>\n",
       "      <td>3.379257</td>\n",
       "      <td>1.517857</td>\n",
       "      <td>0.708048</td>\n",
       "      <td>1.253721</td>\n",
       "      <td>6.269388</td>\n",
       "    </tr>\n",
       "    <tr>\n",
       "      <th>mgr_09_nunique</th>\n",
       "      <td>1.847523</td>\n",
       "      <td>0.617695</td>\n",
       "      <td>0.285959</td>\n",
       "      <td>0.554208</td>\n",
       "      <td>5.993878</td>\n",
       "    </tr>\n",
       "    <tr>\n",
       "      <th>mgr_10_nunique</th>\n",
       "      <td>0.723065</td>\n",
       "      <td>0.202110</td>\n",
       "      <td>0.102454</td>\n",
       "      <td>0.146972</td>\n",
       "      <td>4.385714</td>\n",
       "    </tr>\n",
       "    <tr>\n",
       "      <th>mgr_11_nunique</th>\n",
       "      <td>0.119505</td>\n",
       "      <td>0.032468</td>\n",
       "      <td>0.025685</td>\n",
       "      <td>0.018412</td>\n",
       "      <td>2.491837</td>\n",
       "    </tr>\n",
       "    <tr>\n",
       "      <th>mgr_12_nunique</th>\n",
       "      <td>0.000000</td>\n",
       "      <td>0.000000</td>\n",
       "      <td>0.000000</td>\n",
       "      <td>0.000000</td>\n",
       "      <td>0.904082</td>\n",
       "    </tr>\n",
       "    <tr>\n",
       "      <th>supervisor_nunique</th>\n",
       "      <td>3.648916</td>\n",
       "      <td>3.342532</td>\n",
       "      <td>1.921233</td>\n",
       "      <td>1.733898</td>\n",
       "      <td>4.132653</td>\n",
       "    </tr>\n",
       "    <tr>\n",
       "      <th>changed_spv_cnt_sum_last</th>\n",
       "      <td>3.599845</td>\n",
       "      <td>3.298701</td>\n",
       "      <td>1.446347</td>\n",
       "      <td>1.512253</td>\n",
       "      <td>4.226531</td>\n",
       "    </tr>\n",
       "    <tr>\n",
       "      <th>reporting_level_last</th>\n",
       "      <td>7.802012</td>\n",
       "      <td>6.375000</td>\n",
       "      <td>6.005422</td>\n",
       "      <td>7.199769</td>\n",
       "      <td>9.581633</td>\n",
       "    </tr>\n",
       "    <tr>\n",
       "      <th>accountability_matrix_label_nunique</th>\n",
       "      <td>1.294427</td>\n",
       "      <td>1.484578</td>\n",
       "      <td>1.154395</td>\n",
       "      <td>1.110726</td>\n",
       "      <td>1.189796</td>\n",
       "    </tr>\n",
       "    <tr>\n",
       "      <th>cost_center_code_nunique</th>\n",
       "      <td>2.290093</td>\n",
       "      <td>2.731331</td>\n",
       "      <td>1.613014</td>\n",
       "      <td>1.390749</td>\n",
       "      <td>3.018367</td>\n",
       "    </tr>\n",
       "    <tr>\n",
       "      <th>operational_rollup_label_nunique</th>\n",
       "      <td>1.577245</td>\n",
       "      <td>1.965909</td>\n",
       "      <td>1.276826</td>\n",
       "      <td>1.191878</td>\n",
       "      <td>1.348980</td>\n",
       "    </tr>\n",
       "    <tr>\n",
       "      <th>org_unit_desc_nunique</th>\n",
       "      <td>2.744118</td>\n",
       "      <td>2.832792</td>\n",
       "      <td>1.578767</td>\n",
       "      <td>1.469913</td>\n",
       "      <td>3.061224</td>\n",
       "    </tr>\n",
       "    <tr>\n",
       "      <th>gjs_framework_nunique</th>\n",
       "      <td>1.107895</td>\n",
       "      <td>1.087662</td>\n",
       "      <td>1.053368</td>\n",
       "      <td>1.046831</td>\n",
       "      <td>1.053061</td>\n",
       "    </tr>\n",
       "    <tr>\n",
       "      <th>job_family_label_nunique</th>\n",
       "      <td>1.310681</td>\n",
       "      <td>1.294643</td>\n",
       "      <td>1.170091</td>\n",
       "      <td>1.144534</td>\n",
       "      <td>1.073469</td>\n",
       "    </tr>\n",
       "    <tr>\n",
       "      <th>tenure_in_months_last</th>\n",
       "      <td>92.174923</td>\n",
       "      <td>88.950487</td>\n",
       "      <td>108.889555</td>\n",
       "      <td>51.657108</td>\n",
       "      <td>94.420408</td>\n",
       "    </tr>\n",
       "    <tr>\n",
       "      <th>voluntary_attrition</th>\n",
       "      <td>0.162074</td>\n",
       "      <td>0.162338</td>\n",
       "      <td>0.175514</td>\n",
       "      <td>0.266808</td>\n",
       "      <td>0.283673</td>\n",
       "    </tr>\n",
       "  </tbody>\n",
       "</table>\n",
       "</div>"
      ],
      "text/plain": [
       "labels                                        2           3           4  \\\n",
       "ppa_rating_last                        3.428173    3.554789    3.565354   \n",
       "comparatio_last                        1.005561    0.987213    0.979099   \n",
       "awards_points_cnt_sum_last             5.395666    3.616071    2.307078   \n",
       "awards_points_sum_last               253.141331  257.607955  147.199486   \n",
       "awards_bonus_cnt_sum_last              0.741796    1.044643    0.825913   \n",
       "awards_bonus_sum_last                  2.034013    6.031274    4.722991   \n",
       "awards_peer_cnt_sum_last               1.944737    1.180195    0.722888   \n",
       "movement_lateral_cnt_sum_last          0.260217    0.250000    0.236872   \n",
       "transfer_event_cnt_sum_last            0.420279    1.090909    0.267123   \n",
       "movement_demote_event_cnt_sum_last     0.076316    0.072240    0.053082   \n",
       "promotion_cnt                          0.619040    0.803571    1.150970   \n",
       "supervisor_Y_max                       0.126006    0.335227    0.993721   \n",
       "supervisor_Y_last                      0.055263    0.197240    0.934646   \n",
       "span_of_control_direct_last            0.293344    1.012987    6.487728   \n",
       "span_of_control_total_last             0.473065    4.064123   14.983733   \n",
       "spv_ppa_rating_last                    3.411455    3.689123    3.570063   \n",
       "site_country_region_nunique            1.000000    1.788149    1.000000   \n",
       "site_country_segment_nunique           1.000929    2.047078    1.004281   \n",
       "site_country_code_nunique              1.000000    2.043019    1.000571   \n",
       "site_desc_nunique                      1.129102    2.340097    1.105308   \n",
       "site_city_code_nunique                 1.030031    2.169643    1.031678   \n",
       "mgr_01_nunique                         1.905573    1.728084    1.512272   \n",
       "mgr_02_nunique                         3.031424    2.494318    2.016838   \n",
       "mgr_03_nunique                         3.737152    3.184253    2.287100   \n",
       "mgr_04_nunique                         4.773684    3.804383    2.574201   \n",
       "mgr_05_nunique                         5.302167    3.976461    2.420377   \n",
       "mgr_06_nunique                         5.067337    3.419643    1.870719   \n",
       "mgr_07_nunique                         4.622755    2.607955    1.297089   \n",
       "mgr_08_nunique                         3.379257    1.517857    0.708048   \n",
       "mgr_09_nunique                         1.847523    0.617695    0.285959   \n",
       "mgr_10_nunique                         0.723065    0.202110    0.102454   \n",
       "mgr_11_nunique                         0.119505    0.032468    0.025685   \n",
       "mgr_12_nunique                         0.000000    0.000000    0.000000   \n",
       "supervisor_nunique                     3.648916    3.342532    1.921233   \n",
       "changed_spv_cnt_sum_last               3.599845    3.298701    1.446347   \n",
       "reporting_level_last                   7.802012    6.375000    6.005422   \n",
       "accountability_matrix_label_nunique    1.294427    1.484578    1.154395   \n",
       "cost_center_code_nunique               2.290093    2.731331    1.613014   \n",
       "operational_rollup_label_nunique       1.577245    1.965909    1.276826   \n",
       "org_unit_desc_nunique                  2.744118    2.832792    1.578767   \n",
       "gjs_framework_nunique                  1.107895    1.087662    1.053368   \n",
       "job_family_label_nunique               1.310681    1.294643    1.170091   \n",
       "tenure_in_months_last                 92.174923   88.950487  108.889555   \n",
       "voluntary_attrition                    0.162074    0.162338    0.175514   \n",
       "\n",
       "labels                                       1           0  \n",
       "ppa_rating_last                       3.416186    3.236735  \n",
       "comparatio_last                       0.967594    0.998719  \n",
       "awards_points_cnt_sum_last            1.580639    5.204082  \n",
       "awards_points_sum_last               88.320310  204.406122  \n",
       "awards_bonus_cnt_sum_last             0.262830    0.046939  \n",
       "awards_bonus_sum_last                 0.791229    0.076570  \n",
       "awards_peer_cnt_sum_last              0.590647    1.606122  \n",
       "movement_lateral_cnt_sum_last         0.120349    0.120408  \n",
       "transfer_event_cnt_sum_last           0.156531    0.687755  \n",
       "movement_demote_event_cnt_sum_last    0.024249    0.008163  \n",
       "promotion_cnt                         0.443161    0.534694  \n",
       "supervisor_Y_max                      0.016679    0.004082  \n",
       "supervisor_Y_last                     0.000000    0.000000  \n",
       "span_of_control_direct_last           0.004940    0.000000  \n",
       "span_of_control_total_last            0.006736    0.000000  \n",
       "spv_ppa_rating_last                   3.538780    3.244898  \n",
       "site_country_region_nunique           1.000000    1.000000  \n",
       "site_country_segment_nunique          1.001925    1.000000  \n",
       "site_country_code_nunique             1.000064    1.000000  \n",
       "site_desc_nunique                     1.053759    1.146939  \n",
       "site_city_code_nunique                1.013279    1.000000  \n",
       "mgr_01_nunique                        1.363164    1.922449  \n",
       "mgr_02_nunique                        1.713818    2.800000  \n",
       "mgr_03_nunique                        1.955414    3.197959  \n",
       "mgr_04_nunique                        2.267642    4.110204  \n",
       "mgr_05_nunique                        2.370670    5.663265  \n",
       "mgr_06_nunique                        2.223377    6.146939  \n",
       "mgr_07_nunique                        1.896587    6.875510  \n",
       "mgr_08_nunique                        1.253721    6.269388  \n",
       "mgr_09_nunique                        0.554208    5.993878  \n",
       "mgr_10_nunique                        0.146972    4.385714  \n",
       "mgr_11_nunique                        0.018412    2.491837  \n",
       "mgr_12_nunique                        0.000000    0.904082  \n",
       "supervisor_nunique                    1.733898    4.132653  \n",
       "changed_spv_cnt_sum_last              1.512253    4.226531  \n",
       "reporting_level_last                  7.199769    9.581633  \n",
       "accountability_matrix_label_nunique   1.110726    1.189796  \n",
       "cost_center_code_nunique              1.390749    3.018367  \n",
       "operational_rollup_label_nunique      1.191878    1.348980  \n",
       "org_unit_desc_nunique                 1.469913    3.061224  \n",
       "gjs_framework_nunique                 1.046831    1.053061  \n",
       "job_family_label_nunique              1.144534    1.073469  \n",
       "tenure_in_months_last                51.657108   94.420408  \n",
       "voluntary_attrition                   0.266808    0.283673  "
      ]
     },
     "execution_count": 54,
     "metadata": {},
     "output_type": "execute_result"
    }
   ],
   "source": [
    "# mean value by variable and cluster\n",
    "kmeans.cluster_means() # Will be sorted by default since evaluate_by has been set"
   ]
  },
  {
   "cell_type": "markdown",
   "metadata": {},
   "source": [
    "* Since we were trying to compare over 40 features across 5 clusters, using a tabular format was not very easy. Hence we developed a special function in the cluster helper object in the *more* library to visualize a heatmap of the cluster means.\n",
    "\n",
    "* For plotting this heatmap, we performed a row-wise scaling (min-max) of the cluster means. This ensured that all the values in the heatmap were between 0 and 1, and that all values could be displayed on a single heatmap with a common scale. For example, for awards_points_cnt_sum_last, cluster 2 had the highest value so its value in the heatmap would translate to 1. Cluster 1 had the lowest value so its value on the heatmap would translate to 0. All other clusters would have values in the heatmap ranging between 0 and 1 depending on their relative position. Similarly, for mgr_11_nunique, cluster 0 has the highest value so its corresponding value in the heatmap would be 1. Cluster 1 had the lowest value so its corresponding value in the heatmap would correspond to 0. All other clusters are also showing a value of 0 since their absolute value is very close to the minimum value for this feature.\n",
    "\n",
    "* Another important thing to note is that while **voluntary_attrition** was not used to cluster the data, we do compare the frequency of this variable across the final clusters to evaluate potentiality of features correlating to attrition. Hence we included the frequency of this variable across the clusters in the heatmap as well (last row). The clusters here are also ordered from low to high **voluntary_attrition**. "
   ]
  },
  {
   "cell_type": "code",
   "execution_count": 55,
   "metadata": {},
   "outputs": [
    {
     "data": {
      "image/png": "[encoded data removed]",
      "text/plain": [
       "<Figure size 1296x1080 with 2 Axes>"
      ]
     },
     "metadata": {},
     "output_type": "display_data"
    }
   ],
   "source": [
    "# heatmap ny varable, cluster, and normalized mean value\n",
    "\n",
    "kmeans.plot_means_heatmap(figsize=(18,15), annot=True)"
   ]
  },
  {
   "cell_type": "markdown",
   "metadata": {},
   "source": [
    "### <i>Cluster Comparisons</i><a class=\"anchor\" id=\"ME_CC\"></a>\n",
    "\n",
    "The above methodology allows us to quickly compare the features across the clusters and find features that are correlated to higher attrition.\n",
    "\n",
    "For example, clusters 0 and 1 have the highest relative attrition while clusters 2, 3 and 4 have relatively lower attrition. Since we are doing min-max scaling in the heatmap, just looking at the colors and values in the heatmap could be misleading (since a min value of 0.20 would translate to 0 and a max value of 0.21 would translate to 1, although they may not be practically different). Hence we should always compare this back to the tabular results. Indeed, these findings hold true (tabular view above heatmap). Clusters 0 and 1 have a mean attrition of 28% and 27% respectively whereas clusters 2, 3, and 4 have a relatively lower attrition (between 16% and 18%).\n",
    "\n",
    "By looking at the feature means between cluster groups (0,1) and (2,3,4) we can gain some valuable insights. \n",
    "\n",
    "##### **High Attrition Clusters**\n",
    "\n",
    "* **Underground** (Cluster 0) seems to be the only cluster which has a relatively high number of managers from level 8 onwards. These are the people towards the bottom of the organizational structure of the company and distant from the CEO and Senior VPs. These employees seem to have higher attrition levels (28%), that can be correlated with their position in the company's structure. People more distant from upper management may feel silenced in the decision making process. There are different approaches such as focus groups with leaders, anonymous surveys, or even an organizational restructure to reduce the number of layers in the organization to boost inclusion and reduce turnover rate.\n",
    "\n",
    "* **Overlooked** (Cluster 1) seems to be unique as well since it consists of employees who have not received many bonus awards. They also have the lowest average tenure of all the clusters at around 52 months (compared to > 90 months for all other clusters). These employees have a pretty high attrition rate (26%) that can be correlated with the low recognition received and lower experience in the company. This can be an indicator that the hiring or on-boarding process could be improved. Furthermore this group has the largest number of employees, indicating that the awards program is not widely applied. This could also indicate there are not many opportunities for new and different job experiences (based on GJS and site variables), especially for low-tenured employees. A shadow program, job rotation, or mentorship program may help on improving employee best fit.\n",
    "\n",
    "##### **Low Attrition Clusters**\n",
    "\n",
    "* **Golden Children** (Cluster 2) seems to consist of employees who have the highest bonuses and peer recognized awards. It seems that this group has the highest comparatio (compensation), but the heatmap is a little misleading here as the difference between the highest (1.01) and lowest (0.97) values is not much and not practically significant. This group has the lowest attrition (17%) and can be an indication of the negative correlation between recognition and turnover.  \n",
    "\n",
    "* **Globe Trotters** (Cluster 3) seems to consist of employees who have worked in multiple countries. This group has also a very low attrition rate (16%). Even if people with a rich and diverse experience are usually at risk of attrition, we notice that the company associates a good retention and recognition practice with these individuals.\n",
    "\n",
    "* **Tried and Trusted** (Cluster 4) seems to consist of employees who are in a supervisory role, have a history of many promotions, and attain high tenure. We see a low turnover for this cluster (17%), and this can be an indication that the company is able to retain leaders. The employees in this cluster may be candidates as mentors in the mentorship program. \n",
    "\n"
   ]
  },
  {
   "cell_type": "markdown",
   "metadata": {},
   "source": [
    "\n",
    "\n"
   ]
  },
  {
   "cell_type": "markdown",
   "metadata": {},
   "source": [
    "### <i>Notable Observations</i><a class=\"anchor\" id=\"ME_NO\"></a>\n",
    "\n",
    "##### Bonus\n",
    "\n",
    "From the above results we find some interesting associations. From the *Underground* cluster, we find that being in a lower level in the hierarchy is associated with a higher attrition rate. What is even more interesting is that this group of employees were given decent award points (small rewards of less than $200 value) but very low bonuses (higher value monetary awards). Hence we can draw insights that providing small awards is probably not a substitute for a bonus and may not be enough to make employees feel appreciated enough to stay.\n",
    "\n",
    "This fact is also reinforced from the <em>Overlooked</em> cluster, where employees that have not received very many awards, bonuses or even peer recognition, also see some of highest rates of attrition.\n",
    "\n",
    "##### Tenure\n",
    "\n",
    "The <em>Overlooked</em> cluster shows another interesting (though not surprising) finding. As explained above, employees in this bucket have the lowest tenure of all groups and one of the highest attrition rates. Although we do not have an age related variable in our dataset, we can speculate with high certainty that this correlated highly with younger employees. This jives well with our intuition that younger employees are more flexible and more open to moving around, and this could be why this group has higher attrition. \n",
    "\n",
    "Since this group had some of the lowest bonus awards, it would be interesting to see if the attrition reduces for this group in the future with more liberal bonus policies.\n",
    "\n",
    "##### Supervisory Roles and Inter-Country Transfers\n",
    "\n",
    "Another interesting association is between supervisors and lower attrition as indicated by the <em>Tried and Trusted</em> cluster. This is also intuitive since being in a supervisory role might mean more trust in the employee which makes the employee feel appreciated. \n",
    "\n",
    "Similarly, an employee who is approved for international transfers is usually trusted by the employer for a high profile role, and this in turn helps the employee feel appreciated.\n",
    "\n",
    "Both these factors are likely to be associated with lower attrition which is what we see in our results as well."
   ]
  },
  {
   "cell_type": "markdown",
   "metadata": {},
   "source": [
    "## <font color = maroon>Deployment</font> <a class=\"anchor\" id=\"Section8\"></a>\n",
    "\n",
    "The purpose of this analysis is to look for opportunities for the human resources team to understand symptoms of attrition in order to develop early intervention processes. The analysis included additional data (**voluntary_attrition**), provided by the subject matter experts (SME) and not used in previous phases of the study, that offered a different point of view relevant for our purposes of understanding how to improve retention. \n",
    "\n",
    "Clustering based on attributes alone was not particularly useful, but by comparing clusters with **voluntary_attrition** we were able to derive actionable insights, such as attrition being associated with peer acknowledgment versus \"official\" acknowledgment. This was valuable information, as the company encourages peer acknowledgment. However, the data suggests that this is no substitution for official recognition if the desire is to reduce attrition. This is important information, so an action item has been noted by the SME to include this as verbiage in supervisor and management training.\n",
    "\n",
    "Based on our findings, we recommend the Company rerun this analysis on an annual basis, as it will require some review and fine-tuning. As the effect of other changes implemented as part of this study will take some time to realize, this cluster analysis should be included as part of the fiscal year end process to provide direction for new goals.\n",
    "\n",
    "As mentioned in the previous phases of the study, a pilot group is recomended to test the impact on the program changes. It will be helpful to include a pilot indicator to analyze the attrition impact. This analysis will help differentiate the attrition factors of the pilot group from the rest of the organization.\n",
    "\n",
    "This information will be aggregated and used to further tune the model. The updated model and any significant changes from the differentiation analysis will be  presented to the human resources leadership and other employees with responsibilites around employee retention.\n"
   ]
  },
  {
   "cell_type": "markdown",
   "metadata": {},
   "source": [
    "\n",
    "[Back to Table of Contents](#TOC)\n"
   ]
  },
  {
   "cell_type": "markdown",
   "metadata": {},
   "source": [
    "\n",
    "## <font color = maroon>Exceptional Work</font> <a class=\"anchor\" id=\"Section9\"></a>\n"
   ]
  },
  {
   "cell_type": "markdown",
   "metadata": {},
   "source": [
    "\n",
    "### <i>Cluster Evaluation Heatmap</i><br> <a class=\"anchor\" id=\"EW_1\"></a>\n",
    "\n",
    "In this clustering analysis, we sought an alternative method to conveying our cluster outputs in a meaningful and insight-driven mode. As a result, we elected to use a heatmap for cluster means to generally depict any differences between our clusters in a visual manner. \n",
    "\n",
    "The drawback here is that our values are scaled via min-max scaling. Because of this, our heatmap may show massive differences when there is virtually no practical difference. For example, for a range with a minima of 0.20 and a maxima of 0.21, our heatmap would show a large difference between these two even though their actual difference is very minimal. \n",
    "\n",
    "To extract meaning out of our heatmaps, we cross-compare our visual results to our tabular results, focusing on attributes that appear to have large differences between clusters. This allows us to focus our attention towards potentially influential attributes while diverting our attention away from inherent noise. \n"
   ]
  },
  {
   "cell_type": "markdown",
   "metadata": {},
   "source": [
    "### <i>Python \"More\" Package</i><br> <a class=\"anchor\" id=\"EW_2\"></a>\n",
    "\n",
    "In order to perform our clustering practice (as well as previous lab activities), we had to import a wide variety of libraries and many user defined functions. These themselves are by no means troublesome. However, this does mean that many cell blocks dedicated to loading packages and defining functions are introduced. As a result, our notebook becomes inundated with many cells that, while essential, provide no meaningful value to our purpose and subsequently drowns the reader in blocks of code. \n",
    "\n",
    "To amend this, Nikhil has compiled many of the Python packages and user defined functions that we have used for the purposes of this course and developed a package (<b>more</b>) that allows the same functionality at a fraction of the code. \n",
    "\n",
    "One (minor) drawback is the additional time needed to maintain, update, and redistribute the package for proper usage. However, this package has been beyond useful in the course of our lab. It has also been distributed to our peers across all sections to help condense their code as well. \n",
    "\n",
    "Information about the package can be found here: https://pypi.org/project/more/ .\n"
   ]
  },
  {
   "cell_type": "markdown",
   "metadata": {},
   "source": [
    "[Back to Table of Contents](#TOC)"
   ]
  },
  {
   "cell_type": "markdown",
   "metadata": {},
   "source": [
    "\n",
    "## <font color=maroon>Conclusion</font><a class=\"anchor\" id=\"Section10\"></a>\n",
    "\n",
    "The cluster analysis was a natural extension of the prior classification phases of this study where we sought to identify candidates for promotion and propose a promotion window for promoted candidates. In this phase, we confined our study to only promoted candidates and searched for indicators of **voluntary_attrition** in order to identify opportunities to improve retention. Based on the cluster analysis, the K-Means clustering provided the best results in terms of interpretable and logical clusters that provided both expected and new insights into employee attrition. The clustering uncovered opportunities around recognition and incentives that can be incorporated and tested in the performance management process, particularly for candidates for promotion and tracked as part of the overall employee retention program. The clustering approach suggested opportunities to improve retention through programs such as mentorships, focus groups with leaders, and surveys.\n"
   ]
  },
  {
   "cell_type": "markdown",
   "metadata": {},
   "source": [
    "[Back to Table of Contents](#TOC)"
   ]
  }
 ],
 "metadata": {
  "kernelspec": {
   "display_name": "Python 3",
   "language": "python",
   "name": "python3"
  },
  "language_info": {
   "codemirror_mode": {
    "name": "ipython",
    "version": 3
   },
   "file_extension": ".py",
   "mimetype": "text/x-python",
   "name": "python",
   "nbconvert_exporter": "python",
   "pygments_lexer": "ipython3",
   "version": "3.7.3"
  },
  "toc": {
   "base_numbering": 1,
   "nav_menu": {},
   "number_sections": true,
   "sideBar": true,
   "skip_h1_title": true,
   "title_cell": "Table of Contents",
   "title_sidebar": "Contents",
   "toc_cell": false,
   "toc_position": {},
   "toc_section_display": true,
   "toc_window_display": true
  }
 },
 "nbformat": 4,
 "nbformat_minor": 4
}
